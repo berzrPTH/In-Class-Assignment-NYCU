{
 "cells": [
  {
   "cell_type": "markdown",
   "metadata": {},
   "source": [
    "## HW3: Decision Tree, Random Forest, and Adaboost\n",
    "In hw3, you need to implement decision tree, random forest and adaboost by using only numpy, then train your implemented model by the provided dataset and test the performance with testing data\n",
    "\n",
    "Please note that only **NUMPY** can be used to implement your model, you will get no points by simply calling sklearn.tree.DecisionTreeClassifier"
   ]
  },
  {
   "cell_type": "code",
   "execution_count": 1,
   "metadata": {},
   "outputs": [],
   "source": [
    "#!pip install sklearn"
   ]
  },
  {
   "cell_type": "markdown",
   "metadata": {},
   "source": [
    "## Load data"
   ]
  },
  {
   "cell_type": "code",
   "execution_count": 2,
   "metadata": {},
   "outputs": [],
   "source": [
    "import numpy as np\n",
    "import pandas as pd\n",
    "from sklearn.datasets import load_breast_cancer\n",
    "from sklearn.metrics import accuracy_score"
   ]
  },
  {
   "cell_type": "code",
   "execution_count": 3,
   "metadata": {},
   "outputs": [
    {
     "output_type": "stream",
     "name": "stdout",
     "text": [
      "['mean radius' 'mean texture' 'mean perimeter' 'mean area'\n 'mean smoothness' 'mean compactness' 'mean concavity'\n 'mean concave points' 'mean symmetry' 'mean fractal dimension'\n 'radius error' 'texture error' 'perimeter error' 'area error'\n 'smoothness error' 'compactness error' 'concavity error'\n 'concave points error' 'symmetry error' 'fractal dimension error'\n 'worst radius' 'worst texture' 'worst perimeter' 'worst area'\n 'worst smoothness' 'worst compactness' 'worst concavity'\n 'worst concave points' 'worst symmetry' 'worst fractal dimension']\n"
     ]
    }
   ],
   "source": [
    "data = load_breast_cancer()\n",
    "feature_names = data['feature_names']\n",
    "print(feature_names)"
   ]
  },
  {
   "cell_type": "code",
   "execution_count": 4,
   "metadata": {},
   "outputs": [],
   "source": [
    "x_train = pd.read_csv(\"x_train.csv\")\n",
    "y_train = pd.read_csv(\"y_train.csv\")\n",
    "x_test = pd.read_csv(\"x_test.csv\")\n",
    "y_test = pd.read_csv(\"y_test.csv\")"
   ]
  },
  {
   "cell_type": "markdown",
   "metadata": {},
   "source": [
    "## Question 1\n",
    "Gini Index or Entropy is often used for measuring the “best” splitting of the data. Please compute the Entropy and Gini Index of provided data. Please use the formula from the course sludes on E3"
   ]
  },
  {
   "cell_type": "code",
   "execution_count": 9,
   "metadata": {},
   "outputs": [
    {
     "output_type": "execute_result",
     "data": {
      "text/plain": [
       "   mean radius  mean texture  mean perimeter  mean area  mean smoothness  \\\n",
       "0        9.423         27.88           59.26      271.3          0.08123   \n",
       "1       12.070         13.44           77.83      445.2          0.11000   \n",
       "2       19.160         26.60          126.20     1138.0          0.10200   \n",
       "3       19.000         18.91          123.40     1138.0          0.08217   \n",
       "4       17.540         19.32          115.10      951.6          0.08968   \n",
       "\n",
       "   mean compactness  mean concavity  mean concave points  mean symmetry  \\\n",
       "0           0.04971         0.00000              0.00000         0.1742   \n",
       "1           0.09009         0.03781              0.02798         0.1657   \n",
       "2           0.14530         0.19210              0.09664         0.1902   \n",
       "3           0.08028         0.09271              0.05627         0.1946   \n",
       "4           0.11980         0.10360              0.07488         0.1506   \n",
       "\n",
       "   mean fractal dimension  ...  worst radius  worst texture  worst perimeter  \\\n",
       "0                 0.06059  ...         10.49          34.24            66.50   \n",
       "1                 0.06608  ...         13.45          15.77            86.92   \n",
       "2                 0.06220  ...         23.72          35.90           159.80   \n",
       "3                 0.05044  ...         22.32          25.73           148.20   \n",
       "4                 0.05491  ...         20.42          25.84           139.50   \n",
       "\n",
       "   worst area  worst smoothness  worst compactness  worst concavity  \\\n",
       "0       330.6            0.1073            0.07158           0.0000   \n",
       "1       549.9            0.1521            0.16320           0.1622   \n",
       "2      1724.0            0.1782            0.38410           0.5754   \n",
       "3      1538.0            0.1021            0.22640           0.3207   \n",
       "4      1239.0            0.1381            0.34200           0.3508   \n",
       "\n",
       "   worst concave points  worst symmetry  worst fractal dimension  \n",
       "0               0.00000          0.2475                  0.06969  \n",
       "1               0.07393          0.2781                  0.08052  \n",
       "2               0.18720          0.3258                  0.09720  \n",
       "3               0.12180          0.2841                  0.06541  \n",
       "4               0.19390          0.2928                  0.07867  \n",
       "\n",
       "[5 rows x 30 columns]"
      ],
      "text/html": "<div>\n<style scoped>\n    .dataframe tbody tr th:only-of-type {\n        vertical-align: middle;\n    }\n\n    .dataframe tbody tr th {\n        vertical-align: top;\n    }\n\n    .dataframe thead th {\n        text-align: right;\n    }\n</style>\n<table border=\"1\" class=\"dataframe\">\n  <thead>\n    <tr style=\"text-align: right;\">\n      <th></th>\n      <th>mean radius</th>\n      <th>mean texture</th>\n      <th>mean perimeter</th>\n      <th>mean area</th>\n      <th>mean smoothness</th>\n      <th>mean compactness</th>\n      <th>mean concavity</th>\n      <th>mean concave points</th>\n      <th>mean symmetry</th>\n      <th>mean fractal dimension</th>\n      <th>...</th>\n      <th>worst radius</th>\n      <th>worst texture</th>\n      <th>worst perimeter</th>\n      <th>worst area</th>\n      <th>worst smoothness</th>\n      <th>worst compactness</th>\n      <th>worst concavity</th>\n      <th>worst concave points</th>\n      <th>worst symmetry</th>\n      <th>worst fractal dimension</th>\n    </tr>\n  </thead>\n  <tbody>\n    <tr>\n      <th>0</th>\n      <td>9.423</td>\n      <td>27.88</td>\n      <td>59.26</td>\n      <td>271.3</td>\n      <td>0.08123</td>\n      <td>0.04971</td>\n      <td>0.00000</td>\n      <td>0.00000</td>\n      <td>0.1742</td>\n      <td>0.06059</td>\n      <td>...</td>\n      <td>10.49</td>\n      <td>34.24</td>\n      <td>66.50</td>\n      <td>330.6</td>\n      <td>0.1073</td>\n      <td>0.07158</td>\n      <td>0.0000</td>\n      <td>0.00000</td>\n      <td>0.2475</td>\n      <td>0.06969</td>\n    </tr>\n    <tr>\n      <th>1</th>\n      <td>12.070</td>\n      <td>13.44</td>\n      <td>77.83</td>\n      <td>445.2</td>\n      <td>0.11000</td>\n      <td>0.09009</td>\n      <td>0.03781</td>\n      <td>0.02798</td>\n      <td>0.1657</td>\n      <td>0.06608</td>\n      <td>...</td>\n      <td>13.45</td>\n      <td>15.77</td>\n      <td>86.92</td>\n      <td>549.9</td>\n      <td>0.1521</td>\n      <td>0.16320</td>\n      <td>0.1622</td>\n      <td>0.07393</td>\n      <td>0.2781</td>\n      <td>0.08052</td>\n    </tr>\n    <tr>\n      <th>2</th>\n      <td>19.160</td>\n      <td>26.60</td>\n      <td>126.20</td>\n      <td>1138.0</td>\n      <td>0.10200</td>\n      <td>0.14530</td>\n      <td>0.19210</td>\n      <td>0.09664</td>\n      <td>0.1902</td>\n      <td>0.06220</td>\n      <td>...</td>\n      <td>23.72</td>\n      <td>35.90</td>\n      <td>159.80</td>\n      <td>1724.0</td>\n      <td>0.1782</td>\n      <td>0.38410</td>\n      <td>0.5754</td>\n      <td>0.18720</td>\n      <td>0.3258</td>\n      <td>0.09720</td>\n    </tr>\n    <tr>\n      <th>3</th>\n      <td>19.000</td>\n      <td>18.91</td>\n      <td>123.40</td>\n      <td>1138.0</td>\n      <td>0.08217</td>\n      <td>0.08028</td>\n      <td>0.09271</td>\n      <td>0.05627</td>\n      <td>0.1946</td>\n      <td>0.05044</td>\n      <td>...</td>\n      <td>22.32</td>\n      <td>25.73</td>\n      <td>148.20</td>\n      <td>1538.0</td>\n      <td>0.1021</td>\n      <td>0.22640</td>\n      <td>0.3207</td>\n      <td>0.12180</td>\n      <td>0.2841</td>\n      <td>0.06541</td>\n    </tr>\n    <tr>\n      <th>4</th>\n      <td>17.540</td>\n      <td>19.32</td>\n      <td>115.10</td>\n      <td>951.6</td>\n      <td>0.08968</td>\n      <td>0.11980</td>\n      <td>0.10360</td>\n      <td>0.07488</td>\n      <td>0.1506</td>\n      <td>0.05491</td>\n      <td>...</td>\n      <td>20.42</td>\n      <td>25.84</td>\n      <td>139.50</td>\n      <td>1239.0</td>\n      <td>0.1381</td>\n      <td>0.34200</td>\n      <td>0.3508</td>\n      <td>0.19390</td>\n      <td>0.2928</td>\n      <td>0.07867</td>\n    </tr>\n  </tbody>\n</table>\n<p>5 rows × 30 columns</p>\n</div>"
     },
     "metadata": {},
     "execution_count": 9
    }
   ],
   "source": [
    "x_train.head()"
   ]
  },
  {
   "cell_type": "code",
   "execution_count": 13,
   "metadata": {},
   "outputs": [],
   "source": [
    "def gini(sequence):\n",
    "    values, counts = np.unique(sequence, return_counts=True)\n",
    "    p_counts = counts / np.sum(counts).item()\n",
    "    return 1 - p_counts @ p_counts\n",
    "\n",
    "def entropy(sequence):\n",
    "    values, counts = np.unique(sequence, return_counts=True)\n",
    "    p_counts = counts / np.sum(counts).item()\n",
    "    return -(p_counts @ np.log2(p_counts))"
   ]
  },
  {
   "cell_type": "code",
   "execution_count": 14,
   "metadata": {},
   "outputs": [],
   "source": [
    "# 1 = class 1,\n",
    "# 2 = class 2\n",
    "data = np.array([1,2,1,1,1,1,2,2,1,1,2])"
   ]
  },
  {
   "cell_type": "code",
   "execution_count": 15,
   "metadata": {},
   "outputs": [
    {
     "output_type": "stream",
     "name": "stdout",
     "text": [
      "Gini of data is  0.4628099173553719\n"
     ]
    }
   ],
   "source": [
    "print(\"Gini of data is \", gini(data))"
   ]
  },
  {
   "cell_type": "code",
   "execution_count": 16,
   "metadata": {},
   "outputs": [
    {
     "output_type": "stream",
     "name": "stdout",
     "text": [
      "Entropy of data is  0.9456603046006401\n"
     ]
    }
   ],
   "source": [
    "print(\"Entropy of data is \", entropy(data))"
   ]
  },
  {
   "cell_type": "markdown",
   "metadata": {},
   "source": [
    "## Question 2\n",
    "Implement the Decision Tree algorithm (CART, Classification and Regression Trees) and trained the model by the given arguments, and print the accuracy score on the test data. You should implement two arguments for the Decision Tree algorithm\n",
    "1. **Criterion**: The function to measure the quality of a split. Your model should support “gini” for the Gini impurity and “entropy” for the information gain. \n",
    "2. **Max_depth**: The maximum depth of the tree. If Max_depth=None, then nodes are expanded until all leaves are pure. Max_depth=1 equals to split data once\n"
   ]
  },
  {
   "cell_type": "code",
   "execution_count": 46,
   "metadata": {},
   "outputs": [],
   "source": [
    "rng = np.random.default_rng()\n",
    "\n",
    "class DecisionTree():\n",
    "    def __init__(self, criterion='gini', max_depth=None):\n",
    "        \"\"\"Decision Tree (CART)\n",
    "\n",
    "        Args:\n",
    "            criterion (str): The criterion used, should be 'gini' or 'entropy'.\n",
    "            max_depth (int): The maximum depth of the tree, if is None, then nodes are expanded to the end.\n",
    "        \"\"\"\n",
    "        if criterion == 'gini':\n",
    "            self.criterion = gini\n",
    "        elif criterion == 'entropy':\n",
    "            self.criterion = entropy\n",
    "        self.max_depth = max_depth\n",
    "        return None\n",
    "    \n",
    "    def split(self, rows, column, threshold):\n",
    "        \"\"\"Split the data in rows according to its value in column by threshold.\n",
    "\n",
    "        Args:\n",
    "            rows (list): The data indices.\n",
    "            column (int): The feature index.\n",
    "            threshold (float): The split threshold.\n",
    "\n",
    "        Returns:\n",
    "            left (list): The indices of data where its feature value < threshold.\n",
    "            right (list): The indices of data where its feature value >= threshold.\n",
    "        \"\"\"\n",
    "        left = list()\n",
    "        right = list()\n",
    "        for row in rows:\n",
    "            value = self.x[row][column]\n",
    "            if value < threshold:\n",
    "                left.append(row)\n",
    "            else:\n",
    "                right.append(row)\n",
    "        \n",
    "        return left, right\n",
    "\n",
    "    def get_split(self, rows):\n",
    "        \"\"\"Get the split of the data in rows by all features.\n",
    "\n",
    "        Args:\n",
    "            rows (list): The data indices.\n",
    "\n",
    "        Returns:\n",
    "            best_column (int): The best feature index.\n",
    "            best_threshold (float): The best split threshold.\n",
    "            best_split (tuple): The data indices of the split, (left, right).\n",
    "            best_pure (float): The weight purity of the split.\n",
    "        \"\"\"\n",
    "        best_pure = self.criterion([self.y[i][0] for i in rows])\n",
    "        best_column = None\n",
    "        best_threshold = None\n",
    "        best_split = None, None\n",
    "        for column, feature in enumerate(feature_names):\n",
    "            for row in rows:\n",
    "                threshold = self.x[row][column]\n",
    "                left, right = self.split(rows, column, threshold)\n",
    "                p = len(left) / len(rows)\n",
    "                pure = self.criterion([self.y[i][0] for i in left]) * p + \\\n",
    "                       self.criterion([self.y[i][0] for i in right]) * (1 - p)\n",
    "                if pure < best_pure:\n",
    "                    best_pure = pure\n",
    "                    best_column = column\n",
    "                    best_threshold = threshold\n",
    "                    best_split = left, right\n",
    "\n",
    "        return best_column, best_threshold, best_split, best_pure\n",
    "\n",
    "    def get_split_rand(self, rows, max_features):\n",
    "        \"\"\"Get the split of the data in rows by randomly selected features.\n",
    "\n",
    "        Args:\n",
    "            rows (list): The data indices.\n",
    "            max_features (int): The number of random select features to consider when looking for the best split.\n",
    "\n",
    "        Returns:\n",
    "            best_column (int): The best feature index.\n",
    "            best_threshold (float): The best split threshold.\n",
    "            best_split (tuple): The data indices of the split, (left, right).\n",
    "            best_pure (float): The weight purity of the split.\n",
    "        \"\"\"\n",
    "        best_pure = self.criterion([self.y[i][0] for i in rows])\n",
    "        best_column = None\n",
    "        best_threshold = None\n",
    "        best_split = None, None\n",
    "        numbers = rng.choice(len(feature_names), size=int(max_features), replace=False)\n",
    "        for column in numbers:\n",
    "            for row in rows:\n",
    "                threshold = self.x[row][column]\n",
    "                left, right = self.split(rows, column, threshold)\n",
    "                p = len(left) / len(rows)\n",
    "                pure = self.criterion([self.y[i][0] for i in left]) * p + \\\n",
    "                       self.criterion([self.y[i][0] for i in right]) * (1 - p)\n",
    "                if pure < best_pure:\n",
    "                    best_pure = pure\n",
    "                    best_column = column\n",
    "                    best_threshold = threshold\n",
    "                    best_split = left, right\n",
    "\n",
    "        return best_column, best_threshold, best_split, best_pure\n",
    "\n",
    "    def fit(self, x, y, boostrap=False, rand=False, max_features=-1):\n",
    "        \"\"\"Fit the model.\n",
    "\n",
    "        Args:\n",
    "            x (list): The data.\n",
    "            y (list): The labels.\n",
    "            boostrap (bool): If bootstrap samples are used when building tree.\n",
    "            rand (bool): If choose feature randomly.\n",
    "            max_features (int): The number of random select features to consider when looking for the best split.\n",
    "\n",
    "        Returns:\n",
    "            root (Node): The tree root.\n",
    "        \"\"\"\n",
    "        self.x = x.to_numpy()\n",
    "        self.y = y.to_numpy()\n",
    "        if boostrap:\n",
    "            picks = rng.choice(len(self.x), size=len(self.x), replace=True)\n",
    "        else:\n",
    "            picks = list(range(len(self.x)))\n",
    "        self.root = Node(picks, 0)\n",
    "        self.node_split(self.root, rand, max_features)\n",
    "        return self.root\n",
    "\n",
    "\n",
    "    def node_split(self, node, rand, max_features):\n",
    "        \"\"\"Split from the given node until reach maximum depth of the tree.\n",
    "\n",
    "        Args:\n",
    "            node (Node): The node for split reference.\n",
    "            rand (bool): If choose feature randomly.\n",
    "            max_features (int): The number of random select features to consider when looking for the best split.\n",
    "        \"\"\"\n",
    "        rows = node.rows\n",
    "        depth = node.depth\n",
    "        if rand:\n",
    "            best_column, best_threshold, best_split, best_pure = self.get_split_rand(rows, max_features)\n",
    "        else:\n",
    "            best_column, best_threshold, best_split, best_pure = self.get_split(rows)\n",
    "        left, right = best_split\n",
    "        node.pure = best_pure\n",
    "        if left and right and depth < self.max_depth:\n",
    "            node.best_column = best_column\n",
    "            node.best_threshold = best_threshold\n",
    "            node.left = Node(left, depth+1)\n",
    "            node.right = Node(right, depth+1)\n",
    "            self.node_split(node.left, rand, max_features)\n",
    "            self.node_split(node.right, rand, max_features)\n",
    "        else:\n",
    "            value, counts = np.unique([self.y[i] for i in rows], return_counts=True)\n",
    "            node.label = value[np.argmax(counts)]\n",
    "\n",
    "    def apply(self, x, y):\n",
    "        \"\"\"Apply the model on given data.\n",
    "\n",
    "        Args:\n",
    "            x (list): The data.\n",
    "            y (list): The labels, only for cheking accuracy.\n",
    "        Returns:\n",
    "            accuracy (float): The accuracy of the model.\n",
    "        \"\"\"\n",
    "        x = x.to_numpy()\n",
    "        y = y.to_numpy()\n",
    "\n",
    "        correct = 0\n",
    "        total = len(x)\n",
    "        for row, features in enumerate(x):\n",
    "            label = self.predict(features)\n",
    "            if label == y[row][0]:\n",
    "                correct += 1\n",
    "\n",
    "        return correct / total\n",
    "\n",
    "    def predict(self, data):\n",
    "        \"\"\"Predict the label for the data.\n",
    "\n",
    "        Args:\n",
    "            data (list): The data feature.\n",
    "\n",
    "        Returns:\n",
    "            label (int): The label.\n",
    "        \"\"\"\n",
    "        node = self.root\n",
    "        while node.label == None:\n",
    "            if data[node.best_column] < node.best_threshold:\n",
    "                node = node.left\n",
    "            else:\n",
    "                node = node.right\n",
    "\n",
    "        return node.label\n",
    "\n",
    "    def feature_importance(self):\n",
    "        \"\"\"Calculate the feature importance of the model.\n",
    "\n",
    "        Returns:\n",
    "            result (dict): The importance dictionary of features.\n",
    "        \"\"\"\n",
    "        feature_list = list(feature_names)\n",
    "        result = dict(zip(feature_list, [0] * len(feature_list)))\n",
    "        \n",
    "        q = [self.root]\n",
    "        while q:\n",
    "            node = q.pop()\n",
    "            if node.label == None:\n",
    "                feature = feature_list[node.best_column]\n",
    "                result[feature] += len(node.rows) * node.pure\n",
    "                if node.left:\n",
    "                    result[feature] -= len(node.left.rows) * node.left.pure\n",
    "                    q.append(node.left)\n",
    "                if node.right:\n",
    "                    result[feature] -= len(node.right.rows) * node.right.pure\n",
    "                    q.append(node.right)\n",
    "        \n",
    "        return result"
   ]
  },
  {
   "cell_type": "code",
   "execution_count": 47,
   "metadata": {},
   "outputs": [],
   "source": [
    "class Node():\n",
    "    def __init__(self, rows, depth):\n",
    "        \"\"\"Node class for DecisionTree.\n",
    "        Args:\n",
    "            rows (list): The indices of data.\n",
    "            depth (int): The current depth.\n",
    "        \"\"\"\n",
    "        self.rows = rows\n",
    "        self.depth = depth\n",
    "        self.best_column = None\n",
    "        self.best_threshold = None\n",
    "        self.label = None\n",
    "        self.left = None\n",
    "        self.right = None\n",
    "        self.pure = None"
   ]
  },
  {
   "cell_type": "markdown",
   "metadata": {},
   "source": [
    "### Question 2.1\n",
    "Using Criterion=‘gini’, showing the accuracy score of test data by Max_depth=3 and Max_depth=10, respectively.\n"
   ]
  },
  {
   "cell_type": "code",
   "execution_count": 28,
   "metadata": {},
   "outputs": [],
   "source": [
    "clf_depth3 = DecisionTree(criterion='gini', max_depth=3)\n",
    "clf_depth10 = DecisionTree(criterion='gini', max_depth=10)"
   ]
  },
  {
   "cell_type": "code",
   "execution_count": 29,
   "metadata": {},
   "outputs": [
    {
     "output_type": "execute_result",
     "data": {
      "text/plain": [
       "<__main__.Node at 0x260e2a621d0>"
      ]
     },
     "metadata": {},
     "execution_count": 29
    }
   ],
   "source": [
    "clf_depth3.fit(x_train, y_train)"
   ]
  },
  {
   "cell_type": "code",
   "execution_count": 31,
   "metadata": {},
   "outputs": [
    {
     "output_type": "execute_result",
     "data": {
      "text/plain": [
       "0.9300699300699301"
      ]
     },
     "metadata": {},
     "execution_count": 31
    }
   ],
   "source": [
    "clf_depth3.apply(x_test, y_test)"
   ]
  },
  {
   "cell_type": "code",
   "execution_count": 32,
   "metadata": {},
   "outputs": [
    {
     "output_type": "execute_result",
     "data": {
      "text/plain": [
       "<__main__.Node at 0x260e1ba5f28>"
      ]
     },
     "metadata": {},
     "execution_count": 32
    }
   ],
   "source": [
    "clf_depth10.fit(x_train, y_train)"
   ]
  },
  {
   "cell_type": "code",
   "execution_count": 33,
   "metadata": {},
   "outputs": [
    {
     "output_type": "execute_result",
     "data": {
      "text/plain": [
       "0.9300699300699301"
      ]
     },
     "metadata": {},
     "execution_count": 33
    }
   ],
   "source": [
    "clf_depth10.apply(x_test, y_test)"
   ]
  },
  {
   "cell_type": "markdown",
   "metadata": {},
   "source": [
    "### Question 2.2\n",
    "Using Max_depth=3, showing the accuracy score of test data by Criterion=‘gini’ and Criterion=’entropy’, respectively.\n"
   ]
  },
  {
   "cell_type": "code",
   "execution_count": 34,
   "metadata": {},
   "outputs": [],
   "source": [
    "clf_gini = DecisionTree(criterion='gini', max_depth=3)\n",
    "clf_entropy = DecisionTree(criterion='entropy', max_depth=3)"
   ]
  },
  {
   "cell_type": "code",
   "execution_count": 35,
   "metadata": {},
   "outputs": [
    {
     "output_type": "execute_result",
     "data": {
      "text/plain": [
       "<__main__.Node at 0x260e1fd89e8>"
      ]
     },
     "metadata": {},
     "execution_count": 35
    }
   ],
   "source": [
    "clf_gini.fit(x_train, y_train)"
   ]
  },
  {
   "cell_type": "code",
   "execution_count": 36,
   "metadata": {},
   "outputs": [
    {
     "output_type": "execute_result",
     "data": {
      "text/plain": [
       "0.9300699300699301"
      ]
     },
     "metadata": {},
     "execution_count": 36
    }
   ],
   "source": [
    "clf_gini.apply(x_test, y_test)"
   ]
  },
  {
   "cell_type": "code",
   "execution_count": 37,
   "metadata": {},
   "outputs": [
    {
     "output_type": "execute_result",
     "data": {
      "text/plain": [
       "<__main__.Node at 0x260e1ba5cc0>"
      ]
     },
     "metadata": {},
     "execution_count": 37
    }
   ],
   "source": [
    "clf_entropy.fit(x_train, y_train)"
   ]
  },
  {
   "cell_type": "code",
   "execution_count": 38,
   "metadata": {},
   "outputs": [
    {
     "output_type": "execute_result",
     "data": {
      "text/plain": [
       "0.9440559440559441"
      ]
     },
     "metadata": {},
     "execution_count": 38
    }
   ],
   "source": [
    "clf_entropy.apply(x_test, y_test)"
   ]
  },
  {
   "cell_type": "markdown",
   "metadata": {},
   "source": [
    "- Note: All of your accuracy scores should over 0.9\n",
    "- Note: You should get the same results when re-building the model with the same arguments,  no need to prune the trees\n",
    "- Hint: You can use the recursive method to build the nodes\n"
   ]
  },
  {
   "cell_type": "markdown",
   "metadata": {},
   "source": [
    "## Question 3\n",
    "Plot the [feature importance](https://sefiks.com/2020/04/06/feature-importance-in-decision-trees/) of your Decision Tree model. You can get the feature importance by counting the feature used for splitting data.\n",
    "\n",
    "- You can simply plot the feature counts for building tree without normalize the importance\n",
    "\n",
    "![image](https://i2.wp.com/sefiks.com/wp-content/uploads/2020/04/c45-fi-results.jpg?w=481&ssl=1)"
   ]
  },
  {
   "cell_type": "code",
   "execution_count": 39,
   "metadata": {},
   "outputs": [],
   "source": [
    "feature_importance = clf_depth10.feature_importance()"
   ]
  },
  {
   "cell_type": "code",
   "execution_count": 42,
   "metadata": {},
   "outputs": [
    {
     "output_type": "display_data",
     "data": {
      "text/plain": "<Figure size 432x288 with 1 Axes>",
      "image/svg+xml": "<?xml version=\"1.0\" encoding=\"utf-8\" standalone=\"no\"?>\r\n<!DOCTYPE svg PUBLIC \"-//W3C//DTD SVG 1.1//EN\"\r\n  \"http://www.w3.org/Graphics/SVG/1.1/DTD/svg11.dtd\">\r\n<!-- Created with matplotlib (https://matplotlib.org/) -->\r\n<svg height=\"280.478125pt\" version=\"1.1\" viewBox=\"0 0 424.776562 280.478125\" width=\"424.776562pt\" xmlns=\"http://www.w3.org/2000/svg\" xmlns:xlink=\"http://www.w3.org/1999/xlink\">\r\n <defs>\r\n  <style type=\"text/css\">\r\n*{stroke-linecap:butt;stroke-linejoin:round;}\r\n  </style>\r\n </defs>\r\n <g id=\"figure_1\">\r\n  <g id=\"patch_1\">\r\n   <path d=\"M -0 280.478125 \r\nL 424.776562 280.478125 \r\nL 424.776562 0 \r\nL -0 0 \r\nz\r\n\" style=\"fill:none;\"/>\r\n  </g>\r\n  <g id=\"axes_1\">\r\n   <g id=\"patch_2\">\r\n    <path d=\"M 132.801562 256.6 \r\nL 417.576562 256.6 \r\nL 417.576562 7.2 \r\nL 132.801562 7.2 \r\nz\r\n\" style=\"fill:#ffffff;\"/>\r\n   </g>\r\n   <g id=\"patch_3\">\r\n    <path clip-path=\"url(#pb7e249fb8e)\" d=\"M 132.801562 18.536364 \r\nL 132.801562 18.536364 \r\nL 132.801562 24.623002 \r\nL 132.801562 24.623002 \r\nz\r\n\" style=\"fill:#1f77b4;\"/>\r\n   </g>\r\n   <g id=\"patch_4\">\r\n    <path clip-path=\"url(#pb7e249fb8e)\" d=\"M 132.801562 26.144661 \r\nL 197.690377 26.144661 \r\nL 197.690377 32.2313 \r\nL 132.801562 32.2313 \r\nz\r\n\" style=\"fill:#1f77b4;\"/>\r\n   </g>\r\n   <g id=\"patch_5\">\r\n    <path clip-path=\"url(#pb7e249fb8e)\" d=\"M 132.801562 33.752959 \r\nL 132.801562 33.752959 \r\nL 132.801562 39.839597 \r\nL 132.801562 39.839597 \r\nz\r\n\" style=\"fill:#1f77b4;\"/>\r\n   </g>\r\n   <g id=\"patch_6\">\r\n    <path clip-path=\"url(#pb7e249fb8e)\" d=\"M 132.801562 41.361257 \r\nL 132.801562 41.361257 \r\nL 132.801562 47.447895 \r\nL 132.801562 47.447895 \r\nz\r\n\" style=\"fill:#1f77b4;\"/>\r\n   </g>\r\n   <g id=\"patch_7\">\r\n    <path clip-path=\"url(#pb7e249fb8e)\" d=\"M 132.801562 48.969555 \r\nL 132.801562 48.969555 \r\nL 132.801562 55.056193 \r\nL 132.801562 55.056193 \r\nz\r\n\" style=\"fill:#1f77b4;\"/>\r\n   </g>\r\n   <g id=\"patch_8\">\r\n    <path clip-path=\"url(#pb7e249fb8e)\" d=\"M 132.801562 56.577852 \r\nL 132.801562 56.577852 \r\nL 132.801562 62.664491 \r\nL 132.801562 62.664491 \r\nz\r\n\" style=\"fill:#1f77b4;\"/>\r\n   </g>\r\n   <g id=\"patch_9\">\r\n    <path clip-path=\"url(#pb7e249fb8e)\" d=\"M 132.801562 64.18615 \r\nL 132.801562 64.18615 \r\nL 132.801562 70.272788 \r\nL 132.801562 70.272788 \r\nz\r\n\" style=\"fill:#1f77b4;\"/>\r\n   </g>\r\n   <g id=\"patch_10\">\r\n    <path clip-path=\"url(#pb7e249fb8e)\" d=\"M 132.801562 71.794448 \r\nL 138.80087 71.794448 \r\nL 138.80087 77.881086 \r\nL 132.801562 77.881086 \r\nz\r\n\" style=\"fill:#1f77b4;\"/>\r\n   </g>\r\n   <g id=\"patch_11\">\r\n    <path clip-path=\"url(#pb7e249fb8e)\" d=\"M 132.801562 79.402746 \r\nL 132.801562 79.402746 \r\nL 132.801562 85.489384 \r\nL 132.801562 85.489384 \r\nz\r\n\" style=\"fill:#1f77b4;\"/>\r\n   </g>\r\n   <g id=\"patch_12\">\r\n    <path clip-path=\"url(#pb7e249fb8e)\" d=\"M 132.801562 87.011043 \r\nL 132.801562 87.011043 \r\nL 132.801562 93.097682 \r\nL 132.801562 93.097682 \r\nz\r\n\" style=\"fill:#1f77b4;\"/>\r\n   </g>\r\n   <g id=\"patch_13\">\r\n    <path clip-path=\"url(#pb7e249fb8e)\" d=\"M 132.801562 94.619341 \r\nL 132.801562 94.619341 \r\nL 132.801562 100.705979 \r\nL 132.801562 100.705979 \r\nz\r\n\" style=\"fill:#1f77b4;\"/>\r\n   </g>\r\n   <g id=\"patch_14\">\r\n    <path clip-path=\"url(#pb7e249fb8e)\" d=\"M 132.801562 102.227639 \r\nL 132.801562 102.227639 \r\nL 132.801562 108.314277 \r\nL 132.801562 108.314277 \r\nz\r\n\" style=\"fill:#1f77b4;\"/>\r\n   </g>\r\n   <g id=\"patch_15\">\r\n    <path clip-path=\"url(#pb7e249fb8e)\" d=\"M 132.801562 109.835937 \r\nL 132.801562 109.835937 \r\nL 132.801562 115.922575 \r\nL 132.801562 115.922575 \r\nz\r\n\" style=\"fill:#1f77b4;\"/>\r\n   </g>\r\n   <g id=\"patch_16\">\r\n    <path clip-path=\"url(#pb7e249fb8e)\" d=\"M 132.801562 117.444234 \r\nL 143.020976 117.444234 \r\nL 143.020976 123.530872 \r\nL 132.801562 123.530872 \r\nz\r\n\" style=\"fill:#1f77b4;\"/>\r\n   </g>\r\n   <g id=\"patch_17\">\r\n    <path clip-path=\"url(#pb7e249fb8e)\" d=\"M 132.801562 125.052532 \r\nL 132.801562 125.052532 \r\nL 132.801562 131.13917 \r\nL 132.801562 131.13917 \r\nz\r\n\" style=\"fill:#1f77b4;\"/>\r\n   </g>\r\n   <g id=\"patch_18\">\r\n    <path clip-path=\"url(#pb7e249fb8e)\" d=\"M 132.801562 132.66083 \r\nL 132.801562 132.66083 \r\nL 132.801562 138.747468 \r\nL 132.801562 138.747468 \r\nz\r\n\" style=\"fill:#1f77b4;\"/>\r\n   </g>\r\n   <g id=\"patch_19\">\r\n    <path clip-path=\"url(#pb7e249fb8e)\" d=\"M 132.801562 140.269128 \r\nL 132.801562 140.269128 \r\nL 132.801562 146.355766 \r\nL 132.801562 146.355766 \r\nz\r\n\" style=\"fill:#1f77b4;\"/>\r\n   </g>\r\n   <g id=\"patch_20\">\r\n    <path clip-path=\"url(#pb7e249fb8e)\" d=\"M 132.801562 147.877425 \r\nL 132.801562 147.877425 \r\nL 132.801562 153.964063 \r\nL 132.801562 153.964063 \r\nz\r\n\" style=\"fill:#1f77b4;\"/>\r\n   </g>\r\n   <g id=\"patch_21\">\r\n    <path clip-path=\"url(#pb7e249fb8e)\" d=\"M 132.801562 155.485723 \r\nL 132.801562 155.485723 \r\nL 132.801562 161.572361 \r\nL 132.801562 161.572361 \r\nz\r\n\" style=\"fill:#1f77b4;\"/>\r\n   </g>\r\n   <g id=\"patch_22\">\r\n    <path clip-path=\"url(#pb7e249fb8e)\" d=\"M 132.801562 163.094021 \r\nL 132.801562 163.094021 \r\nL 132.801562 169.180659 \r\nL 132.801562 169.180659 \r\nz\r\n\" style=\"fill:#1f77b4;\"/>\r\n   </g>\r\n   <g id=\"patch_23\">\r\n    <path clip-path=\"url(#pb7e249fb8e)\" d=\"M 132.801562 170.702318 \r\nL 404.015848 170.702318 \r\nL 404.015848 176.788957 \r\nL 132.801562 176.788957 \r\nz\r\n\" style=\"fill:#1f77b4;\"/>\r\n   </g>\r\n   <g id=\"patch_24\">\r\n    <path clip-path=\"url(#pb7e249fb8e)\" d=\"M 132.801562 178.310616 \r\nL 190.945254 178.310616 \r\nL 190.945254 184.397254 \r\nL 132.801562 184.397254 \r\nz\r\n\" style=\"fill:#1f77b4;\"/>\r\n   </g>\r\n   <g id=\"patch_25\">\r\n    <path clip-path=\"url(#pb7e249fb8e)\" d=\"M 132.801562 185.918914 \r\nL 132.801562 185.918914 \r\nL 132.801562 192.005552 \r\nL 132.801562 192.005552 \r\nz\r\n\" style=\"fill:#1f77b4;\"/>\r\n   </g>\r\n   <g id=\"patch_26\">\r\n    <path clip-path=\"url(#pb7e249fb8e)\" d=\"M 132.801562 193.527212 \r\nL 163.361599 193.527212 \r\nL 163.361599 199.61385 \r\nL 132.801562 199.61385 \r\nz\r\n\" style=\"fill:#1f77b4;\"/>\r\n   </g>\r\n   <g id=\"patch_27\">\r\n    <path clip-path=\"url(#pb7e249fb8e)\" d=\"M 132.801562 201.135509 \r\nL 132.801562 201.135509 \r\nL 132.801562 207.222148 \r\nL 132.801562 207.222148 \r\nz\r\n\" style=\"fill:#1f77b4;\"/>\r\n   </g>\r\n   <g id=\"patch_28\">\r\n    <path clip-path=\"url(#pb7e249fb8e)\" d=\"M 132.801562 208.743807 \r\nL 132.801562 208.743807 \r\nL 132.801562 214.830445 \r\nL 132.801562 214.830445 \r\nz\r\n\" style=\"fill:#1f77b4;\"/>\r\n   </g>\r\n   <g id=\"patch_29\">\r\n    <path clip-path=\"url(#pb7e249fb8e)\" d=\"M 132.801562 216.352105 \r\nL 145.081395 216.352105 \r\nL 145.081395 222.438743 \r\nL 132.801562 222.438743 \r\nz\r\n\" style=\"fill:#1f77b4;\"/>\r\n   </g>\r\n   <g id=\"patch_30\">\r\n    <path clip-path=\"url(#pb7e249fb8e)\" d=\"M 132.801562 223.960403 \r\nL 208.572486 223.960403 \r\nL 208.572486 230.047041 \r\nL 132.801562 230.047041 \r\nz\r\n\" style=\"fill:#1f77b4;\"/>\r\n   </g>\r\n   <g id=\"patch_31\">\r\n    <path clip-path=\"url(#pb7e249fb8e)\" d=\"M 132.801562 231.5687 \r\nL 132.801562 231.5687 \r\nL 132.801562 237.655339 \r\nL 132.801562 237.655339 \r\nz\r\n\" style=\"fill:#1f77b4;\"/>\r\n   </g>\r\n   <g id=\"patch_32\">\r\n    <path clip-path=\"url(#pb7e249fb8e)\" d=\"M 132.801562 239.176998 \r\nL 132.801562 239.176998 \r\nL 132.801562 245.263636 \r\nL 132.801562 245.263636 \r\nz\r\n\" style=\"fill:#1f77b4;\"/>\r\n   </g>\r\n   <g id=\"matplotlib.axis_1\">\r\n    <g id=\"xtick_1\">\r\n     <g id=\"line2d_1\">\r\n      <defs>\r\n       <path d=\"M 0 0 \r\nL 0 3.5 \r\n\" id=\"m519e1bd5a4\" style=\"stroke:#000000;stroke-width:0.8;\"/>\r\n      </defs>\r\n      <g>\r\n       <use style=\"stroke:#000000;stroke-width:0.8;\" x=\"132.801562\" xlink:href=\"#m519e1bd5a4\" y=\"256.6\"/>\r\n      </g>\r\n     </g>\r\n     <g id=\"text_1\">\r\n      <!-- 0 -->\r\n      <defs>\r\n       <path d=\"M 31.78125 66.40625 \r\nQ 24.171875 66.40625 20.328125 58.90625 \r\nQ 16.5 51.421875 16.5 36.375 \r\nQ 16.5 21.390625 20.328125 13.890625 \r\nQ 24.171875 6.390625 31.78125 6.390625 \r\nQ 39.453125 6.390625 43.28125 13.890625 \r\nQ 47.125 21.390625 47.125 36.375 \r\nQ 47.125 51.421875 43.28125 58.90625 \r\nQ 39.453125 66.40625 31.78125 66.40625 \r\nz\r\nM 31.78125 74.21875 \r\nQ 44.046875 74.21875 50.515625 64.515625 \r\nQ 56.984375 54.828125 56.984375 36.375 \r\nQ 56.984375 17.96875 50.515625 8.265625 \r\nQ 44.046875 -1.421875 31.78125 -1.421875 \r\nQ 19.53125 -1.421875 13.0625 8.265625 \r\nQ 6.59375 17.96875 6.59375 36.375 \r\nQ 6.59375 54.828125 13.0625 64.515625 \r\nQ 19.53125 74.21875 31.78125 74.21875 \r\nz\r\n\" id=\"DejaVuSans-48\"/>\r\n      </defs>\r\n      <g transform=\"translate(129.620312 271.198437)scale(0.1 -0.1)\">\r\n       <use xlink:href=\"#DejaVuSans-48\"/>\r\n      </g>\r\n     </g>\r\n    </g>\r\n    <g id=\"xtick_2\">\r\n     <g id=\"line2d_2\">\r\n      <g>\r\n       <use style=\"stroke:#000000;stroke-width:0.8;\" x=\"178.850933\" xlink:href=\"#m519e1bd5a4\" y=\"256.6\"/>\r\n      </g>\r\n     </g>\r\n     <g id=\"text_2\">\r\n      <!-- 5 -->\r\n      <defs>\r\n       <path d=\"M 10.796875 72.90625 \r\nL 49.515625 72.90625 \r\nL 49.515625 64.59375 \r\nL 19.828125 64.59375 \r\nL 19.828125 46.734375 \r\nQ 21.96875 47.46875 24.109375 47.828125 \r\nQ 26.265625 48.1875 28.421875 48.1875 \r\nQ 40.625 48.1875 47.75 41.5 \r\nQ 54.890625 34.8125 54.890625 23.390625 \r\nQ 54.890625 11.625 47.5625 5.09375 \r\nQ 40.234375 -1.421875 26.90625 -1.421875 \r\nQ 22.3125 -1.421875 17.546875 -0.640625 \r\nQ 12.796875 0.140625 7.71875 1.703125 \r\nL 7.71875 11.625 \r\nQ 12.109375 9.234375 16.796875 8.0625 \r\nQ 21.484375 6.890625 26.703125 6.890625 \r\nQ 35.15625 6.890625 40.078125 11.328125 \r\nQ 45.015625 15.765625 45.015625 23.390625 \r\nQ 45.015625 31 40.078125 35.4375 \r\nQ 35.15625 39.890625 26.703125 39.890625 \r\nQ 22.75 39.890625 18.8125 39.015625 \r\nQ 14.890625 38.140625 10.796875 36.28125 \r\nz\r\n\" id=\"DejaVuSans-53\"/>\r\n      </defs>\r\n      <g transform=\"translate(175.669683 271.198437)scale(0.1 -0.1)\">\r\n       <use xlink:href=\"#DejaVuSans-53\"/>\r\n      </g>\r\n     </g>\r\n    </g>\r\n    <g id=\"xtick_3\">\r\n     <g id=\"line2d_3\">\r\n      <g>\r\n       <use style=\"stroke:#000000;stroke-width:0.8;\" x=\"224.900304\" xlink:href=\"#m519e1bd5a4\" y=\"256.6\"/>\r\n      </g>\r\n     </g>\r\n     <g id=\"text_3\">\r\n      <!-- 10 -->\r\n      <defs>\r\n       <path d=\"M 12.40625 8.296875 \r\nL 28.515625 8.296875 \r\nL 28.515625 63.921875 \r\nL 10.984375 60.40625 \r\nL 10.984375 69.390625 \r\nL 28.421875 72.90625 \r\nL 38.28125 72.90625 \r\nL 38.28125 8.296875 \r\nL 54.390625 8.296875 \r\nL 54.390625 0 \r\nL 12.40625 0 \r\nz\r\n\" id=\"DejaVuSans-49\"/>\r\n      </defs>\r\n      <g transform=\"translate(218.537804 271.198437)scale(0.1 -0.1)\">\r\n       <use xlink:href=\"#DejaVuSans-49\"/>\r\n       <use x=\"63.623047\" xlink:href=\"#DejaVuSans-48\"/>\r\n      </g>\r\n     </g>\r\n    </g>\r\n    <g id=\"xtick_4\">\r\n     <g id=\"line2d_4\">\r\n      <g>\r\n       <use style=\"stroke:#000000;stroke-width:0.8;\" x=\"270.949674\" xlink:href=\"#m519e1bd5a4\" y=\"256.6\"/>\r\n      </g>\r\n     </g>\r\n     <g id=\"text_4\">\r\n      <!-- 15 -->\r\n      <g transform=\"translate(264.587174 271.198437)scale(0.1 -0.1)\">\r\n       <use xlink:href=\"#DejaVuSans-49\"/>\r\n       <use x=\"63.623047\" xlink:href=\"#DejaVuSans-53\"/>\r\n      </g>\r\n     </g>\r\n    </g>\r\n    <g id=\"xtick_5\">\r\n     <g id=\"line2d_5\">\r\n      <g>\r\n       <use style=\"stroke:#000000;stroke-width:0.8;\" x=\"316.999045\" xlink:href=\"#m519e1bd5a4\" y=\"256.6\"/>\r\n      </g>\r\n     </g>\r\n     <g id=\"text_5\">\r\n      <!-- 20 -->\r\n      <defs>\r\n       <path d=\"M 19.1875 8.296875 \r\nL 53.609375 8.296875 \r\nL 53.609375 0 \r\nL 7.328125 0 \r\nL 7.328125 8.296875 \r\nQ 12.9375 14.109375 22.625 23.890625 \r\nQ 32.328125 33.6875 34.8125 36.53125 \r\nQ 39.546875 41.84375 41.421875 45.53125 \r\nQ 43.3125 49.21875 43.3125 52.78125 \r\nQ 43.3125 58.59375 39.234375 62.25 \r\nQ 35.15625 65.921875 28.609375 65.921875 \r\nQ 23.96875 65.921875 18.8125 64.3125 \r\nQ 13.671875 62.703125 7.8125 59.421875 \r\nL 7.8125 69.390625 \r\nQ 13.765625 71.78125 18.9375 73 \r\nQ 24.125 74.21875 28.421875 74.21875 \r\nQ 39.75 74.21875 46.484375 68.546875 \r\nQ 53.21875 62.890625 53.21875 53.421875 \r\nQ 53.21875 48.921875 51.53125 44.890625 \r\nQ 49.859375 40.875 45.40625 35.40625 \r\nQ 44.1875 33.984375 37.640625 27.21875 \r\nQ 31.109375 20.453125 19.1875 8.296875 \r\nz\r\n\" id=\"DejaVuSans-50\"/>\r\n      </defs>\r\n      <g transform=\"translate(310.636545 271.198437)scale(0.1 -0.1)\">\r\n       <use xlink:href=\"#DejaVuSans-50\"/>\r\n       <use x=\"63.623047\" xlink:href=\"#DejaVuSans-48\"/>\r\n      </g>\r\n     </g>\r\n    </g>\r\n    <g id=\"xtick_6\">\r\n     <g id=\"line2d_6\">\r\n      <g>\r\n       <use style=\"stroke:#000000;stroke-width:0.8;\" x=\"363.048416\" xlink:href=\"#m519e1bd5a4\" y=\"256.6\"/>\r\n      </g>\r\n     </g>\r\n     <g id=\"text_6\">\r\n      <!-- 25 -->\r\n      <g transform=\"translate(356.685916 271.198437)scale(0.1 -0.1)\">\r\n       <use xlink:href=\"#DejaVuSans-50\"/>\r\n       <use x=\"63.623047\" xlink:href=\"#DejaVuSans-53\"/>\r\n      </g>\r\n     </g>\r\n    </g>\r\n    <g id=\"xtick_7\">\r\n     <g id=\"line2d_7\">\r\n      <g>\r\n       <use style=\"stroke:#000000;stroke-width:0.8;\" x=\"409.097786\" xlink:href=\"#m519e1bd5a4\" y=\"256.6\"/>\r\n      </g>\r\n     </g>\r\n     <g id=\"text_7\">\r\n      <!-- 30 -->\r\n      <defs>\r\n       <path d=\"M 40.578125 39.3125 \r\nQ 47.65625 37.796875 51.625 33 \r\nQ 55.609375 28.21875 55.609375 21.1875 \r\nQ 55.609375 10.40625 48.1875 4.484375 \r\nQ 40.765625 -1.421875 27.09375 -1.421875 \r\nQ 22.515625 -1.421875 17.65625 -0.515625 \r\nQ 12.796875 0.390625 7.625 2.203125 \r\nL 7.625 11.71875 \r\nQ 11.71875 9.328125 16.59375 8.109375 \r\nQ 21.484375 6.890625 26.8125 6.890625 \r\nQ 36.078125 6.890625 40.9375 10.546875 \r\nQ 45.796875 14.203125 45.796875 21.1875 \r\nQ 45.796875 27.640625 41.28125 31.265625 \r\nQ 36.765625 34.90625 28.71875 34.90625 \r\nL 20.21875 34.90625 \r\nL 20.21875 43.015625 \r\nL 29.109375 43.015625 \r\nQ 36.375 43.015625 40.234375 45.921875 \r\nQ 44.09375 48.828125 44.09375 54.296875 \r\nQ 44.09375 59.90625 40.109375 62.90625 \r\nQ 36.140625 65.921875 28.71875 65.921875 \r\nQ 24.65625 65.921875 20.015625 65.03125 \r\nQ 15.375 64.15625 9.8125 62.3125 \r\nL 9.8125 71.09375 \r\nQ 15.4375 72.65625 20.34375 73.4375 \r\nQ 25.25 74.21875 29.59375 74.21875 \r\nQ 40.828125 74.21875 47.359375 69.109375 \r\nQ 53.90625 64.015625 53.90625 55.328125 \r\nQ 53.90625 49.265625 50.4375 45.09375 \r\nQ 46.96875 40.921875 40.578125 39.3125 \r\nz\r\n\" id=\"DejaVuSans-51\"/>\r\n      </defs>\r\n      <g transform=\"translate(402.735286 271.198437)scale(0.1 -0.1)\">\r\n       <use xlink:href=\"#DejaVuSans-51\"/>\r\n       <use x=\"63.623047\" xlink:href=\"#DejaVuSans-48\"/>\r\n      </g>\r\n     </g>\r\n    </g>\r\n   </g>\r\n   <g id=\"matplotlib.axis_2\">\r\n    <g id=\"ytick_1\">\r\n     <g id=\"line2d_8\">\r\n      <defs>\r\n       <path d=\"M 0 0 \r\nL -3.5 0 \r\n\" id=\"m33d71de9ad\" style=\"stroke:#000000;stroke-width:0.8;\"/>\r\n      </defs>\r\n      <g>\r\n       <use style=\"stroke:#000000;stroke-width:0.8;\" x=\"132.801562\" xlink:href=\"#m33d71de9ad\" y=\"21.579683\"/>\r\n      </g>\r\n     </g>\r\n     <g id=\"text_8\">\r\n      <!-- mean radius -->\r\n      <defs>\r\n       <path d=\"M 52 44.1875 \r\nQ 55.375 50.25 60.0625 53.125 \r\nQ 64.75 56 71.09375 56 \r\nQ 79.640625 56 84.28125 50.015625 \r\nQ 88.921875 44.046875 88.921875 33.015625 \r\nL 88.921875 0 \r\nL 79.890625 0 \r\nL 79.890625 32.71875 \r\nQ 79.890625 40.578125 77.09375 44.375 \r\nQ 74.3125 48.1875 68.609375 48.1875 \r\nQ 61.625 48.1875 57.5625 43.546875 \r\nQ 53.515625 38.921875 53.515625 30.90625 \r\nL 53.515625 0 \r\nL 44.484375 0 \r\nL 44.484375 32.71875 \r\nQ 44.484375 40.625 41.703125 44.40625 \r\nQ 38.921875 48.1875 33.109375 48.1875 \r\nQ 26.21875 48.1875 22.15625 43.53125 \r\nQ 18.109375 38.875 18.109375 30.90625 \r\nL 18.109375 0 \r\nL 9.078125 0 \r\nL 9.078125 54.6875 \r\nL 18.109375 54.6875 \r\nL 18.109375 46.1875 \r\nQ 21.1875 51.21875 25.484375 53.609375 \r\nQ 29.78125 56 35.6875 56 \r\nQ 41.65625 56 45.828125 52.96875 \r\nQ 50 49.953125 52 44.1875 \r\nz\r\n\" id=\"DejaVuSans-109\"/>\r\n       <path d=\"M 56.203125 29.59375 \r\nL 56.203125 25.203125 \r\nL 14.890625 25.203125 \r\nQ 15.484375 15.921875 20.484375 11.0625 \r\nQ 25.484375 6.203125 34.421875 6.203125 \r\nQ 39.59375 6.203125 44.453125 7.46875 \r\nQ 49.3125 8.734375 54.109375 11.28125 \r\nL 54.109375 2.78125 \r\nQ 49.265625 0.734375 44.1875 -0.34375 \r\nQ 39.109375 -1.421875 33.890625 -1.421875 \r\nQ 20.796875 -1.421875 13.15625 6.1875 \r\nQ 5.515625 13.8125 5.515625 26.8125 \r\nQ 5.515625 40.234375 12.765625 48.109375 \r\nQ 20.015625 56 32.328125 56 \r\nQ 43.359375 56 49.78125 48.890625 \r\nQ 56.203125 41.796875 56.203125 29.59375 \r\nz\r\nM 47.21875 32.234375 \r\nQ 47.125 39.59375 43.09375 43.984375 \r\nQ 39.0625 48.390625 32.421875 48.390625 \r\nQ 24.90625 48.390625 20.390625 44.140625 \r\nQ 15.875 39.890625 15.1875 32.171875 \r\nz\r\n\" id=\"DejaVuSans-101\"/>\r\n       <path d=\"M 34.28125 27.484375 \r\nQ 23.390625 27.484375 19.1875 25 \r\nQ 14.984375 22.515625 14.984375 16.5 \r\nQ 14.984375 11.71875 18.140625 8.90625 \r\nQ 21.296875 6.109375 26.703125 6.109375 \r\nQ 34.1875 6.109375 38.703125 11.40625 \r\nQ 43.21875 16.703125 43.21875 25.484375 \r\nL 43.21875 27.484375 \r\nz\r\nM 52.203125 31.203125 \r\nL 52.203125 0 \r\nL 43.21875 0 \r\nL 43.21875 8.296875 \r\nQ 40.140625 3.328125 35.546875 0.953125 \r\nQ 30.953125 -1.421875 24.3125 -1.421875 \r\nQ 15.921875 -1.421875 10.953125 3.296875 \r\nQ 6 8.015625 6 15.921875 \r\nQ 6 25.140625 12.171875 29.828125 \r\nQ 18.359375 34.515625 30.609375 34.515625 \r\nL 43.21875 34.515625 \r\nL 43.21875 35.40625 \r\nQ 43.21875 41.609375 39.140625 45 \r\nQ 35.0625 48.390625 27.6875 48.390625 \r\nQ 23 48.390625 18.546875 47.265625 \r\nQ 14.109375 46.140625 10.015625 43.890625 \r\nL 10.015625 52.203125 \r\nQ 14.9375 54.109375 19.578125 55.046875 \r\nQ 24.21875 56 28.609375 56 \r\nQ 40.484375 56 46.34375 49.84375 \r\nQ 52.203125 43.703125 52.203125 31.203125 \r\nz\r\n\" id=\"DejaVuSans-97\"/>\r\n       <path d=\"M 54.890625 33.015625 \r\nL 54.890625 0 \r\nL 45.90625 0 \r\nL 45.90625 32.71875 \r\nQ 45.90625 40.484375 42.875 44.328125 \r\nQ 39.84375 48.1875 33.796875 48.1875 \r\nQ 26.515625 48.1875 22.3125 43.546875 \r\nQ 18.109375 38.921875 18.109375 30.90625 \r\nL 18.109375 0 \r\nL 9.078125 0 \r\nL 9.078125 54.6875 \r\nL 18.109375 54.6875 \r\nL 18.109375 46.1875 \r\nQ 21.34375 51.125 25.703125 53.5625 \r\nQ 30.078125 56 35.796875 56 \r\nQ 45.21875 56 50.046875 50.171875 \r\nQ 54.890625 44.34375 54.890625 33.015625 \r\nz\r\n\" id=\"DejaVuSans-110\"/>\r\n       <path id=\"DejaVuSans-32\"/>\r\n       <path d=\"M 41.109375 46.296875 \r\nQ 39.59375 47.171875 37.8125 47.578125 \r\nQ 36.03125 48 33.890625 48 \r\nQ 26.265625 48 22.1875 43.046875 \r\nQ 18.109375 38.09375 18.109375 28.8125 \r\nL 18.109375 0 \r\nL 9.078125 0 \r\nL 9.078125 54.6875 \r\nL 18.109375 54.6875 \r\nL 18.109375 46.1875 \r\nQ 20.953125 51.171875 25.484375 53.578125 \r\nQ 30.03125 56 36.53125 56 \r\nQ 37.453125 56 38.578125 55.875 \r\nQ 39.703125 55.765625 41.0625 55.515625 \r\nz\r\n\" id=\"DejaVuSans-114\"/>\r\n       <path d=\"M 45.40625 46.390625 \r\nL 45.40625 75.984375 \r\nL 54.390625 75.984375 \r\nL 54.390625 0 \r\nL 45.40625 0 \r\nL 45.40625 8.203125 \r\nQ 42.578125 3.328125 38.25 0.953125 \r\nQ 33.9375 -1.421875 27.875 -1.421875 \r\nQ 17.96875 -1.421875 11.734375 6.484375 \r\nQ 5.515625 14.40625 5.515625 27.296875 \r\nQ 5.515625 40.1875 11.734375 48.09375 \r\nQ 17.96875 56 27.875 56 \r\nQ 33.9375 56 38.25 53.625 \r\nQ 42.578125 51.265625 45.40625 46.390625 \r\nz\r\nM 14.796875 27.296875 \r\nQ 14.796875 17.390625 18.875 11.75 \r\nQ 22.953125 6.109375 30.078125 6.109375 \r\nQ 37.203125 6.109375 41.296875 11.75 \r\nQ 45.40625 17.390625 45.40625 27.296875 \r\nQ 45.40625 37.203125 41.296875 42.84375 \r\nQ 37.203125 48.484375 30.078125 48.484375 \r\nQ 22.953125 48.484375 18.875 42.84375 \r\nQ 14.796875 37.203125 14.796875 27.296875 \r\nz\r\n\" id=\"DejaVuSans-100\"/>\r\n       <path d=\"M 9.421875 54.6875 \r\nL 18.40625 54.6875 \r\nL 18.40625 0 \r\nL 9.421875 0 \r\nz\r\nM 9.421875 75.984375 \r\nL 18.40625 75.984375 \r\nL 18.40625 64.59375 \r\nL 9.421875 64.59375 \r\nz\r\n\" id=\"DejaVuSans-105\"/>\r\n       <path d=\"M 8.5 21.578125 \r\nL 8.5 54.6875 \r\nL 17.484375 54.6875 \r\nL 17.484375 21.921875 \r\nQ 17.484375 14.15625 20.5 10.265625 \r\nQ 23.53125 6.390625 29.59375 6.390625 \r\nQ 36.859375 6.390625 41.078125 11.03125 \r\nQ 45.3125 15.671875 45.3125 23.6875 \r\nL 45.3125 54.6875 \r\nL 54.296875 54.6875 \r\nL 54.296875 0 \r\nL 45.3125 0 \r\nL 45.3125 8.40625 \r\nQ 42.046875 3.421875 37.71875 1 \r\nQ 33.40625 -1.421875 27.6875 -1.421875 \r\nQ 18.265625 -1.421875 13.375 4.4375 \r\nQ 8.5 10.296875 8.5 21.578125 \r\nz\r\nM 31.109375 56 \r\nz\r\n\" id=\"DejaVuSans-117\"/>\r\n       <path d=\"M 44.28125 53.078125 \r\nL 44.28125 44.578125 \r\nQ 40.484375 46.53125 36.375 47.5 \r\nQ 32.28125 48.484375 27.875 48.484375 \r\nQ 21.1875 48.484375 17.84375 46.4375 \r\nQ 14.5 44.390625 14.5 40.28125 \r\nQ 14.5 37.15625 16.890625 35.375 \r\nQ 19.28125 33.59375 26.515625 31.984375 \r\nL 29.59375 31.296875 \r\nQ 39.15625 29.25 43.1875 25.515625 \r\nQ 47.21875 21.78125 47.21875 15.09375 \r\nQ 47.21875 7.46875 41.1875 3.015625 \r\nQ 35.15625 -1.421875 24.609375 -1.421875 \r\nQ 20.21875 -1.421875 15.453125 -0.5625 \r\nQ 10.6875 0.296875 5.421875 2 \r\nL 5.421875 11.28125 \r\nQ 10.40625 8.6875 15.234375 7.390625 \r\nQ 20.0625 6.109375 24.8125 6.109375 \r\nQ 31.15625 6.109375 34.5625 8.28125 \r\nQ 37.984375 10.453125 37.984375 14.40625 \r\nQ 37.984375 18.0625 35.515625 20.015625 \r\nQ 33.0625 21.96875 24.703125 23.78125 \r\nL 21.578125 24.515625 \r\nQ 13.234375 26.265625 9.515625 29.90625 \r\nQ 5.8125 33.546875 5.8125 39.890625 \r\nQ 5.8125 47.609375 11.28125 51.796875 \r\nQ 16.75 56 26.8125 56 \r\nQ 31.78125 56 36.171875 55.265625 \r\nQ 40.578125 54.546875 44.28125 53.078125 \r\nz\r\n\" id=\"DejaVuSans-115\"/>\r\n      </defs>\r\n      <g transform=\"translate(63.351562 25.378901)scale(0.1 -0.1)\">\r\n       <use xlink:href=\"#DejaVuSans-109\"/>\r\n       <use x=\"97.412109\" xlink:href=\"#DejaVuSans-101\"/>\r\n       <use x=\"158.935547\" xlink:href=\"#DejaVuSans-97\"/>\r\n       <use x=\"220.214844\" xlink:href=\"#DejaVuSans-110\"/>\r\n       <use x=\"283.59375\" xlink:href=\"#DejaVuSans-32\"/>\r\n       <use x=\"315.380859\" xlink:href=\"#DejaVuSans-114\"/>\r\n       <use x=\"356.494141\" xlink:href=\"#DejaVuSans-97\"/>\r\n       <use x=\"417.773438\" xlink:href=\"#DejaVuSans-100\"/>\r\n       <use x=\"481.25\" xlink:href=\"#DejaVuSans-105\"/>\r\n       <use x=\"509.033203\" xlink:href=\"#DejaVuSans-117\"/>\r\n       <use x=\"572.412109\" xlink:href=\"#DejaVuSans-115\"/>\r\n      </g>\r\n     </g>\r\n    </g>\r\n    <g id=\"ytick_2\">\r\n     <g id=\"line2d_9\">\r\n      <g>\r\n       <use style=\"stroke:#000000;stroke-width:0.8;\" x=\"132.801562\" xlink:href=\"#m33d71de9ad\" y=\"29.18798\"/>\r\n      </g>\r\n     </g>\r\n     <g id=\"text_9\">\r\n      <!-- mean texture -->\r\n      <defs>\r\n       <path d=\"M 18.3125 70.21875 \r\nL 18.3125 54.6875 \r\nL 36.8125 54.6875 \r\nL 36.8125 47.703125 \r\nL 18.3125 47.703125 \r\nL 18.3125 18.015625 \r\nQ 18.3125 11.328125 20.140625 9.421875 \r\nQ 21.96875 7.515625 27.59375 7.515625 \r\nL 36.8125 7.515625 \r\nL 36.8125 0 \r\nL 27.59375 0 \r\nQ 17.1875 0 13.234375 3.875 \r\nQ 9.28125 7.765625 9.28125 18.015625 \r\nL 9.28125 47.703125 \r\nL 2.6875 47.703125 \r\nL 2.6875 54.6875 \r\nL 9.28125 54.6875 \r\nL 9.28125 70.21875 \r\nz\r\n\" id=\"DejaVuSans-116\"/>\r\n       <path d=\"M 54.890625 54.6875 \r\nL 35.109375 28.078125 \r\nL 55.90625 0 \r\nL 45.3125 0 \r\nL 29.390625 21.484375 \r\nL 13.484375 0 \r\nL 2.875 0 \r\nL 24.125 28.609375 \r\nL 4.6875 54.6875 \r\nL 15.28125 54.6875 \r\nL 29.78125 35.203125 \r\nL 44.28125 54.6875 \r\nz\r\n\" id=\"DejaVuSans-120\"/>\r\n      </defs>\r\n      <g transform=\"translate(58.15 32.987199)scale(0.1 -0.1)\">\r\n       <use xlink:href=\"#DejaVuSans-109\"/>\r\n       <use x=\"97.412109\" xlink:href=\"#DejaVuSans-101\"/>\r\n       <use x=\"158.935547\" xlink:href=\"#DejaVuSans-97\"/>\r\n       <use x=\"220.214844\" xlink:href=\"#DejaVuSans-110\"/>\r\n       <use x=\"283.59375\" xlink:href=\"#DejaVuSans-32\"/>\r\n       <use x=\"315.380859\" xlink:href=\"#DejaVuSans-116\"/>\r\n       <use x=\"354.589844\" xlink:href=\"#DejaVuSans-101\"/>\r\n       <use x=\"414.363281\" xlink:href=\"#DejaVuSans-120\"/>\r\n       <use x=\"473.542969\" xlink:href=\"#DejaVuSans-116\"/>\r\n       <use x=\"512.751953\" xlink:href=\"#DejaVuSans-117\"/>\r\n       <use x=\"576.130859\" xlink:href=\"#DejaVuSans-114\"/>\r\n       <use x=\"614.994141\" xlink:href=\"#DejaVuSans-101\"/>\r\n      </g>\r\n     </g>\r\n    </g>\r\n    <g id=\"ytick_3\">\r\n     <g id=\"line2d_10\">\r\n      <g>\r\n       <use style=\"stroke:#000000;stroke-width:0.8;\" x=\"132.801562\" xlink:href=\"#m33d71de9ad\" y=\"36.796278\"/>\r\n      </g>\r\n     </g>\r\n     <g id=\"text_10\">\r\n      <!-- mean perimeter -->\r\n      <defs>\r\n       <path d=\"M 18.109375 8.203125 \r\nL 18.109375 -20.796875 \r\nL 9.078125 -20.796875 \r\nL 9.078125 54.6875 \r\nL 18.109375 54.6875 \r\nL 18.109375 46.390625 \r\nQ 20.953125 51.265625 25.265625 53.625 \r\nQ 29.59375 56 35.59375 56 \r\nQ 45.5625 56 51.78125 48.09375 \r\nQ 58.015625 40.1875 58.015625 27.296875 \r\nQ 58.015625 14.40625 51.78125 6.484375 \r\nQ 45.5625 -1.421875 35.59375 -1.421875 \r\nQ 29.59375 -1.421875 25.265625 0.953125 \r\nQ 20.953125 3.328125 18.109375 8.203125 \r\nz\r\nM 48.6875 27.296875 \r\nQ 48.6875 37.203125 44.609375 42.84375 \r\nQ 40.53125 48.484375 33.40625 48.484375 \r\nQ 26.265625 48.484375 22.1875 42.84375 \r\nQ 18.109375 37.203125 18.109375 27.296875 \r\nQ 18.109375 17.390625 22.1875 11.75 \r\nQ 26.265625 6.109375 33.40625 6.109375 \r\nQ 40.53125 6.109375 44.609375 11.75 \r\nQ 48.6875 17.390625 48.6875 27.296875 \r\nz\r\n\" id=\"DejaVuSans-112\"/>\r\n      </defs>\r\n      <g transform=\"translate(44.795312 40.595497)scale(0.1 -0.1)\">\r\n       <use xlink:href=\"#DejaVuSans-109\"/>\r\n       <use x=\"97.412109\" xlink:href=\"#DejaVuSans-101\"/>\r\n       <use x=\"158.935547\" xlink:href=\"#DejaVuSans-97\"/>\r\n       <use x=\"220.214844\" xlink:href=\"#DejaVuSans-110\"/>\r\n       <use x=\"283.59375\" xlink:href=\"#DejaVuSans-32\"/>\r\n       <use x=\"315.380859\" xlink:href=\"#DejaVuSans-112\"/>\r\n       <use x=\"378.857422\" xlink:href=\"#DejaVuSans-101\"/>\r\n       <use x=\"440.380859\" xlink:href=\"#DejaVuSans-114\"/>\r\n       <use x=\"481.494141\" xlink:href=\"#DejaVuSans-105\"/>\r\n       <use x=\"509.277344\" xlink:href=\"#DejaVuSans-109\"/>\r\n       <use x=\"606.689453\" xlink:href=\"#DejaVuSans-101\"/>\r\n       <use x=\"668.212891\" xlink:href=\"#DejaVuSans-116\"/>\r\n       <use x=\"707.421875\" xlink:href=\"#DejaVuSans-101\"/>\r\n       <use x=\"768.945312\" xlink:href=\"#DejaVuSans-114\"/>\r\n      </g>\r\n     </g>\r\n    </g>\r\n    <g id=\"ytick_4\">\r\n     <g id=\"line2d_11\">\r\n      <g>\r\n       <use style=\"stroke:#000000;stroke-width:0.8;\" x=\"132.801562\" xlink:href=\"#m33d71de9ad\" y=\"44.404576\"/>\r\n      </g>\r\n     </g>\r\n     <g id=\"text_11\">\r\n      <!-- mean area -->\r\n      <g transform=\"translate(71.96875 48.203795)scale(0.1 -0.1)\">\r\n       <use xlink:href=\"#DejaVuSans-109\"/>\r\n       <use x=\"97.412109\" xlink:href=\"#DejaVuSans-101\"/>\r\n       <use x=\"158.935547\" xlink:href=\"#DejaVuSans-97\"/>\r\n       <use x=\"220.214844\" xlink:href=\"#DejaVuSans-110\"/>\r\n       <use x=\"283.59375\" xlink:href=\"#DejaVuSans-32\"/>\r\n       <use x=\"315.380859\" xlink:href=\"#DejaVuSans-97\"/>\r\n       <use x=\"376.660156\" xlink:href=\"#DejaVuSans-114\"/>\r\n       <use x=\"415.523438\" xlink:href=\"#DejaVuSans-101\"/>\r\n       <use x=\"477.046875\" xlink:href=\"#DejaVuSans-97\"/>\r\n      </g>\r\n     </g>\r\n    </g>\r\n    <g id=\"ytick_5\">\r\n     <g id=\"line2d_12\">\r\n      <g>\r\n       <use style=\"stroke:#000000;stroke-width:0.8;\" x=\"132.801562\" xlink:href=\"#m33d71de9ad\" y=\"52.012874\"/>\r\n      </g>\r\n     </g>\r\n     <g id=\"text_12\">\r\n      <!-- mean smoothness -->\r\n      <defs>\r\n       <path d=\"M 30.609375 48.390625 \r\nQ 23.390625 48.390625 19.1875 42.75 \r\nQ 14.984375 37.109375 14.984375 27.296875 \r\nQ 14.984375 17.484375 19.15625 11.84375 \r\nQ 23.34375 6.203125 30.609375 6.203125 \r\nQ 37.796875 6.203125 41.984375 11.859375 \r\nQ 46.1875 17.53125 46.1875 27.296875 \r\nQ 46.1875 37.015625 41.984375 42.703125 \r\nQ 37.796875 48.390625 30.609375 48.390625 \r\nz\r\nM 30.609375 56 \r\nQ 42.328125 56 49.015625 48.375 \r\nQ 55.71875 40.765625 55.71875 27.296875 \r\nQ 55.71875 13.875 49.015625 6.21875 \r\nQ 42.328125 -1.421875 30.609375 -1.421875 \r\nQ 18.84375 -1.421875 12.171875 6.21875 \r\nQ 5.515625 13.875 5.515625 27.296875 \r\nQ 5.515625 40.765625 12.171875 48.375 \r\nQ 18.84375 56 30.609375 56 \r\nz\r\n\" id=\"DejaVuSans-111\"/>\r\n       <path d=\"M 54.890625 33.015625 \r\nL 54.890625 0 \r\nL 45.90625 0 \r\nL 45.90625 32.71875 \r\nQ 45.90625 40.484375 42.875 44.328125 \r\nQ 39.84375 48.1875 33.796875 48.1875 \r\nQ 26.515625 48.1875 22.3125 43.546875 \r\nQ 18.109375 38.921875 18.109375 30.90625 \r\nL 18.109375 0 \r\nL 9.078125 0 \r\nL 9.078125 75.984375 \r\nL 18.109375 75.984375 \r\nL 18.109375 46.1875 \r\nQ 21.34375 51.125 25.703125 53.5625 \r\nQ 30.078125 56 35.796875 56 \r\nQ 45.21875 56 50.046875 50.171875 \r\nQ 54.890625 44.34375 54.890625 33.015625 \r\nz\r\n\" id=\"DejaVuSans-104\"/>\r\n      </defs>\r\n      <g transform=\"translate(33.909375 55.812092)scale(0.1 -0.1)\">\r\n       <use xlink:href=\"#DejaVuSans-109\"/>\r\n       <use x=\"97.412109\" xlink:href=\"#DejaVuSans-101\"/>\r\n       <use x=\"158.935547\" xlink:href=\"#DejaVuSans-97\"/>\r\n       <use x=\"220.214844\" xlink:href=\"#DejaVuSans-110\"/>\r\n       <use x=\"283.59375\" xlink:href=\"#DejaVuSans-32\"/>\r\n       <use x=\"315.380859\" xlink:href=\"#DejaVuSans-115\"/>\r\n       <use x=\"367.480469\" xlink:href=\"#DejaVuSans-109\"/>\r\n       <use x=\"464.892578\" xlink:href=\"#DejaVuSans-111\"/>\r\n       <use x=\"526.074219\" xlink:href=\"#DejaVuSans-111\"/>\r\n       <use x=\"587.255859\" xlink:href=\"#DejaVuSans-116\"/>\r\n       <use x=\"626.464844\" xlink:href=\"#DejaVuSans-104\"/>\r\n       <use x=\"689.84375\" xlink:href=\"#DejaVuSans-110\"/>\r\n       <use x=\"753.222656\" xlink:href=\"#DejaVuSans-101\"/>\r\n       <use x=\"814.746094\" xlink:href=\"#DejaVuSans-115\"/>\r\n       <use x=\"866.845703\" xlink:href=\"#DejaVuSans-115\"/>\r\n      </g>\r\n     </g>\r\n    </g>\r\n    <g id=\"ytick_6\">\r\n     <g id=\"line2d_13\">\r\n      <g>\r\n       <use style=\"stroke:#000000;stroke-width:0.8;\" x=\"132.801562\" xlink:href=\"#m33d71de9ad\" y=\"59.621171\"/>\r\n      </g>\r\n     </g>\r\n     <g id=\"text_13\">\r\n      <!-- mean compactness -->\r\n      <defs>\r\n       <path d=\"M 48.78125 52.59375 \r\nL 48.78125 44.1875 \r\nQ 44.96875 46.296875 41.140625 47.34375 \r\nQ 37.3125 48.390625 33.40625 48.390625 \r\nQ 24.65625 48.390625 19.8125 42.84375 \r\nQ 14.984375 37.3125 14.984375 27.296875 \r\nQ 14.984375 17.28125 19.8125 11.734375 \r\nQ 24.65625 6.203125 33.40625 6.203125 \r\nQ 37.3125 6.203125 41.140625 7.25 \r\nQ 44.96875 8.296875 48.78125 10.40625 \r\nL 48.78125 2.09375 \r\nQ 45.015625 0.34375 40.984375 -0.53125 \r\nQ 36.96875 -1.421875 32.421875 -1.421875 \r\nQ 20.0625 -1.421875 12.78125 6.34375 \r\nQ 5.515625 14.109375 5.515625 27.296875 \r\nQ 5.515625 40.671875 12.859375 48.328125 \r\nQ 20.21875 56 33.015625 56 \r\nQ 37.15625 56 41.109375 55.140625 \r\nQ 45.0625 54.296875 48.78125 52.59375 \r\nz\r\n\" id=\"DejaVuSans-99\"/>\r\n      </defs>\r\n      <g transform=\"translate(28.101562 63.42039)scale(0.1 -0.1)\">\r\n       <use xlink:href=\"#DejaVuSans-109\"/>\r\n       <use x=\"97.412109\" xlink:href=\"#DejaVuSans-101\"/>\r\n       <use x=\"158.935547\" xlink:href=\"#DejaVuSans-97\"/>\r\n       <use x=\"220.214844\" xlink:href=\"#DejaVuSans-110\"/>\r\n       <use x=\"283.59375\" xlink:href=\"#DejaVuSans-32\"/>\r\n       <use x=\"315.380859\" xlink:href=\"#DejaVuSans-99\"/>\r\n       <use x=\"370.361328\" xlink:href=\"#DejaVuSans-111\"/>\r\n       <use x=\"431.542969\" xlink:href=\"#DejaVuSans-109\"/>\r\n       <use x=\"528.955078\" xlink:href=\"#DejaVuSans-112\"/>\r\n       <use x=\"592.431641\" xlink:href=\"#DejaVuSans-97\"/>\r\n       <use x=\"653.710938\" xlink:href=\"#DejaVuSans-99\"/>\r\n       <use x=\"708.691406\" xlink:href=\"#DejaVuSans-116\"/>\r\n       <use x=\"747.900391\" xlink:href=\"#DejaVuSans-110\"/>\r\n       <use x=\"811.279297\" xlink:href=\"#DejaVuSans-101\"/>\r\n       <use x=\"872.802734\" xlink:href=\"#DejaVuSans-115\"/>\r\n       <use x=\"924.902344\" xlink:href=\"#DejaVuSans-115\"/>\r\n      </g>\r\n     </g>\r\n    </g>\r\n    <g id=\"ytick_7\">\r\n     <g id=\"line2d_14\">\r\n      <g>\r\n       <use style=\"stroke:#000000;stroke-width:0.8;\" x=\"132.801562\" xlink:href=\"#m33d71de9ad\" y=\"67.229469\"/>\r\n      </g>\r\n     </g>\r\n     <g id=\"text_14\">\r\n      <!-- mean concavity -->\r\n      <defs>\r\n       <path d=\"M 2.984375 54.6875 \r\nL 12.5 54.6875 \r\nL 29.59375 8.796875 \r\nL 46.6875 54.6875 \r\nL 56.203125 54.6875 \r\nL 35.6875 0 \r\nL 23.484375 0 \r\nz\r\n\" id=\"DejaVuSans-118\"/>\r\n       <path d=\"M 32.171875 -5.078125 \r\nQ 28.375 -14.84375 24.75 -17.8125 \r\nQ 21.140625 -20.796875 15.09375 -20.796875 \r\nL 7.90625 -20.796875 \r\nL 7.90625 -13.28125 \r\nL 13.1875 -13.28125 \r\nQ 16.890625 -13.28125 18.9375 -11.515625 \r\nQ 21 -9.765625 23.484375 -3.21875 \r\nL 25.09375 0.875 \r\nL 2.984375 54.6875 \r\nL 12.5 54.6875 \r\nL 29.59375 11.921875 \r\nL 46.6875 54.6875 \r\nL 56.203125 54.6875 \r\nz\r\n\" id=\"DejaVuSans-121\"/>\r\n      </defs>\r\n      <g transform=\"translate(46.146875 71.028688)scale(0.1 -0.1)\">\r\n       <use xlink:href=\"#DejaVuSans-109\"/>\r\n       <use x=\"97.412109\" xlink:href=\"#DejaVuSans-101\"/>\r\n       <use x=\"158.935547\" xlink:href=\"#DejaVuSans-97\"/>\r\n       <use x=\"220.214844\" xlink:href=\"#DejaVuSans-110\"/>\r\n       <use x=\"283.59375\" xlink:href=\"#DejaVuSans-32\"/>\r\n       <use x=\"315.380859\" xlink:href=\"#DejaVuSans-99\"/>\r\n       <use x=\"370.361328\" xlink:href=\"#DejaVuSans-111\"/>\r\n       <use x=\"431.542969\" xlink:href=\"#DejaVuSans-110\"/>\r\n       <use x=\"494.921875\" xlink:href=\"#DejaVuSans-99\"/>\r\n       <use x=\"549.902344\" xlink:href=\"#DejaVuSans-97\"/>\r\n       <use x=\"611.181641\" xlink:href=\"#DejaVuSans-118\"/>\r\n       <use x=\"670.361328\" xlink:href=\"#DejaVuSans-105\"/>\r\n       <use x=\"698.144531\" xlink:href=\"#DejaVuSans-116\"/>\r\n       <use x=\"737.353516\" xlink:href=\"#DejaVuSans-121\"/>\r\n      </g>\r\n     </g>\r\n    </g>\r\n    <g id=\"ytick_8\">\r\n     <g id=\"line2d_15\">\r\n      <g>\r\n       <use style=\"stroke:#000000;stroke-width:0.8;\" x=\"132.801562\" xlink:href=\"#m33d71de9ad\" y=\"74.837767\"/>\r\n      </g>\r\n     </g>\r\n     <g id=\"text_15\">\r\n      <!-- mean concave points -->\r\n      <g transform=\"translate(18.720312 78.636986)scale(0.1 -0.1)\">\r\n       <use xlink:href=\"#DejaVuSans-109\"/>\r\n       <use x=\"97.412109\" xlink:href=\"#DejaVuSans-101\"/>\r\n       <use x=\"158.935547\" xlink:href=\"#DejaVuSans-97\"/>\r\n       <use x=\"220.214844\" xlink:href=\"#DejaVuSans-110\"/>\r\n       <use x=\"283.59375\" xlink:href=\"#DejaVuSans-32\"/>\r\n       <use x=\"315.380859\" xlink:href=\"#DejaVuSans-99\"/>\r\n       <use x=\"370.361328\" xlink:href=\"#DejaVuSans-111\"/>\r\n       <use x=\"431.542969\" xlink:href=\"#DejaVuSans-110\"/>\r\n       <use x=\"494.921875\" xlink:href=\"#DejaVuSans-99\"/>\r\n       <use x=\"549.902344\" xlink:href=\"#DejaVuSans-97\"/>\r\n       <use x=\"611.181641\" xlink:href=\"#DejaVuSans-118\"/>\r\n       <use x=\"670.361328\" xlink:href=\"#DejaVuSans-101\"/>\r\n       <use x=\"731.884766\" xlink:href=\"#DejaVuSans-32\"/>\r\n       <use x=\"763.671875\" xlink:href=\"#DejaVuSans-112\"/>\r\n       <use x=\"827.148438\" xlink:href=\"#DejaVuSans-111\"/>\r\n       <use x=\"888.330078\" xlink:href=\"#DejaVuSans-105\"/>\r\n       <use x=\"916.113281\" xlink:href=\"#DejaVuSans-110\"/>\r\n       <use x=\"979.492188\" xlink:href=\"#DejaVuSans-116\"/>\r\n       <use x=\"1018.701172\" xlink:href=\"#DejaVuSans-115\"/>\r\n      </g>\r\n     </g>\r\n    </g>\r\n    <g id=\"ytick_9\">\r\n     <g id=\"line2d_16\">\r\n      <g>\r\n       <use style=\"stroke:#000000;stroke-width:0.8;\" x=\"132.801562\" xlink:href=\"#m33d71de9ad\" y=\"82.446065\"/>\r\n      </g>\r\n     </g>\r\n     <g id=\"text_16\">\r\n      <!-- mean symmetry -->\r\n      <g transform=\"translate(43.551562 86.245283)scale(0.1 -0.1)\">\r\n       <use xlink:href=\"#DejaVuSans-109\"/>\r\n       <use x=\"97.412109\" xlink:href=\"#DejaVuSans-101\"/>\r\n       <use x=\"158.935547\" xlink:href=\"#DejaVuSans-97\"/>\r\n       <use x=\"220.214844\" xlink:href=\"#DejaVuSans-110\"/>\r\n       <use x=\"283.59375\" xlink:href=\"#DejaVuSans-32\"/>\r\n       <use x=\"315.380859\" xlink:href=\"#DejaVuSans-115\"/>\r\n       <use x=\"367.480469\" xlink:href=\"#DejaVuSans-121\"/>\r\n       <use x=\"426.660156\" xlink:href=\"#DejaVuSans-109\"/>\r\n       <use x=\"524.072266\" xlink:href=\"#DejaVuSans-109\"/>\r\n       <use x=\"621.484375\" xlink:href=\"#DejaVuSans-101\"/>\r\n       <use x=\"683.007812\" xlink:href=\"#DejaVuSans-116\"/>\r\n       <use x=\"722.216797\" xlink:href=\"#DejaVuSans-114\"/>\r\n       <use x=\"763.330078\" xlink:href=\"#DejaVuSans-121\"/>\r\n      </g>\r\n     </g>\r\n    </g>\r\n    <g id=\"ytick_10\">\r\n     <g id=\"line2d_17\">\r\n      <g>\r\n       <use style=\"stroke:#000000;stroke-width:0.8;\" x=\"132.801562\" xlink:href=\"#m33d71de9ad\" y=\"90.054362\"/>\r\n      </g>\r\n     </g>\r\n     <g id=\"text_17\">\r\n      <!-- mean fractal dimension -->\r\n      <defs>\r\n       <path d=\"M 37.109375 75.984375 \r\nL 37.109375 68.5 \r\nL 28.515625 68.5 \r\nQ 23.6875 68.5 21.796875 66.546875 \r\nQ 19.921875 64.59375 19.921875 59.515625 \r\nL 19.921875 54.6875 \r\nL 34.71875 54.6875 \r\nL 34.71875 47.703125 \r\nL 19.921875 47.703125 \r\nL 19.921875 0 \r\nL 10.890625 0 \r\nL 10.890625 47.703125 \r\nL 2.296875 47.703125 \r\nL 2.296875 54.6875 \r\nL 10.890625 54.6875 \r\nL 10.890625 58.5 \r\nQ 10.890625 67.625 15.140625 71.796875 \r\nQ 19.390625 75.984375 28.609375 75.984375 \r\nz\r\n\" id=\"DejaVuSans-102\"/>\r\n       <path d=\"M 9.421875 75.984375 \r\nL 18.40625 75.984375 \r\nL 18.40625 0 \r\nL 9.421875 0 \r\nz\r\n\" id=\"DejaVuSans-108\"/>\r\n      </defs>\r\n      <g transform=\"translate(7.2 93.853581)scale(0.1 -0.1)\">\r\n       <use xlink:href=\"#DejaVuSans-109\"/>\r\n       <use x=\"97.412109\" xlink:href=\"#DejaVuSans-101\"/>\r\n       <use x=\"158.935547\" xlink:href=\"#DejaVuSans-97\"/>\r\n       <use x=\"220.214844\" xlink:href=\"#DejaVuSans-110\"/>\r\n       <use x=\"283.59375\" xlink:href=\"#DejaVuSans-32\"/>\r\n       <use x=\"315.380859\" xlink:href=\"#DejaVuSans-102\"/>\r\n       <use x=\"350.585938\" xlink:href=\"#DejaVuSans-114\"/>\r\n       <use x=\"391.699219\" xlink:href=\"#DejaVuSans-97\"/>\r\n       <use x=\"452.978516\" xlink:href=\"#DejaVuSans-99\"/>\r\n       <use x=\"507.958984\" xlink:href=\"#DejaVuSans-116\"/>\r\n       <use x=\"547.167969\" xlink:href=\"#DejaVuSans-97\"/>\r\n       <use x=\"608.447266\" xlink:href=\"#DejaVuSans-108\"/>\r\n       <use x=\"636.230469\" xlink:href=\"#DejaVuSans-32\"/>\r\n       <use x=\"668.017578\" xlink:href=\"#DejaVuSans-100\"/>\r\n       <use x=\"731.494141\" xlink:href=\"#DejaVuSans-105\"/>\r\n       <use x=\"759.277344\" xlink:href=\"#DejaVuSans-109\"/>\r\n       <use x=\"856.689453\" xlink:href=\"#DejaVuSans-101\"/>\r\n       <use x=\"918.212891\" xlink:href=\"#DejaVuSans-110\"/>\r\n       <use x=\"981.591797\" xlink:href=\"#DejaVuSans-115\"/>\r\n       <use x=\"1033.691406\" xlink:href=\"#DejaVuSans-105\"/>\r\n       <use x=\"1061.474609\" xlink:href=\"#DejaVuSans-111\"/>\r\n       <use x=\"1122.65625\" xlink:href=\"#DejaVuSans-110\"/>\r\n      </g>\r\n     </g>\r\n    </g>\r\n    <g id=\"ytick_11\">\r\n     <g id=\"line2d_18\">\r\n      <g>\r\n       <use style=\"stroke:#000000;stroke-width:0.8;\" x=\"132.801562\" xlink:href=\"#m33d71de9ad\" y=\"97.66266\"/>\r\n      </g>\r\n     </g>\r\n     <g id=\"text_18\">\r\n      <!-- radius error -->\r\n      <g transform=\"translate(67.50625 101.461879)scale(0.1 -0.1)\">\r\n       <use xlink:href=\"#DejaVuSans-114\"/>\r\n       <use x=\"41.113281\" xlink:href=\"#DejaVuSans-97\"/>\r\n       <use x=\"102.392578\" xlink:href=\"#DejaVuSans-100\"/>\r\n       <use x=\"165.869141\" xlink:href=\"#DejaVuSans-105\"/>\r\n       <use x=\"193.652344\" xlink:href=\"#DejaVuSans-117\"/>\r\n       <use x=\"257.03125\" xlink:href=\"#DejaVuSans-115\"/>\r\n       <use x=\"309.130859\" xlink:href=\"#DejaVuSans-32\"/>\r\n       <use x=\"340.917969\" xlink:href=\"#DejaVuSans-101\"/>\r\n       <use x=\"402.441406\" xlink:href=\"#DejaVuSans-114\"/>\r\n       <use x=\"441.804688\" xlink:href=\"#DejaVuSans-114\"/>\r\n       <use x=\"480.667969\" xlink:href=\"#DejaVuSans-111\"/>\r\n       <use x=\"541.849609\" xlink:href=\"#DejaVuSans-114\"/>\r\n      </g>\r\n     </g>\r\n    </g>\r\n    <g id=\"ytick_12\">\r\n     <g id=\"line2d_19\">\r\n      <g>\r\n       <use style=\"stroke:#000000;stroke-width:0.8;\" x=\"132.801562\" xlink:href=\"#m33d71de9ad\" y=\"105.270958\"/>\r\n      </g>\r\n     </g>\r\n     <g id=\"text_19\">\r\n      <!-- texture error -->\r\n      <g transform=\"translate(62.304687 109.070177)scale(0.1 -0.1)\">\r\n       <use xlink:href=\"#DejaVuSans-116\"/>\r\n       <use x=\"39.208984\" xlink:href=\"#DejaVuSans-101\"/>\r\n       <use x=\"98.982422\" xlink:href=\"#DejaVuSans-120\"/>\r\n       <use x=\"158.162109\" xlink:href=\"#DejaVuSans-116\"/>\r\n       <use x=\"197.371094\" xlink:href=\"#DejaVuSans-117\"/>\r\n       <use x=\"260.75\" xlink:href=\"#DejaVuSans-114\"/>\r\n       <use x=\"299.613281\" xlink:href=\"#DejaVuSans-101\"/>\r\n       <use x=\"361.136719\" xlink:href=\"#DejaVuSans-32\"/>\r\n       <use x=\"392.923828\" xlink:href=\"#DejaVuSans-101\"/>\r\n       <use x=\"454.447266\" xlink:href=\"#DejaVuSans-114\"/>\r\n       <use x=\"493.810547\" xlink:href=\"#DejaVuSans-114\"/>\r\n       <use x=\"532.673828\" xlink:href=\"#DejaVuSans-111\"/>\r\n       <use x=\"593.855469\" xlink:href=\"#DejaVuSans-114\"/>\r\n      </g>\r\n     </g>\r\n    </g>\r\n    <g id=\"ytick_13\">\r\n     <g id=\"line2d_20\">\r\n      <g>\r\n       <use style=\"stroke:#000000;stroke-width:0.8;\" x=\"132.801562\" xlink:href=\"#m33d71de9ad\" y=\"112.879256\"/>\r\n      </g>\r\n     </g>\r\n     <g id=\"text_20\">\r\n      <!-- perimeter error -->\r\n      <g transform=\"translate(48.95 116.678474)scale(0.1 -0.1)\">\r\n       <use xlink:href=\"#DejaVuSans-112\"/>\r\n       <use x=\"63.476562\" xlink:href=\"#DejaVuSans-101\"/>\r\n       <use x=\"125\" xlink:href=\"#DejaVuSans-114\"/>\r\n       <use x=\"166.113281\" xlink:href=\"#DejaVuSans-105\"/>\r\n       <use x=\"193.896484\" xlink:href=\"#DejaVuSans-109\"/>\r\n       <use x=\"291.308594\" xlink:href=\"#DejaVuSans-101\"/>\r\n       <use x=\"352.832031\" xlink:href=\"#DejaVuSans-116\"/>\r\n       <use x=\"392.041016\" xlink:href=\"#DejaVuSans-101\"/>\r\n       <use x=\"453.564453\" xlink:href=\"#DejaVuSans-114\"/>\r\n       <use x=\"494.677734\" xlink:href=\"#DejaVuSans-32\"/>\r\n       <use x=\"526.464844\" xlink:href=\"#DejaVuSans-101\"/>\r\n       <use x=\"587.988281\" xlink:href=\"#DejaVuSans-114\"/>\r\n       <use x=\"627.351562\" xlink:href=\"#DejaVuSans-114\"/>\r\n       <use x=\"666.214844\" xlink:href=\"#DejaVuSans-111\"/>\r\n       <use x=\"727.396484\" xlink:href=\"#DejaVuSans-114\"/>\r\n      </g>\r\n     </g>\r\n    </g>\r\n    <g id=\"ytick_14\">\r\n     <g id=\"line2d_21\">\r\n      <g>\r\n       <use style=\"stroke:#000000;stroke-width:0.8;\" x=\"132.801562\" xlink:href=\"#m33d71de9ad\" y=\"120.487553\"/>\r\n      </g>\r\n     </g>\r\n     <g id=\"text_21\">\r\n      <!-- area error -->\r\n      <g transform=\"translate(76.123437 124.286772)scale(0.1 -0.1)\">\r\n       <use xlink:href=\"#DejaVuSans-97\"/>\r\n       <use x=\"61.279297\" xlink:href=\"#DejaVuSans-114\"/>\r\n       <use x=\"100.142578\" xlink:href=\"#DejaVuSans-101\"/>\r\n       <use x=\"161.666016\" xlink:href=\"#DejaVuSans-97\"/>\r\n       <use x=\"222.945312\" xlink:href=\"#DejaVuSans-32\"/>\r\n       <use x=\"254.732422\" xlink:href=\"#DejaVuSans-101\"/>\r\n       <use x=\"316.255859\" xlink:href=\"#DejaVuSans-114\"/>\r\n       <use x=\"355.619141\" xlink:href=\"#DejaVuSans-114\"/>\r\n       <use x=\"394.482422\" xlink:href=\"#DejaVuSans-111\"/>\r\n       <use x=\"455.664062\" xlink:href=\"#DejaVuSans-114\"/>\r\n      </g>\r\n     </g>\r\n    </g>\r\n    <g id=\"ytick_15\">\r\n     <g id=\"line2d_22\">\r\n      <g>\r\n       <use style=\"stroke:#000000;stroke-width:0.8;\" x=\"132.801562\" xlink:href=\"#m33d71de9ad\" y=\"128.095851\"/>\r\n      </g>\r\n     </g>\r\n     <g id=\"text_22\">\r\n      <!-- smoothness error -->\r\n      <g transform=\"translate(38.064062 131.89507)scale(0.1 -0.1)\">\r\n       <use xlink:href=\"#DejaVuSans-115\"/>\r\n       <use x=\"52.099609\" xlink:href=\"#DejaVuSans-109\"/>\r\n       <use x=\"149.511719\" xlink:href=\"#DejaVuSans-111\"/>\r\n       <use x=\"210.693359\" xlink:href=\"#DejaVuSans-111\"/>\r\n       <use x=\"271.875\" xlink:href=\"#DejaVuSans-116\"/>\r\n       <use x=\"311.083984\" xlink:href=\"#DejaVuSans-104\"/>\r\n       <use x=\"374.462891\" xlink:href=\"#DejaVuSans-110\"/>\r\n       <use x=\"437.841797\" xlink:href=\"#DejaVuSans-101\"/>\r\n       <use x=\"499.365234\" xlink:href=\"#DejaVuSans-115\"/>\r\n       <use x=\"551.464844\" xlink:href=\"#DejaVuSans-115\"/>\r\n       <use x=\"603.564453\" xlink:href=\"#DejaVuSans-32\"/>\r\n       <use x=\"635.351562\" xlink:href=\"#DejaVuSans-101\"/>\r\n       <use x=\"696.875\" xlink:href=\"#DejaVuSans-114\"/>\r\n       <use x=\"736.238281\" xlink:href=\"#DejaVuSans-114\"/>\r\n       <use x=\"775.101562\" xlink:href=\"#DejaVuSans-111\"/>\r\n       <use x=\"836.283203\" xlink:href=\"#DejaVuSans-114\"/>\r\n      </g>\r\n     </g>\r\n    </g>\r\n    <g id=\"ytick_16\">\r\n     <g id=\"line2d_23\">\r\n      <g>\r\n       <use style=\"stroke:#000000;stroke-width:0.8;\" x=\"132.801562\" xlink:href=\"#m33d71de9ad\" y=\"135.704149\"/>\r\n      </g>\r\n     </g>\r\n     <g id=\"text_23\">\r\n      <!-- compactness error -->\r\n      <g transform=\"translate(32.25625 139.503368)scale(0.1 -0.1)\">\r\n       <use xlink:href=\"#DejaVuSans-99\"/>\r\n       <use x=\"54.980469\" xlink:href=\"#DejaVuSans-111\"/>\r\n       <use x=\"116.162109\" xlink:href=\"#DejaVuSans-109\"/>\r\n       <use x=\"213.574219\" xlink:href=\"#DejaVuSans-112\"/>\r\n       <use x=\"277.050781\" xlink:href=\"#DejaVuSans-97\"/>\r\n       <use x=\"338.330078\" xlink:href=\"#DejaVuSans-99\"/>\r\n       <use x=\"393.310547\" xlink:href=\"#DejaVuSans-116\"/>\r\n       <use x=\"432.519531\" xlink:href=\"#DejaVuSans-110\"/>\r\n       <use x=\"495.898438\" xlink:href=\"#DejaVuSans-101\"/>\r\n       <use x=\"557.421875\" xlink:href=\"#DejaVuSans-115\"/>\r\n       <use x=\"609.521484\" xlink:href=\"#DejaVuSans-115\"/>\r\n       <use x=\"661.621094\" xlink:href=\"#DejaVuSans-32\"/>\r\n       <use x=\"693.408203\" xlink:href=\"#DejaVuSans-101\"/>\r\n       <use x=\"754.931641\" xlink:href=\"#DejaVuSans-114\"/>\r\n       <use x=\"794.294922\" xlink:href=\"#DejaVuSans-114\"/>\r\n       <use x=\"833.158203\" xlink:href=\"#DejaVuSans-111\"/>\r\n       <use x=\"894.339844\" xlink:href=\"#DejaVuSans-114\"/>\r\n      </g>\r\n     </g>\r\n    </g>\r\n    <g id=\"ytick_17\">\r\n     <g id=\"line2d_24\">\r\n      <g>\r\n       <use style=\"stroke:#000000;stroke-width:0.8;\" x=\"132.801562\" xlink:href=\"#m33d71de9ad\" y=\"143.312447\"/>\r\n      </g>\r\n     </g>\r\n     <g id=\"text_24\">\r\n      <!-- concavity error -->\r\n      <g transform=\"translate(50.301562 147.111665)scale(0.1 -0.1)\">\r\n       <use xlink:href=\"#DejaVuSans-99\"/>\r\n       <use x=\"54.980469\" xlink:href=\"#DejaVuSans-111\"/>\r\n       <use x=\"116.162109\" xlink:href=\"#DejaVuSans-110\"/>\r\n       <use x=\"179.541016\" xlink:href=\"#DejaVuSans-99\"/>\r\n       <use x=\"234.521484\" xlink:href=\"#DejaVuSans-97\"/>\r\n       <use x=\"295.800781\" xlink:href=\"#DejaVuSans-118\"/>\r\n       <use x=\"354.980469\" xlink:href=\"#DejaVuSans-105\"/>\r\n       <use x=\"382.763672\" xlink:href=\"#DejaVuSans-116\"/>\r\n       <use x=\"421.972656\" xlink:href=\"#DejaVuSans-121\"/>\r\n       <use x=\"481.152344\" xlink:href=\"#DejaVuSans-32\"/>\r\n       <use x=\"512.939453\" xlink:href=\"#DejaVuSans-101\"/>\r\n       <use x=\"574.462891\" xlink:href=\"#DejaVuSans-114\"/>\r\n       <use x=\"613.826172\" xlink:href=\"#DejaVuSans-114\"/>\r\n       <use x=\"652.689453\" xlink:href=\"#DejaVuSans-111\"/>\r\n       <use x=\"713.871094\" xlink:href=\"#DejaVuSans-114\"/>\r\n      </g>\r\n     </g>\r\n    </g>\r\n    <g id=\"ytick_18\">\r\n     <g id=\"line2d_25\">\r\n      <g>\r\n       <use style=\"stroke:#000000;stroke-width:0.8;\" x=\"132.801562\" xlink:href=\"#m33d71de9ad\" y=\"150.920744\"/>\r\n      </g>\r\n     </g>\r\n     <g id=\"text_25\">\r\n      <!-- concave points error -->\r\n      <g transform=\"translate(22.875 154.719963)scale(0.1 -0.1)\">\r\n       <use xlink:href=\"#DejaVuSans-99\"/>\r\n       <use x=\"54.980469\" xlink:href=\"#DejaVuSans-111\"/>\r\n       <use x=\"116.162109\" xlink:href=\"#DejaVuSans-110\"/>\r\n       <use x=\"179.541016\" xlink:href=\"#DejaVuSans-99\"/>\r\n       <use x=\"234.521484\" xlink:href=\"#DejaVuSans-97\"/>\r\n       <use x=\"295.800781\" xlink:href=\"#DejaVuSans-118\"/>\r\n       <use x=\"354.980469\" xlink:href=\"#DejaVuSans-101\"/>\r\n       <use x=\"416.503906\" xlink:href=\"#DejaVuSans-32\"/>\r\n       <use x=\"448.291016\" xlink:href=\"#DejaVuSans-112\"/>\r\n       <use x=\"511.767578\" xlink:href=\"#DejaVuSans-111\"/>\r\n       <use x=\"572.949219\" xlink:href=\"#DejaVuSans-105\"/>\r\n       <use x=\"600.732422\" xlink:href=\"#DejaVuSans-110\"/>\r\n       <use x=\"664.111328\" xlink:href=\"#DejaVuSans-116\"/>\r\n       <use x=\"703.320312\" xlink:href=\"#DejaVuSans-115\"/>\r\n       <use x=\"755.419922\" xlink:href=\"#DejaVuSans-32\"/>\r\n       <use x=\"787.207031\" xlink:href=\"#DejaVuSans-101\"/>\r\n       <use x=\"848.730469\" xlink:href=\"#DejaVuSans-114\"/>\r\n       <use x=\"888.09375\" xlink:href=\"#DejaVuSans-114\"/>\r\n       <use x=\"926.957031\" xlink:href=\"#DejaVuSans-111\"/>\r\n       <use x=\"988.138672\" xlink:href=\"#DejaVuSans-114\"/>\r\n      </g>\r\n     </g>\r\n    </g>\r\n    <g id=\"ytick_19\">\r\n     <g id=\"line2d_26\">\r\n      <g>\r\n       <use style=\"stroke:#000000;stroke-width:0.8;\" x=\"132.801562\" xlink:href=\"#m33d71de9ad\" y=\"158.529042\"/>\r\n      </g>\r\n     </g>\r\n     <g id=\"text_26\">\r\n      <!-- symmetry error -->\r\n      <g transform=\"translate(47.70625 162.328261)scale(0.1 -0.1)\">\r\n       <use xlink:href=\"#DejaVuSans-115\"/>\r\n       <use x=\"52.099609\" xlink:href=\"#DejaVuSans-121\"/>\r\n       <use x=\"111.279297\" xlink:href=\"#DejaVuSans-109\"/>\r\n       <use x=\"208.691406\" xlink:href=\"#DejaVuSans-109\"/>\r\n       <use x=\"306.103516\" xlink:href=\"#DejaVuSans-101\"/>\r\n       <use x=\"367.626953\" xlink:href=\"#DejaVuSans-116\"/>\r\n       <use x=\"406.835938\" xlink:href=\"#DejaVuSans-114\"/>\r\n       <use x=\"447.949219\" xlink:href=\"#DejaVuSans-121\"/>\r\n       <use x=\"507.128906\" xlink:href=\"#DejaVuSans-32\"/>\r\n       <use x=\"538.916016\" xlink:href=\"#DejaVuSans-101\"/>\r\n       <use x=\"600.439453\" xlink:href=\"#DejaVuSans-114\"/>\r\n       <use x=\"639.802734\" xlink:href=\"#DejaVuSans-114\"/>\r\n       <use x=\"678.666016\" xlink:href=\"#DejaVuSans-111\"/>\r\n       <use x=\"739.847656\" xlink:href=\"#DejaVuSans-114\"/>\r\n      </g>\r\n     </g>\r\n    </g>\r\n    <g id=\"ytick_20\">\r\n     <g id=\"line2d_27\">\r\n      <g>\r\n       <use style=\"stroke:#000000;stroke-width:0.8;\" x=\"132.801562\" xlink:href=\"#m33d71de9ad\" y=\"166.13734\"/>\r\n      </g>\r\n     </g>\r\n     <g id=\"text_27\">\r\n      <!-- fractal dimension error -->\r\n      <g transform=\"translate(11.354687 169.936559)scale(0.1 -0.1)\">\r\n       <use xlink:href=\"#DejaVuSans-102\"/>\r\n       <use x=\"35.205078\" xlink:href=\"#DejaVuSans-114\"/>\r\n       <use x=\"76.318359\" xlink:href=\"#DejaVuSans-97\"/>\r\n       <use x=\"137.597656\" xlink:href=\"#DejaVuSans-99\"/>\r\n       <use x=\"192.578125\" xlink:href=\"#DejaVuSans-116\"/>\r\n       <use x=\"231.787109\" xlink:href=\"#DejaVuSans-97\"/>\r\n       <use x=\"293.066406\" xlink:href=\"#DejaVuSans-108\"/>\r\n       <use x=\"320.849609\" xlink:href=\"#DejaVuSans-32\"/>\r\n       <use x=\"352.636719\" xlink:href=\"#DejaVuSans-100\"/>\r\n       <use x=\"416.113281\" xlink:href=\"#DejaVuSans-105\"/>\r\n       <use x=\"443.896484\" xlink:href=\"#DejaVuSans-109\"/>\r\n       <use x=\"541.308594\" xlink:href=\"#DejaVuSans-101\"/>\r\n       <use x=\"602.832031\" xlink:href=\"#DejaVuSans-110\"/>\r\n       <use x=\"666.210938\" xlink:href=\"#DejaVuSans-115\"/>\r\n       <use x=\"718.310547\" xlink:href=\"#DejaVuSans-105\"/>\r\n       <use x=\"746.09375\" xlink:href=\"#DejaVuSans-111\"/>\r\n       <use x=\"807.275391\" xlink:href=\"#DejaVuSans-110\"/>\r\n       <use x=\"870.654297\" xlink:href=\"#DejaVuSans-32\"/>\r\n       <use x=\"902.441406\" xlink:href=\"#DejaVuSans-101\"/>\r\n       <use x=\"963.964844\" xlink:href=\"#DejaVuSans-114\"/>\r\n       <use x=\"1003.328125\" xlink:href=\"#DejaVuSans-114\"/>\r\n       <use x=\"1042.191406\" xlink:href=\"#DejaVuSans-111\"/>\r\n       <use x=\"1103.373047\" xlink:href=\"#DejaVuSans-114\"/>\r\n      </g>\r\n     </g>\r\n    </g>\r\n    <g id=\"ytick_21\">\r\n     <g id=\"line2d_28\">\r\n      <g>\r\n       <use style=\"stroke:#000000;stroke-width:0.8;\" x=\"132.801562\" xlink:href=\"#m33d71de9ad\" y=\"173.745638\"/>\r\n      </g>\r\n     </g>\r\n     <g id=\"text_28\">\r\n      <!-- worst radius -->\r\n      <defs>\r\n       <path d=\"M 4.203125 54.6875 \r\nL 13.1875 54.6875 \r\nL 24.421875 12.015625 \r\nL 35.59375 54.6875 \r\nL 46.1875 54.6875 \r\nL 57.421875 12.015625 \r\nL 68.609375 54.6875 \r\nL 77.59375 54.6875 \r\nL 63.28125 0 \r\nL 52.6875 0 \r\nL 40.921875 44.828125 \r\nL 29.109375 0 \r\nL 18.5 0 \r\nz\r\n\" id=\"DejaVuSans-119\"/>\r\n      </defs>\r\n      <g transform=\"translate(64.173437 177.544856)scale(0.1 -0.1)\">\r\n       <use xlink:href=\"#DejaVuSans-119\"/>\r\n       <use x=\"81.787109\" xlink:href=\"#DejaVuSans-111\"/>\r\n       <use x=\"142.96875\" xlink:href=\"#DejaVuSans-114\"/>\r\n       <use x=\"184.082031\" xlink:href=\"#DejaVuSans-115\"/>\r\n       <use x=\"236.181641\" xlink:href=\"#DejaVuSans-116\"/>\r\n       <use x=\"275.390625\" xlink:href=\"#DejaVuSans-32\"/>\r\n       <use x=\"307.177734\" xlink:href=\"#DejaVuSans-114\"/>\r\n       <use x=\"348.291016\" xlink:href=\"#DejaVuSans-97\"/>\r\n       <use x=\"409.570312\" xlink:href=\"#DejaVuSans-100\"/>\r\n       <use x=\"473.046875\" xlink:href=\"#DejaVuSans-105\"/>\r\n       <use x=\"500.830078\" xlink:href=\"#DejaVuSans-117\"/>\r\n       <use x=\"564.208984\" xlink:href=\"#DejaVuSans-115\"/>\r\n      </g>\r\n     </g>\r\n    </g>\r\n    <g id=\"ytick_22\">\r\n     <g id=\"line2d_29\">\r\n      <g>\r\n       <use style=\"stroke:#000000;stroke-width:0.8;\" x=\"132.801562\" xlink:href=\"#m33d71de9ad\" y=\"181.353935\"/>\r\n      </g>\r\n     </g>\r\n     <g id=\"text_29\">\r\n      <!-- worst texture -->\r\n      <g transform=\"translate(58.971875 185.153154)scale(0.1 -0.1)\">\r\n       <use xlink:href=\"#DejaVuSans-119\"/>\r\n       <use x=\"81.787109\" xlink:href=\"#DejaVuSans-111\"/>\r\n       <use x=\"142.96875\" xlink:href=\"#DejaVuSans-114\"/>\r\n       <use x=\"184.082031\" xlink:href=\"#DejaVuSans-115\"/>\r\n       <use x=\"236.181641\" xlink:href=\"#DejaVuSans-116\"/>\r\n       <use x=\"275.390625\" xlink:href=\"#DejaVuSans-32\"/>\r\n       <use x=\"307.177734\" xlink:href=\"#DejaVuSans-116\"/>\r\n       <use x=\"346.386719\" xlink:href=\"#DejaVuSans-101\"/>\r\n       <use x=\"406.160156\" xlink:href=\"#DejaVuSans-120\"/>\r\n       <use x=\"465.339844\" xlink:href=\"#DejaVuSans-116\"/>\r\n       <use x=\"504.548828\" xlink:href=\"#DejaVuSans-117\"/>\r\n       <use x=\"567.927734\" xlink:href=\"#DejaVuSans-114\"/>\r\n       <use x=\"606.791016\" xlink:href=\"#DejaVuSans-101\"/>\r\n      </g>\r\n     </g>\r\n    </g>\r\n    <g id=\"ytick_23\">\r\n     <g id=\"line2d_30\">\r\n      <g>\r\n       <use style=\"stroke:#000000;stroke-width:0.8;\" x=\"132.801562\" xlink:href=\"#m33d71de9ad\" y=\"188.962233\"/>\r\n      </g>\r\n     </g>\r\n     <g id=\"text_30\">\r\n      <!-- worst perimeter -->\r\n      <g transform=\"translate(45.617187 192.761452)scale(0.1 -0.1)\">\r\n       <use xlink:href=\"#DejaVuSans-119\"/>\r\n       <use x=\"81.787109\" xlink:href=\"#DejaVuSans-111\"/>\r\n       <use x=\"142.96875\" xlink:href=\"#DejaVuSans-114\"/>\r\n       <use x=\"184.082031\" xlink:href=\"#DejaVuSans-115\"/>\r\n       <use x=\"236.181641\" xlink:href=\"#DejaVuSans-116\"/>\r\n       <use x=\"275.390625\" xlink:href=\"#DejaVuSans-32\"/>\r\n       <use x=\"307.177734\" xlink:href=\"#DejaVuSans-112\"/>\r\n       <use x=\"370.654297\" xlink:href=\"#DejaVuSans-101\"/>\r\n       <use x=\"432.177734\" xlink:href=\"#DejaVuSans-114\"/>\r\n       <use x=\"473.291016\" xlink:href=\"#DejaVuSans-105\"/>\r\n       <use x=\"501.074219\" xlink:href=\"#DejaVuSans-109\"/>\r\n       <use x=\"598.486328\" xlink:href=\"#DejaVuSans-101\"/>\r\n       <use x=\"660.009766\" xlink:href=\"#DejaVuSans-116\"/>\r\n       <use x=\"699.21875\" xlink:href=\"#DejaVuSans-101\"/>\r\n       <use x=\"760.742188\" xlink:href=\"#DejaVuSans-114\"/>\r\n      </g>\r\n     </g>\r\n    </g>\r\n    <g id=\"ytick_24\">\r\n     <g id=\"line2d_31\">\r\n      <g>\r\n       <use style=\"stroke:#000000;stroke-width:0.8;\" x=\"132.801562\" xlink:href=\"#m33d71de9ad\" y=\"196.570531\"/>\r\n      </g>\r\n     </g>\r\n     <g id=\"text_31\">\r\n      <!-- worst area -->\r\n      <g transform=\"translate(72.790625 200.36975)scale(0.1 -0.1)\">\r\n       <use xlink:href=\"#DejaVuSans-119\"/>\r\n       <use x=\"81.787109\" xlink:href=\"#DejaVuSans-111\"/>\r\n       <use x=\"142.96875\" xlink:href=\"#DejaVuSans-114\"/>\r\n       <use x=\"184.082031\" xlink:href=\"#DejaVuSans-115\"/>\r\n       <use x=\"236.181641\" xlink:href=\"#DejaVuSans-116\"/>\r\n       <use x=\"275.390625\" xlink:href=\"#DejaVuSans-32\"/>\r\n       <use x=\"307.177734\" xlink:href=\"#DejaVuSans-97\"/>\r\n       <use x=\"368.457031\" xlink:href=\"#DejaVuSans-114\"/>\r\n       <use x=\"407.320312\" xlink:href=\"#DejaVuSans-101\"/>\r\n       <use x=\"468.84375\" xlink:href=\"#DejaVuSans-97\"/>\r\n      </g>\r\n     </g>\r\n    </g>\r\n    <g id=\"ytick_25\">\r\n     <g id=\"line2d_32\">\r\n      <g>\r\n       <use style=\"stroke:#000000;stroke-width:0.8;\" x=\"132.801562\" xlink:href=\"#m33d71de9ad\" y=\"204.178829\"/>\r\n      </g>\r\n     </g>\r\n     <g id=\"text_32\">\r\n      <!-- worst smoothness -->\r\n      <g transform=\"translate(34.73125 207.978047)scale(0.1 -0.1)\">\r\n       <use xlink:href=\"#DejaVuSans-119\"/>\r\n       <use x=\"81.787109\" xlink:href=\"#DejaVuSans-111\"/>\r\n       <use x=\"142.96875\" xlink:href=\"#DejaVuSans-114\"/>\r\n       <use x=\"184.082031\" xlink:href=\"#DejaVuSans-115\"/>\r\n       <use x=\"236.181641\" xlink:href=\"#DejaVuSans-116\"/>\r\n       <use x=\"275.390625\" xlink:href=\"#DejaVuSans-32\"/>\r\n       <use x=\"307.177734\" xlink:href=\"#DejaVuSans-115\"/>\r\n       <use x=\"359.277344\" xlink:href=\"#DejaVuSans-109\"/>\r\n       <use x=\"456.689453\" xlink:href=\"#DejaVuSans-111\"/>\r\n       <use x=\"517.871094\" xlink:href=\"#DejaVuSans-111\"/>\r\n       <use x=\"579.052734\" xlink:href=\"#DejaVuSans-116\"/>\r\n       <use x=\"618.261719\" xlink:href=\"#DejaVuSans-104\"/>\r\n       <use x=\"681.640625\" xlink:href=\"#DejaVuSans-110\"/>\r\n       <use x=\"745.019531\" xlink:href=\"#DejaVuSans-101\"/>\r\n       <use x=\"806.542969\" xlink:href=\"#DejaVuSans-115\"/>\r\n       <use x=\"858.642578\" xlink:href=\"#DejaVuSans-115\"/>\r\n      </g>\r\n     </g>\r\n    </g>\r\n    <g id=\"ytick_26\">\r\n     <g id=\"line2d_33\">\r\n      <g>\r\n       <use style=\"stroke:#000000;stroke-width:0.8;\" x=\"132.801562\" xlink:href=\"#m33d71de9ad\" y=\"211.787126\"/>\r\n      </g>\r\n     </g>\r\n     <g id=\"text_33\">\r\n      <!-- worst compactness -->\r\n      <g transform=\"translate(28.923437 215.586345)scale(0.1 -0.1)\">\r\n       <use xlink:href=\"#DejaVuSans-119\"/>\r\n       <use x=\"81.787109\" xlink:href=\"#DejaVuSans-111\"/>\r\n       <use x=\"142.96875\" xlink:href=\"#DejaVuSans-114\"/>\r\n       <use x=\"184.082031\" xlink:href=\"#DejaVuSans-115\"/>\r\n       <use x=\"236.181641\" xlink:href=\"#DejaVuSans-116\"/>\r\n       <use x=\"275.390625\" xlink:href=\"#DejaVuSans-32\"/>\r\n       <use x=\"307.177734\" xlink:href=\"#DejaVuSans-99\"/>\r\n       <use x=\"362.158203\" xlink:href=\"#DejaVuSans-111\"/>\r\n       <use x=\"423.339844\" xlink:href=\"#DejaVuSans-109\"/>\r\n       <use x=\"520.751953\" xlink:href=\"#DejaVuSans-112\"/>\r\n       <use x=\"584.228516\" xlink:href=\"#DejaVuSans-97\"/>\r\n       <use x=\"645.507812\" xlink:href=\"#DejaVuSans-99\"/>\r\n       <use x=\"700.488281\" xlink:href=\"#DejaVuSans-116\"/>\r\n       <use x=\"739.697266\" xlink:href=\"#DejaVuSans-110\"/>\r\n       <use x=\"803.076172\" xlink:href=\"#DejaVuSans-101\"/>\r\n       <use x=\"864.599609\" xlink:href=\"#DejaVuSans-115\"/>\r\n       <use x=\"916.699219\" xlink:href=\"#DejaVuSans-115\"/>\r\n      </g>\r\n     </g>\r\n    </g>\r\n    <g id=\"ytick_27\">\r\n     <g id=\"line2d_34\">\r\n      <g>\r\n       <use style=\"stroke:#000000;stroke-width:0.8;\" x=\"132.801562\" xlink:href=\"#m33d71de9ad\" y=\"219.395424\"/>\r\n      </g>\r\n     </g>\r\n     <g id=\"text_34\">\r\n      <!-- worst concavity -->\r\n      <g transform=\"translate(46.96875 223.194643)scale(0.1 -0.1)\">\r\n       <use xlink:href=\"#DejaVuSans-119\"/>\r\n       <use x=\"81.787109\" xlink:href=\"#DejaVuSans-111\"/>\r\n       <use x=\"142.96875\" xlink:href=\"#DejaVuSans-114\"/>\r\n       <use x=\"184.082031\" xlink:href=\"#DejaVuSans-115\"/>\r\n       <use x=\"236.181641\" xlink:href=\"#DejaVuSans-116\"/>\r\n       <use x=\"275.390625\" xlink:href=\"#DejaVuSans-32\"/>\r\n       <use x=\"307.177734\" xlink:href=\"#DejaVuSans-99\"/>\r\n       <use x=\"362.158203\" xlink:href=\"#DejaVuSans-111\"/>\r\n       <use x=\"423.339844\" xlink:href=\"#DejaVuSans-110\"/>\r\n       <use x=\"486.71875\" xlink:href=\"#DejaVuSans-99\"/>\r\n       <use x=\"541.699219\" xlink:href=\"#DejaVuSans-97\"/>\r\n       <use x=\"602.978516\" xlink:href=\"#DejaVuSans-118\"/>\r\n       <use x=\"662.158203\" xlink:href=\"#DejaVuSans-105\"/>\r\n       <use x=\"689.941406\" xlink:href=\"#DejaVuSans-116\"/>\r\n       <use x=\"729.150391\" xlink:href=\"#DejaVuSans-121\"/>\r\n      </g>\r\n     </g>\r\n    </g>\r\n    <g id=\"ytick_28\">\r\n     <g id=\"line2d_35\">\r\n      <g>\r\n       <use style=\"stroke:#000000;stroke-width:0.8;\" x=\"132.801562\" xlink:href=\"#m33d71de9ad\" y=\"227.003722\"/>\r\n      </g>\r\n     </g>\r\n     <g id=\"text_35\">\r\n      <!-- worst concave points -->\r\n      <g transform=\"translate(19.542187 230.802941)scale(0.1 -0.1)\">\r\n       <use xlink:href=\"#DejaVuSans-119\"/>\r\n       <use x=\"81.787109\" xlink:href=\"#DejaVuSans-111\"/>\r\n       <use x=\"142.96875\" xlink:href=\"#DejaVuSans-114\"/>\r\n       <use x=\"184.082031\" xlink:href=\"#DejaVuSans-115\"/>\r\n       <use x=\"236.181641\" xlink:href=\"#DejaVuSans-116\"/>\r\n       <use x=\"275.390625\" xlink:href=\"#DejaVuSans-32\"/>\r\n       <use x=\"307.177734\" xlink:href=\"#DejaVuSans-99\"/>\r\n       <use x=\"362.158203\" xlink:href=\"#DejaVuSans-111\"/>\r\n       <use x=\"423.339844\" xlink:href=\"#DejaVuSans-110\"/>\r\n       <use x=\"486.71875\" xlink:href=\"#DejaVuSans-99\"/>\r\n       <use x=\"541.699219\" xlink:href=\"#DejaVuSans-97\"/>\r\n       <use x=\"602.978516\" xlink:href=\"#DejaVuSans-118\"/>\r\n       <use x=\"662.158203\" xlink:href=\"#DejaVuSans-101\"/>\r\n       <use x=\"723.681641\" xlink:href=\"#DejaVuSans-32\"/>\r\n       <use x=\"755.46875\" xlink:href=\"#DejaVuSans-112\"/>\r\n       <use x=\"818.945312\" xlink:href=\"#DejaVuSans-111\"/>\r\n       <use x=\"880.126953\" xlink:href=\"#DejaVuSans-105\"/>\r\n       <use x=\"907.910156\" xlink:href=\"#DejaVuSans-110\"/>\r\n       <use x=\"971.289062\" xlink:href=\"#DejaVuSans-116\"/>\r\n       <use x=\"1010.498047\" xlink:href=\"#DejaVuSans-115\"/>\r\n      </g>\r\n     </g>\r\n    </g>\r\n    <g id=\"ytick_29\">\r\n     <g id=\"line2d_36\">\r\n      <g>\r\n       <use style=\"stroke:#000000;stroke-width:0.8;\" x=\"132.801562\" xlink:href=\"#m33d71de9ad\" y=\"234.61202\"/>\r\n      </g>\r\n     </g>\r\n     <g id=\"text_36\">\r\n      <!-- worst symmetry -->\r\n      <g transform=\"translate(44.373437 238.411238)scale(0.1 -0.1)\">\r\n       <use xlink:href=\"#DejaVuSans-119\"/>\r\n       <use x=\"81.787109\" xlink:href=\"#DejaVuSans-111\"/>\r\n       <use x=\"142.96875\" xlink:href=\"#DejaVuSans-114\"/>\r\n       <use x=\"184.082031\" xlink:href=\"#DejaVuSans-115\"/>\r\n       <use x=\"236.181641\" xlink:href=\"#DejaVuSans-116\"/>\r\n       <use x=\"275.390625\" xlink:href=\"#DejaVuSans-32\"/>\r\n       <use x=\"307.177734\" xlink:href=\"#DejaVuSans-115\"/>\r\n       <use x=\"359.277344\" xlink:href=\"#DejaVuSans-121\"/>\r\n       <use x=\"418.457031\" xlink:href=\"#DejaVuSans-109\"/>\r\n       <use x=\"515.869141\" xlink:href=\"#DejaVuSans-109\"/>\r\n       <use x=\"613.28125\" xlink:href=\"#DejaVuSans-101\"/>\r\n       <use x=\"674.804688\" xlink:href=\"#DejaVuSans-116\"/>\r\n       <use x=\"714.013672\" xlink:href=\"#DejaVuSans-114\"/>\r\n       <use x=\"755.126953\" xlink:href=\"#DejaVuSans-121\"/>\r\n      </g>\r\n     </g>\r\n    </g>\r\n    <g id=\"ytick_30\">\r\n     <g id=\"line2d_37\">\r\n      <g>\r\n       <use style=\"stroke:#000000;stroke-width:0.8;\" x=\"132.801562\" xlink:href=\"#m33d71de9ad\" y=\"242.220317\"/>\r\n      </g>\r\n     </g>\r\n     <g id=\"text_37\">\r\n      <!-- worst fractal dimension -->\r\n      <g transform=\"translate(8.021875 246.019536)scale(0.1 -0.1)\">\r\n       <use xlink:href=\"#DejaVuSans-119\"/>\r\n       <use x=\"81.787109\" xlink:href=\"#DejaVuSans-111\"/>\r\n       <use x=\"142.96875\" xlink:href=\"#DejaVuSans-114\"/>\r\n       <use x=\"184.082031\" xlink:href=\"#DejaVuSans-115\"/>\r\n       <use x=\"236.181641\" xlink:href=\"#DejaVuSans-116\"/>\r\n       <use x=\"275.390625\" xlink:href=\"#DejaVuSans-32\"/>\r\n       <use x=\"307.177734\" xlink:href=\"#DejaVuSans-102\"/>\r\n       <use x=\"342.382812\" xlink:href=\"#DejaVuSans-114\"/>\r\n       <use x=\"383.496094\" xlink:href=\"#DejaVuSans-97\"/>\r\n       <use x=\"444.775391\" xlink:href=\"#DejaVuSans-99\"/>\r\n       <use x=\"499.755859\" xlink:href=\"#DejaVuSans-116\"/>\r\n       <use x=\"538.964844\" xlink:href=\"#DejaVuSans-97\"/>\r\n       <use x=\"600.244141\" xlink:href=\"#DejaVuSans-108\"/>\r\n       <use x=\"628.027344\" xlink:href=\"#DejaVuSans-32\"/>\r\n       <use x=\"659.814453\" xlink:href=\"#DejaVuSans-100\"/>\r\n       <use x=\"723.291016\" xlink:href=\"#DejaVuSans-105\"/>\r\n       <use x=\"751.074219\" xlink:href=\"#DejaVuSans-109\"/>\r\n       <use x=\"848.486328\" xlink:href=\"#DejaVuSans-101\"/>\r\n       <use x=\"910.009766\" xlink:href=\"#DejaVuSans-110\"/>\r\n       <use x=\"973.388672\" xlink:href=\"#DejaVuSans-115\"/>\r\n       <use x=\"1025.488281\" xlink:href=\"#DejaVuSans-105\"/>\r\n       <use x=\"1053.271484\" xlink:href=\"#DejaVuSans-111\"/>\r\n       <use x=\"1114.453125\" xlink:href=\"#DejaVuSans-110\"/>\r\n      </g>\r\n     </g>\r\n    </g>\r\n   </g>\r\n   <g id=\"patch_33\">\r\n    <path d=\"M 132.801562 256.6 \r\nL 132.801562 7.2 \r\n\" style=\"fill:none;stroke:#000000;stroke-linecap:square;stroke-linejoin:miter;stroke-width:0.8;\"/>\r\n   </g>\r\n   <g id=\"patch_34\">\r\n    <path d=\"M 417.576562 256.6 \r\nL 417.576562 7.2 \r\n\" style=\"fill:none;stroke:#000000;stroke-linecap:square;stroke-linejoin:miter;stroke-width:0.8;\"/>\r\n   </g>\r\n   <g id=\"patch_35\">\r\n    <path d=\"M 132.801562 256.6 \r\nL 417.576562 256.6 \r\n\" style=\"fill:none;stroke:#000000;stroke-linecap:square;stroke-linejoin:miter;stroke-width:0.8;\"/>\r\n   </g>\r\n   <g id=\"patch_36\">\r\n    <path d=\"M 132.801562 7.2 \r\nL 417.576562 7.2 \r\n\" style=\"fill:none;stroke:#000000;stroke-linecap:square;stroke-linejoin:miter;stroke-width:0.8;\"/>\r\n   </g>\r\n  </g>\r\n </g>\r\n <defs>\r\n  <clipPath id=\"pb7e249fb8e\">\r\n   <rect height=\"249.4\" width=\"284.775\" x=\"132.801562\" y=\"7.2\"/>\r\n  </clipPath>\r\n </defs>\r\n</svg>\r\n",
      "image/png": "[encoded data removed]"
     },
     "metadata": {
      "needs_background": "light"
     }
    }
   ],
   "source": [
    "import matplotlib.pyplot as plt\n",
    "fig, ax = plt.subplots()\n",
    "y_pos = np.arange(len(feature_importance.keys()))\n",
    "ax.barh(y_pos, feature_importance.values())\n",
    "ax.set_yticks(y_pos)\n",
    "ax.set_yticklabels(feature_importance.keys())\n",
    "ax.invert_yaxis()\n",
    "plt.tight_layout()\n",
    "plt.show()"
   ]
  },
  {
   "cell_type": "markdown",
   "metadata": {},
   "source": [
    "## Question 4\n",
    "implement the Random Forest algorithm by using the CART you just implemented from question 2. You should implement three arguments for the Random Forest.\n",
    "\n",
    "1. **N_estimators**: The number of trees in the forest. \n",
    "2. **Max_features**: The number of random select features to consider when looking for the best split\n",
    "3. **Bootstrap**: Whether bootstrap samples are used when building tree\n"
   ]
  },
  {
   "cell_type": "code",
   "execution_count": 48,
   "metadata": {},
   "outputs": [],
   "source": [
    "class RandomForest():\n",
    "    def __init__(self, n_estimators, max_features, boostrap=True, criterion='gini', max_depth=None):\n",
    "        \"\"\"Random Forest algorithm.\n",
    "\n",
    "        Args:\n",
    "            n_estimators (int): The number of trees in the forest.\n",
    "            max_features (int): The number of random select features to consider when looking for the best split.\n",
    "            boostrap (bool): If bootstrap samples are used when building tree.\n",
    "            criterion (str): The criterion used, should be 'gini' or 'entropy'.\n",
    "            max_depth (int): The maximum depth of the tree, if is None, then nodes are expanded to the end.\n",
    "        \"\"\"\n",
    "        self.n_estimators = n_estimators\n",
    "        self.max_features = max_features\n",
    "        self.boostrap = boostrap\n",
    "        self.criterion = criterion\n",
    "        if max_depth == None:\n",
    "            self.max_depth = float('inf')\n",
    "        else:\n",
    "            self.max_depth = max_depth\n",
    "    \n",
    "    def fit(self, x, y):\n",
    "        \"\"\"Fit the model.\n",
    "\n",
    "        Args:\n",
    "            x (list): The data.\n",
    "            y (list): The labels.\n",
    "        \"\"\"\n",
    "        self.trees = list()\n",
    "        for i in range(self.n_estimators):\n",
    "            tree = DecisionTree(self.criterion, self.max_depth)\n",
    "            tree.fit(x, y, self.boostrap, True, self.max_features)\n",
    "            self.trees.append(tree)\n",
    "\n",
    "    def apply(self, x, y):\n",
    "        \"\"\"Apply the model on given data.\n",
    "\n",
    "        Args:\n",
    "            x (list): The data.\n",
    "            y (list): The labels, only for cheking accuracy.\n",
    "        Returns:\n",
    "            accuracy (float): The accuracy of the model.\n",
    "        \"\"\"\n",
    "        x = x.to_numpy()\n",
    "        y = y.to_numpy()\n",
    "        labels = np.unique(y)\n",
    "        correct = 0\n",
    "        total = len(x)\n",
    "        for row, features in enumerate(x):\n",
    "            counts = dict(zip(labels, [0] * len(labels)))\n",
    "            for tree in self.trees:\n",
    "                counts[tree.predict(features)] += 1\n",
    "            label = max(counts, key=counts.get)\n",
    "            if label == y[row][0]:\n",
    "                correct += 1\n",
    "\n",
    "        return correct / total"
   ]
  },
  {
   "cell_type": "markdown",
   "metadata": {},
   "source": [
    "### Question 4.1\n",
    "Using Criterion=‘gini’, Max_depth=None, Max_features=sqrt(n_features), showing the accuracy score of test data by n_estimators=10 and n_estimators=100, respectively.\n"
   ]
  },
  {
   "cell_type": "code",
   "execution_count": 49,
   "metadata": {},
   "outputs": [],
   "source": [
    "clf_10tree = RandomForest(n_estimators=10, max_features=np.sqrt(x_train.shape[1]))\n",
    "clf_100tree = RandomForest(n_estimators=100, max_features=np.sqrt(x_train.shape[1]))"
   ]
  },
  {
   "cell_type": "code",
   "execution_count": 50,
   "metadata": {},
   "outputs": [],
   "source": [
    "clf_10tree.fit(x_train, y_train)"
   ]
  },
  {
   "cell_type": "code",
   "execution_count": 51,
   "metadata": {},
   "outputs": [
    {
     "output_type": "execute_result",
     "data": {
      "text/plain": [
       "0.9300699300699301"
      ]
     },
     "metadata": {},
     "execution_count": 51
    }
   ],
   "source": [
    "clf_10tree.apply(x_test, y_test)"
   ]
  },
  {
   "cell_type": "code",
   "execution_count": 52,
   "metadata": {},
   "outputs": [],
   "source": [
    "clf_100tree.fit(x_train, y_train)"
   ]
  },
  {
   "cell_type": "code",
   "execution_count": 53,
   "metadata": {},
   "outputs": [
    {
     "output_type": "execute_result",
     "data": {
      "text/plain": [
       "0.9440559440559441"
      ]
     },
     "metadata": {},
     "execution_count": 53
    }
   ],
   "source": [
    "clf_100tree.apply(x_test, y_test)"
   ]
  },
  {
   "cell_type": "markdown",
   "metadata": {},
   "source": [
    "### Question 4.2\n",
    "Using Criterion=‘gini’, Max_depth=None, N_estimators=10, showing the accuracy score of test data by Max_features=sqrt(n_features) and Max_features=n_features, respectively.\n"
   ]
  },
  {
   "cell_type": "code",
   "execution_count": 54,
   "metadata": {},
   "outputs": [],
   "source": [
    "clf_random_features = RandomForest(n_estimators=10, max_features=np.sqrt(x_train.shape[1]))\n",
    "clf_all_features = RandomForest(n_estimators=10, max_features=x_train.shape[1])"
   ]
  },
  {
   "cell_type": "markdown",
   "metadata": {},
   "source": [
    "- Note: Use majority votes to get the final prediction, you may get slightly different results when re-building the random forest model"
   ]
  },
  {
   "cell_type": "code",
   "execution_count": 55,
   "metadata": {},
   "outputs": [],
   "source": [
    "clf_random_features.fit(x_train, y_train)"
   ]
  },
  {
   "cell_type": "code",
   "execution_count": 56,
   "metadata": {},
   "outputs": [
    {
     "output_type": "execute_result",
     "data": {
      "text/plain": [
       "0.9440559440559441"
      ]
     },
     "metadata": {},
     "execution_count": 56
    }
   ],
   "source": [
    "clf_random_features.apply(x_test, y_test)"
   ]
  },
  {
   "cell_type": "code",
   "execution_count": 57,
   "metadata": {},
   "outputs": [],
   "source": [
    "clf_all_features.fit(x_train, y_train)"
   ]
  },
  {
   "cell_type": "code",
   "execution_count": 58,
   "metadata": {},
   "outputs": [
    {
     "output_type": "execute_result",
     "data": {
      "text/plain": [
       "0.9440559440559441"
      ]
     },
     "metadata": {},
     "execution_count": 58
    }
   ],
   "source": [
    "clf_all_features.apply(x_test, y_test)"
   ]
  },
  {
   "cell_type": "markdown",
   "metadata": {},
   "source": [
    "## Supplementary\n",
    "If you have trouble to implement this homework, TA strongly recommend watching [this video](https://www.youtube.com/watch?v=LDRbO9a6XPU), which explains Decision Tree model clearly. But don't copy code from any resources, try to finish this homework by yourself! "
   ]
  }
 ],
 "metadata": {
  "kernelspec": {
   "name": "python36864bit3a7d34f705ae4c60997f29f2c2e79403",
   "display_name": "Python 3.6.8 64-bit"
  },
  "language_info": {
   "codemirror_mode": {
    "name": "ipython",
    "version": 3
   },
   "file_extension": ".py",
   "mimetype": "text/x-python",
   "name": "python",
   "nbconvert_exporter": "python",
   "pygments_lexer": "ipython3",
   "version": "3.6.8"
  },
  "metadata": {
   "interpreter": {
    "hash": "4c65b98e956c6ae24f8ae0bc56d1e465ff92310dbdec0a4bd6b48ffdf1441c98"
   }
  }
 },
 "nbformat": 4,
 "nbformat_minor": 4
}