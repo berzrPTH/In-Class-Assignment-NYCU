{
 "cells": [
  {
   "cell_type": "markdown",
   "metadata": {},
   "source": [
    "## Method\n",
    "\n",
    "Some data type which would be used during experiment.\n",
    "\n",
    "### Data Loader"
   ]
  },
  {
   "cell_type": "code",
   "execution_count": 1,
   "metadata": {},
   "outputs": [],
   "source": [
    "import pandas as pd"
   ]
  },
  {
   "cell_type": "code",
   "execution_count": 2,
   "metadata": {},
   "outputs": [
    {
     "output_type": "execute_result",
     "data": {
      "text/plain": "   0   1        2        3        4        5        6        7        8   \\\n0   1   0  0.99539 -0.05889  0.85243  0.02306  0.83398 -0.37708  1.00000   \n1   1   0  1.00000 -0.18829  0.93035 -0.36156 -0.10868 -0.93597  1.00000   \n2   1   0  1.00000 -0.03365  1.00000  0.00485  1.00000 -0.12062  0.88965   \n3   1   0  1.00000 -0.45161  1.00000  1.00000  0.71216 -1.00000  0.00000   \n4   1   0  1.00000 -0.02401  0.94140  0.06531  0.92106 -0.23255  0.77152   \n\n        9   ...       25       26       27       28       29       30  \\\n0  0.03760  ... -0.51171  0.41078 -0.46168  0.21266 -0.34090  0.42267   \n1 -0.04549  ... -0.26569 -0.20468 -0.18401 -0.19040 -0.11593 -0.16626   \n2  0.01198  ... -0.40220  0.58984 -0.22145  0.43100 -0.17365  0.60436   \n3  0.00000  ...  0.90695  0.51613  1.00000  1.00000 -0.20099  0.25682   \n4 -0.16399  ... -0.65158  0.13290 -0.53206  0.02431 -0.62197 -0.05707   \n\n        31       32       33  34  \n0 -0.54487  0.18641 -0.45300   g  \n1 -0.06288 -0.13738 -0.02447   b  \n2 -0.24180  0.56045 -0.38238   g  \n3  1.00000 -0.32382  1.00000   b  \n4 -0.59573 -0.04608 -0.65697   g  \n\n[5 rows x 35 columns]",
      "text/html": "<div>\n<style scoped>\n    .dataframe tbody tr th:only-of-type {\n        vertical-align: middle;\n    }\n\n    .dataframe tbody tr th {\n        vertical-align: top;\n    }\n\n    .dataframe thead th {\n        text-align: right;\n    }\n</style>\n<table border=\"1\" class=\"dataframe\">\n  <thead>\n    <tr style=\"text-align: right;\">\n      <th></th>\n      <th>0</th>\n      <th>1</th>\n      <th>2</th>\n      <th>3</th>\n      <th>4</th>\n      <th>5</th>\n      <th>6</th>\n      <th>7</th>\n      <th>8</th>\n      <th>9</th>\n      <th>...</th>\n      <th>25</th>\n      <th>26</th>\n      <th>27</th>\n      <th>28</th>\n      <th>29</th>\n      <th>30</th>\n      <th>31</th>\n      <th>32</th>\n      <th>33</th>\n      <th>34</th>\n    </tr>\n  </thead>\n  <tbody>\n    <tr>\n      <th>0</th>\n      <td>1</td>\n      <td>0</td>\n      <td>0.99539</td>\n      <td>-0.05889</td>\n      <td>0.85243</td>\n      <td>0.02306</td>\n      <td>0.83398</td>\n      <td>-0.37708</td>\n      <td>1.00000</td>\n      <td>0.03760</td>\n      <td>...</td>\n      <td>-0.51171</td>\n      <td>0.41078</td>\n      <td>-0.46168</td>\n      <td>0.21266</td>\n      <td>-0.34090</td>\n      <td>0.42267</td>\n      <td>-0.54487</td>\n      <td>0.18641</td>\n      <td>-0.45300</td>\n      <td>g</td>\n    </tr>\n    <tr>\n      <th>1</th>\n      <td>1</td>\n      <td>0</td>\n      <td>1.00000</td>\n      <td>-0.18829</td>\n      <td>0.93035</td>\n      <td>-0.36156</td>\n      <td>-0.10868</td>\n      <td>-0.93597</td>\n      <td>1.00000</td>\n      <td>-0.04549</td>\n      <td>...</td>\n      <td>-0.26569</td>\n      <td>-0.20468</td>\n      <td>-0.18401</td>\n      <td>-0.19040</td>\n      <td>-0.11593</td>\n      <td>-0.16626</td>\n      <td>-0.06288</td>\n      <td>-0.13738</td>\n      <td>-0.02447</td>\n      <td>b</td>\n    </tr>\n    <tr>\n      <th>2</th>\n      <td>1</td>\n      <td>0</td>\n      <td>1.00000</td>\n      <td>-0.03365</td>\n      <td>1.00000</td>\n      <td>0.00485</td>\n      <td>1.00000</td>\n      <td>-0.12062</td>\n      <td>0.88965</td>\n      <td>0.01198</td>\n      <td>...</td>\n      <td>-0.40220</td>\n      <td>0.58984</td>\n      <td>-0.22145</td>\n      <td>0.43100</td>\n      <td>-0.17365</td>\n      <td>0.60436</td>\n      <td>-0.24180</td>\n      <td>0.56045</td>\n      <td>-0.38238</td>\n      <td>g</td>\n    </tr>\n    <tr>\n      <th>3</th>\n      <td>1</td>\n      <td>0</td>\n      <td>1.00000</td>\n      <td>-0.45161</td>\n      <td>1.00000</td>\n      <td>1.00000</td>\n      <td>0.71216</td>\n      <td>-1.00000</td>\n      <td>0.00000</td>\n      <td>0.00000</td>\n      <td>...</td>\n      <td>0.90695</td>\n      <td>0.51613</td>\n      <td>1.00000</td>\n      <td>1.00000</td>\n      <td>-0.20099</td>\n      <td>0.25682</td>\n      <td>1.00000</td>\n      <td>-0.32382</td>\n      <td>1.00000</td>\n      <td>b</td>\n    </tr>\n    <tr>\n      <th>4</th>\n      <td>1</td>\n      <td>0</td>\n      <td>1.00000</td>\n      <td>-0.02401</td>\n      <td>0.94140</td>\n      <td>0.06531</td>\n      <td>0.92106</td>\n      <td>-0.23255</td>\n      <td>0.77152</td>\n      <td>-0.16399</td>\n      <td>...</td>\n      <td>-0.65158</td>\n      <td>0.13290</td>\n      <td>-0.53206</td>\n      <td>0.02431</td>\n      <td>-0.62197</td>\n      <td>-0.05707</td>\n      <td>-0.59573</td>\n      <td>-0.04608</td>\n      <td>-0.65697</td>\n      <td>g</td>\n    </tr>\n  </tbody>\n</table>\n<p>5 rows × 35 columns</p>\n</div>"
     },
     "metadata": {},
     "execution_count": 2
    }
   ],
   "source": [
    "#PATH = 'https://archive.ics.uci.edu/ml/machine-learning-databases/glass/glass.data' # (214, 9, 6)\n",
    "PATH = 'https://archive.ics.uci.edu/ml/machine-learning-databases/ionosphere/ionosphere.data' # (351, 34, 2)\n",
    "df = pd.read_csv(PATH, header=None)\n",
    "df.head()"
   ]
  },
  {
   "cell_type": "code",
   "execution_count": 3,
   "metadata": {
    "tags": []
   },
   "outputs": [
    {
     "output_type": "stream",
     "name": "stdout",
     "text": "(351, 35)\n"
    }
   ],
   "source": [
    "dataset = df.to_numpy()\n",
    "print(dataset.shape)"
   ]
  },
  {
   "cell_type": "code",
   "execution_count": 4,
   "metadata": {},
   "outputs": [],
   "source": [
    "import numpy as np"
   ]
  },
  {
   "cell_type": "code",
   "execution_count": 5,
   "metadata": {
    "tags": []
   },
   "outputs": [
    {
     "output_type": "stream",
     "name": "stdout",
     "text": "(2,)\n"
    }
   ],
   "source": [
    "classes, code = np.unique(dataset[:, -1], return_inverse=True)\n",
    "dataset[:, -1] = code\n",
    "print(classes.shape)"
   ]
  },
  {
   "cell_type": "code",
   "execution_count": 6,
   "metadata": {
    "tags": []
   },
   "outputs": [
    {
     "output_type": "stream",
     "name": "stdout",
     "text": "(351, 34)\n(351,)\n"
    }
   ],
   "source": [
    "x_train = dataset[:, 0:-1] # ionosphere\n",
    "#x_train = dataset[:, 1:-1] # glass\n",
    "y_train = dataset[:, -1]\n",
    "print(x_train.shape)\n",
    "print(y_train.shape)"
   ]
  },
  {
   "cell_type": "markdown",
   "metadata": {},
   "source": [
    "### Cross Validation"
   ]
  },
  {
   "cell_type": "code",
   "execution_count": 7,
   "metadata": {},
   "outputs": [],
   "source": [
    "def cross_validation(x_train, y_train, k=5):\n",
    "    kfold_data = list()\n",
    "    n_samples, n_splits = x_train.shape[0], k\n",
    "\n",
    "    folds = list()\n",
    "    perm = np.random.permutation(n_samples)\n",
    "    idx = 0\n",
    "    for i in range(n_splits):\n",
    "        if i < n_samples % n_splits:\n",
    "            fold_size = n_samples // n_splits + 1\n",
    "        else:\n",
    "            fold_size = n_samples // n_splits\n",
    "\n",
    "        folds.append(list(perm[idx:idx+fold_size]))\n",
    "        idx += fold_size\n",
    "\n",
    "    for i in range(n_splits):\n",
    "        train_folds_idx = list(range(0, i)) + list(range(i+1, n_splits))\n",
    "        train_idx = list()\n",
    "        for j in train_folds_idx:\n",
    "            train_idx += folds[j]\n",
    "        kfold_data.append([train_idx, folds[i]])\n",
    "\n",
    "    return kfold_data\n"
   ]
  },
  {
   "cell_type": "code",
   "execution_count": 8,
   "metadata": {
    "tags": []
   },
   "outputs": [
    {
     "output_type": "stream",
     "name": "stdout",
     "text": "[[[4, 7, 2, 1, 3, 6], [0, 5]], [[0, 5, 2, 1, 3, 6], [4, 7]], [[0, 5, 4, 7, 3, 6], [2, 1]], [[0, 5, 4, 7, 2, 1, 6], [3]], [[0, 5, 4, 7, 2, 1, 3], [6]]]\n"
    }
   ],
   "source": [
    "kfold_data = cross_validation(np.arange(8), np.arange(8))\n",
    "print(kfold_data)"
   ]
  },
  {
   "cell_type": "markdown",
   "metadata": {},
   "source": [
    "### CART"
   ]
  },
  {
   "cell_type": "code",
   "execution_count": 9,
   "metadata": {},
   "outputs": [],
   "source": [
    "# Criterion function\n",
    "\n",
    "def gini(sequence):\n",
    "    if len(sequence) == 0:\n",
    "        return 0\n",
    "    targets, counts = np.unique(sequence, return_counts=True)\n",
    "    p_counts = counts / counts.sum()\n",
    "    impure = 1 - np.dot(p_counts, p_counts)\n",
    "    return impure\n",
    "\n",
    "def entropy(sequence):\n",
    "    if len(sequence) == 0:\n",
    "        return 0\n",
    "    targets, counts = np.unique(sequence, return_counts=True)\n",
    "    p_counts = counts / counts.sum()\n",
    "    impure = -np.dot(p_counts, np.log2(p_counts))\n",
    "    return impure"
   ]
  },
  {
   "cell_type": "code",
   "execution_count": 10,
   "metadata": {},
   "outputs": [],
   "source": [
    "class Node():\n",
    "    def __init__(self, rows, depth):\n",
    "        self.rows = rows\n",
    "        self.depth = depth\n",
    "        self.best_attribute = None\n",
    "        self.best_threshold = None\n",
    "        self.left = None\n",
    "        self.right = None\n",
    "        self.target = None\n",
    "        self.impure = None"
   ]
  },
  {
   "cell_type": "code",
   "execution_count": 11,
   "metadata": {},
   "outputs": [],
   "source": [
    "rng = np.random.default_rng()\n",
    "\n",
    "class DecisionTree():\n",
    "    def __init__(self, criterion, max_depth,\n",
    "                 nun_attributes=None):\n",
    "        self.criterion = criterion\n",
    "        self.max_depth = max_depth\n",
    "        self.root = None\n",
    "        self.x_train = None\n",
    "        self.y_train = None\n",
    "        self.max_attributes = nun_attributes\n",
    "\n",
    "    def fit(self, x_train, y_train):\n",
    "        self.root = Node(np.arange(x_train.shape[0]), 0)\n",
    "        self.x_train = x_train\n",
    "        self.y_train = y_train\n",
    "        self.split(self.root)\n",
    "\n",
    "    def split(self, node):\n",
    "        node.impure = self.criterion(self.y_train[node.rows])\n",
    "        attributes = np.arange(self.x_train.shape[1])\n",
    "        if self.max_attributes != None:\n",
    "            if self.max_attributes > len(attributes):\n",
    "                self.max_attributes = len(attributes)\n",
    "            attributes = rng.choice(attributes, self.max_attributes,\n",
    "                                    replace=False)\n",
    "            attributes = np.unique(attributes)\n",
    "\n",
    "        best_attribute = None\n",
    "        best_threshold = None\n",
    "        best_left = None\n",
    "        best_right = None\n",
    "        min_impure = 1\n",
    "\n",
    "        for attribute in attributes:\n",
    "            for row in node.rows:\n",
    "                left = list()\n",
    "                right = list()\n",
    "                threshold = self.x_train[row][attribute]\n",
    "                impure = 0\n",
    "\n",
    "                for i in node.rows:\n",
    "                    if self.x_train[i][attribute] < threshold:\n",
    "                        left.append(i)\n",
    "                    else:\n",
    "                        right.append(i)\n",
    "                \n",
    "                impure += len(left) * self.criterion([self.y_train[j] for j in left])\n",
    "                impure += len(right) * self.criterion([self.y_train[j] for j in right])\n",
    "                impure /= len(left) + len(right)\n",
    "\n",
    "                if impure < min_impure and left and right:\n",
    "                    best_attribute = attribute\n",
    "                    best_threshold = threshold\n",
    "                    best_left = left\n",
    "                    best_right = right\n",
    "                    min_impure = impure\n",
    "\n",
    "        if best_left and best_right and node.depth < self.max_depth:\n",
    "            node.best_attribute = best_attribute\n",
    "            node.best_threshold = best_threshold\n",
    "            node.left = Node(best_left, node.depth + 1)\n",
    "            node.right = Node(best_right, node.depth + 1)\n",
    "            self.split(node.left)\n",
    "            self.split(node.right)\n",
    "        else:\n",
    "            unique, counts = np.unique(self.y_train[node.rows], return_counts=True)\n",
    "            node.target = unique[np.argmax(counts)]\n",
    "            return\n",
    "\n",
    "    def predict(self, x_test):\n",
    "        y_pred = list()\n",
    "\n",
    "        for x in x_test:\n",
    "            current = self.root\n",
    "            while current.target == None:\n",
    "                if x[current.best_attribute] < current.best_threshold:\n",
    "                    current = current.left\n",
    "                else:\n",
    "                    current = current.right\n",
    "            y_pred.append(current.target)\n",
    "    \n",
    "        return y_pred\n",
    "\n",
    "    def attribute_importance(self):\n",
    "        importance = [0] * self.x_train.shape[1]\n",
    "        q = list()\n",
    "        q.append(self.root)\n",
    "        while q:\n",
    "            node = q.pop()\n",
    "            if node.best_attribute != None:\n",
    "                importance[node.best_attribute] += len(node.rows) * node.impure\n",
    "                importance[node.best_attribute] -= len(node.left.rows) * node.left.impure\n",
    "                importance[node.best_attribute] -= len(node.right.rows) * node.right.impure\n",
    "                q.append(node.left)\n",
    "                q.append(node.right)\n",
    "        return importance\n",
    "            "
   ]
  },
  {
   "cell_type": "code",
   "execution_count": 12,
   "metadata": {},
   "outputs": [],
   "source": [
    "def accuracy_score(y_pred, y_test):\n",
    "    return (y_pred == y_test).sum().item() / len(y_pred)"
   ]
  },
  {
   "cell_type": "code",
   "execution_count": 13,
   "metadata": {
    "tags": []
   },
   "outputs": [],
   "source": [
    "tree = DecisionTree(gini, 3)\n",
    "tree.fit(x_train, y_train)"
   ]
  },
  {
   "cell_type": "code",
   "execution_count": 14,
   "metadata": {
    "tags": []
   },
   "outputs": [
    {
     "output_type": "stream",
     "name": "stdout",
     "text": "0.9259259259259259\n"
    }
   ],
   "source": [
    "y_pred = tree.predict(x_train)\n",
    "print(accuracy_score(y_pred, y_train))"
   ]
  },
  {
   "cell_type": "markdown",
   "metadata": {},
   "source": [
    "### Random Forest"
   ]
  },
  {
   "cell_type": "code",
   "execution_count": 15,
   "metadata": {},
   "outputs": [],
   "source": [
    "class RandomForest():\n",
    "    def __init__(self, criterion, max_depth, num_trees,\n",
    "                 max_attributes=None, bootstrap=True):\n",
    "        self.trees = list()\n",
    "        for i in range(num_trees):\n",
    "            self.trees.append(\n",
    "                DecisionTree(criterion, max_depth, max_attributes)\n",
    "            )\n",
    "        self.bootstrap = bootstrap\n",
    "\n",
    "    def fit(self, x_train, y_train):\n",
    "        self.out_of_bag = list()\n",
    "        for i, tree in enumerate(self.trees):\n",
    "            print('Fitting tree #%d' % (i+1))\n",
    "            data_idx = np.arange(x_train.shape[0])\n",
    "            if self.bootstrap == True:\n",
    "                data_idx = rng.choice(data_idx, len(data_idx))\n",
    "                self.out_of_bag.append(\n",
    "                    np.setxor1d(data_idx, np.arange(x_train.shape[0]))\n",
    "                )\n",
    "\n",
    "            _x_train = x_train[data_idx]\n",
    "            _y_train = y_train[data_idx]\n",
    "            tree.fit(_x_train, _y_train)\n",
    "        print('Finished Fitting')\n",
    "    \n",
    "    def predict(self, x_test):\n",
    "        result = list()\n",
    "        y_pred = list()\n",
    "        for tree in self.trees:\n",
    "            y_pred.append(tree.predict(x_test))\n",
    "        y_pred = np.asarray(y_pred)\n",
    "        for i in range(y_pred.shape[1]):\n",
    "            unique, counts = np.unique(y_pred[:,i], return_counts=True)\n",
    "            result.append(unique[np.argmax(counts)])\n",
    "        return result\n",
    "\n",
    "    def accuracy_out_of_bag(self):\n",
    "        result = list()\n",
    "        for idx, tree in enumerate(self.trees):\n",
    "            data_idx = self.out_of_bag[idx]\n",
    "            x_test = tree.x_train[data_idx]\n",
    "            y_test = tree.y_train[data_idx]\n",
    "            y_pred = tree.predict(x_test)\n",
    "            result.append(accuracy_score(y_pred, y_test))\n",
    "        return result\n"
   ]
  },
  {
   "cell_type": "code",
   "execution_count": 16,
   "metadata": {},
   "outputs": [],
   "source": [
    "forest = RandomForest(gini, 3, 10,\n",
    "                      max_attributes=int(np.sqrt(x_train.shape[1])))"
   ]
  },
  {
   "cell_type": "code",
   "execution_count": 17,
   "metadata": {
    "tags": []
   },
   "outputs": [
    {
     "output_type": "stream",
     "name": "stdout",
     "text": "Fitting tree #1\nFitting tree #2\nFitting tree #3\nFitting tree #4\nFitting tree #5\nFitting tree #6\nFitting tree #7\nFitting tree #8\nFitting tree #9\nFitting tree #10\nFinished Fitting\n"
    },
    {
     "output_type": "execute_result",
     "data": {
      "text/plain": "0.9572649572649573"
     },
     "metadata": {},
     "execution_count": 17
    }
   ],
   "source": [
    "forest.fit(x_train, y_train)\n",
    "y_pred = forest.predict(x_train)\n",
    "accuracy_score(y_pred, y_train)"
   ]
  },
  {
   "cell_type": "markdown",
   "metadata": {},
   "source": [
    "## Experiment\n",
    "\n",
    "1. Tree depth"
   ]
  },
  {
   "cell_type": "code",
   "execution_count": 18,
   "metadata": {},
   "outputs": [],
   "source": [
    "def compare(model_list):\n",
    "    k = 5\n",
    "    result = np.empty((len(model_list), k))\n",
    "    kfold_data = cross_validation(x_train, y_train, k=k)\n",
    "    for i, data_idx in enumerate(kfold_data):\n",
    "        print('Fold #%d' % (i+1))\n",
    "        train_idx, test_idx = data_idx\n",
    "        _x_train, _y_train = x_train[train_idx], y_train[train_idx]\n",
    "        _x_test, _y_test = x_train[test_idx], y_train[test_idx]\n",
    "\n",
    "        for j, model in enumerate(model_list):\n",
    "            model.fit(_x_train, _y_train)\n",
    "            y_pred = model.predict(_x_test)\n",
    "            result[j][i] = accuracy_score(y_pred, _y_test)\n",
    "\n",
    "    return result.mean(axis=1)\n"
   ]
  },
  {
   "cell_type": "code",
   "execution_count": 20,
   "metadata": {},
   "outputs": [],
   "source": [
    "clf_depth3 = DecisionTree(criterion=gini, max_depth=3)\n",
    "clf_depth5 = DecisionTree(criterion=gini, max_depth=5)"
   ]
  },
  {
   "cell_type": "code",
   "execution_count": 21,
   "metadata": {
    "tags": []
   },
   "outputs": [
    {
     "output_type": "stream",
     "name": "stdout",
     "text": "Fold #1\nFold #2\nFold #3\nFold #4\nFold #5\n[0.90016097 0.89742455]\n"
    }
   ],
   "source": [
    "comparison = compare([clf_depth3, clf_depth5])\n",
    "print(comparison)"
   ]
  },
  {
   "cell_type": "code",
   "execution_count": 22,
   "metadata": {
    "tags": []
   },
   "outputs": [
    {
     "output_type": "stream",
     "name": "stdout",
     "text": "max_depth=3: 0.9001609657947686\nmax_depth=5: 0.8974245472837022\n"
    }
   ],
   "source": [
    "print('max_depth=3:', comparison[0])\n",
    "print('max_depth=5:', comparison[1])"
   ]
  },
  {
   "cell_type": "markdown",
   "metadata": {},
   "source": [
    "2. Criterion"
   ]
  },
  {
   "cell_type": "code",
   "execution_count": 23,
   "metadata": {},
   "outputs": [],
   "source": [
    "clf_gini = DecisionTree(criterion=gini, max_depth=3)\n",
    "clf_entropy = DecisionTree(criterion=entropy, max_depth=3)"
   ]
  },
  {
   "cell_type": "code",
   "execution_count": 24,
   "metadata": {
    "tags": []
   },
   "outputs": [
    {
     "output_type": "stream",
     "name": "stdout",
     "text": "Fold #1\nFold #2\nFold #3\nFold #4\nFold #5\n[0.88619718 0.89762575]\n"
    }
   ],
   "source": [
    "comparison = compare([clf_gini, clf_entropy])\n",
    "print(comparison)"
   ]
  },
  {
   "cell_type": "code",
   "execution_count": 25,
   "metadata": {
    "tags": []
   },
   "outputs": [
    {
     "output_type": "stream",
     "name": "stdout",
     "text": "Gini: 0.8861971830985915\nEntropy: 0.8976257545271631\n"
    }
   ],
   "source": [
    "print('Gini:', comparison[0])\n",
    "print('Entropy:', comparison[1])"
   ]
  },
  {
   "cell_type": "markdown",
   "metadata": {},
   "source": [
    "5. Number of tree"
   ]
  },
  {
   "cell_type": "code",
   "execution_count": 26,
   "metadata": {},
   "outputs": [],
   "source": [
    "clf_10tree = RandomForest(criterion=gini, max_depth=3, num_trees=10,\n",
    "                          max_attributes=int(np.sqrt(x_train.shape[1])))\n",
    "clf_100tree = RandomForest(criterion=gini, max_depth=3, num_trees=100,\n",
    "                           max_attributes=int(np.sqrt(x_train.shape[1])))"
   ]
  },
  {
   "cell_type": "code",
   "execution_count": 27,
   "metadata": {
    "tags": []
   },
   "outputs": [
    {
     "output_type": "stream",
     "name": "stdout",
     "text": "Fold #1\nFitting tree #1\nFitting tree #2\nFitting tree #3\nFitting tree #4\nFitting tree #5\nFitting tree #6\nFitting tree #7\nFitting tree #8\nFitting tree #9\nFitting tree #10\nFinished Fitting\nFitting tree #1\nFitting tree #2\nFitting tree #3\nFitting tree #4\nFitting tree #5\nFitting tree #6\nFitting tree #7\nFitting tree #8\nFitting tree #9\nFitting tree #10\nFitting tree #11\nFitting tree #12\nFitting tree #13\nFitting tree #14\nFitting tree #15\nFitting tree #16\nFitting tree #17\nFitting tree #18\nFitting tree #19\nFitting tree #20\nFitting tree #21\nFitting tree #22\nFitting tree #23\nFitting tree #24\nFitting tree #25\nFitting tree #26\nFitting tree #27\nFitting tree #28\nFitting tree #29\nFitting tree #30\nFitting tree #31\nFitting tree #32\nFitting tree #33\nFitting tree #34\nFitting tree #35\nFitting tree #36\nFitting tree #37\nFitting tree #38\nFitting tree #39\nFitting tree #40\nFitting tree #41\nFitting tree #42\nFitting tree #43\nFitting tree #44\nFitting tree #45\nFitting tree #46\nFitting tree #47\nFitting tree #48\nFitting tree #49\nFitting tree #50\nFitting tree #51\nFitting tree #52\nFitting tree #53\nFitting tree #54\nFitting tree #55\nFitting tree #56\nFitting tree #57\nFitting tree #58\nFitting tree #59\nFitting tree #60\nFitting tree #61\nFitting tree #62\nFitting tree #63\nFitting tree #64\nFitting tree #65\nFitting tree #66\nFitting tree #67\nFitting tree #68\nFitting tree #69\nFitting tree #70\nFitting tree #71\nFitting tree #72\nFitting tree #73\nFitting tree #74\nFitting tree #75\nFitting tree #76\nFitting tree #77\nFitting tree #78\nFitting tree #79\nFitting tree #80\nFitting tree #81\nFitting tree #82\nFitting tree #83\nFitting tree #84\nFitting tree #85\nFitting tree #86\nFitting tree #87\nFitting tree #88\nFitting tree #89\nFitting tree #90\nFitting tree #91\nFitting tree #92\nFitting tree #93\nFitting tree #94\nFitting tree #95\nFitting tree #96\nFitting tree #97\nFitting tree #98\nFitting tree #99\nFitting tree #100\nFinished Fitting\nFold #2\nFitting tree #1\nFitting tree #2\nFitting tree #3\nFitting tree #4\nFitting tree #5\nFitting tree #6\nFitting tree #7\nFitting tree #8\nFitting tree #9\nFitting tree #10\nFinished Fitting\nFitting tree #1\nFitting tree #2\nFitting tree #3\nFitting tree #4\nFitting tree #5\nFitting tree #6\nFitting tree #7\nFitting tree #8\nFitting tree #9\nFitting tree #10\nFitting tree #11\nFitting tree #12\nFitting tree #13\nFitting tree #14\nFitting tree #15\nFitting tree #16\nFitting tree #17\nFitting tree #18\nFitting tree #19\nFitting tree #20\nFitting tree #21\nFitting tree #22\nFitting tree #23\nFitting tree #24\nFitting tree #25\nFitting tree #26\nFitting tree #27\nFitting tree #28\nFitting tree #29\nFitting tree #30\nFitting tree #31\nFitting tree #32\nFitting tree #33\nFitting tree #34\nFitting tree #35\nFitting tree #36\nFitting tree #37\nFitting tree #38\nFitting tree #39\nFitting tree #40\nFitting tree #41\nFitting tree #42\nFitting tree #43\nFitting tree #44\nFitting tree #45\nFitting tree #46\nFitting tree #47\nFitting tree #48\nFitting tree #49\nFitting tree #50\nFitting tree #51\nFitting tree #52\nFitting tree #53\nFitting tree #54\nFitting tree #55\nFitting tree #56\nFitting tree #57\nFitting tree #58\nFitting tree #59\nFitting tree #60\nFitting tree #61\nFitting tree #62\nFitting tree #63\nFitting tree #64\nFitting tree #65\nFitting tree #66\nFitting tree #67\nFitting tree #68\nFitting tree #69\nFitting tree #70\nFitting tree #71\nFitting tree #72\nFitting tree #73\nFitting tree #74\nFitting tree #75\nFitting tree #76\nFitting tree #77\nFitting tree #78\nFitting tree #79\nFitting tree #80\nFitting tree #81\nFitting tree #82\nFitting tree #83\nFitting tree #84\nFitting tree #85\nFitting tree #86\nFitting tree #87\nFitting tree #88\nFitting tree #89\nFitting tree #90\nFitting tree #91\nFitting tree #92\nFitting tree #93\nFitting tree #94\nFitting tree #95\nFitting tree #96\nFitting tree #97\nFitting tree #98\nFitting tree #99\nFitting tree #100\nFinished Fitting\nFold #3\nFitting tree #1\nFitting tree #2\nFitting tree #3\nFitting tree #4\nFitting tree #5\nFitting tree #6\nFitting tree #7\nFitting tree #8\nFitting tree #9\nFitting tree #10\nFinished Fitting\nFitting tree #1\nFitting tree #2\nFitting tree #3\nFitting tree #4\nFitting tree #5\nFitting tree #6\nFitting tree #7\nFitting tree #8\nFitting tree #9\nFitting tree #10\nFitting tree #11\nFitting tree #12\nFitting tree #13\nFitting tree #14\nFitting tree #15\nFitting tree #16\nFitting tree #17\nFitting tree #18\nFitting tree #19\nFitting tree #20\nFitting tree #21\nFitting tree #22\nFitting tree #23\nFitting tree #24\nFitting tree #25\nFitting tree #26\nFitting tree #27\nFitting tree #28\nFitting tree #29\nFitting tree #30\nFitting tree #31\nFitting tree #32\nFitting tree #33\nFitting tree #34\nFitting tree #35\nFitting tree #36\nFitting tree #37\nFitting tree #38\nFitting tree #39\nFitting tree #40\nFitting tree #41\nFitting tree #42\nFitting tree #43\nFitting tree #44\nFitting tree #45\nFitting tree #46\nFitting tree #47\nFitting tree #48\nFitting tree #49\nFitting tree #50\nFitting tree #51\nFitting tree #52\nFitting tree #53\nFitting tree #54\nFitting tree #55\nFitting tree #56\nFitting tree #57\nFitting tree #58\nFitting tree #59\nFitting tree #60\nFitting tree #61\nFitting tree #62\nFitting tree #63\nFitting tree #64\nFitting tree #65\nFitting tree #66\nFitting tree #67\nFitting tree #68\nFitting tree #69\nFitting tree #70\nFitting tree #71\nFitting tree #72\nFitting tree #73\nFitting tree #74\nFitting tree #75\nFitting tree #76\nFitting tree #77\nFitting tree #78\nFitting tree #79\nFitting tree #80\nFitting tree #81\nFitting tree #82\nFitting tree #83\nFitting tree #84\nFitting tree #85\nFitting tree #86\nFitting tree #87\nFitting tree #88\nFitting tree #89\nFitting tree #90\nFitting tree #91\nFitting tree #92\nFitting tree #93\nFitting tree #94\nFitting tree #95\nFitting tree #96\nFitting tree #97\nFitting tree #98\nFitting tree #99\nFitting tree #100\nFinished Fitting\nFold #4\nFitting tree #1\nFitting tree #2\nFitting tree #3\nFitting tree #4\nFitting tree #5\nFitting tree #6\nFitting tree #7\nFitting tree #8\nFitting tree #9\nFitting tree #10\nFinished Fitting\nFitting tree #1\nFitting tree #2\nFitting tree #3\nFitting tree #4\nFitting tree #5\nFitting tree #6\nFitting tree #7\nFitting tree #8\nFitting tree #9\nFitting tree #10\nFitting tree #11\nFitting tree #12\nFitting tree #13\nFitting tree #14\nFitting tree #15\nFitting tree #16\nFitting tree #17\nFitting tree #18\nFitting tree #19\nFitting tree #20\nFitting tree #21\nFitting tree #22\nFitting tree #23\nFitting tree #24\nFitting tree #25\nFitting tree #26\nFitting tree #27\nFitting tree #28\nFitting tree #29\nFitting tree #30\nFitting tree #31\nFitting tree #32\nFitting tree #33\nFitting tree #34\nFitting tree #35\nFitting tree #36\nFitting tree #37\nFitting tree #38\nFitting tree #39\nFitting tree #40\nFitting tree #41\nFitting tree #42\nFitting tree #43\nFitting tree #44\nFitting tree #45\nFitting tree #46\nFitting tree #47\nFitting tree #48\nFitting tree #49\nFitting tree #50\nFitting tree #51\nFitting tree #52\nFitting tree #53\nFitting tree #54\nFitting tree #55\nFitting tree #56\nFitting tree #57\nFitting tree #58\nFitting tree #59\nFitting tree #60\nFitting tree #61\nFitting tree #62\nFitting tree #63\nFitting tree #64\nFitting tree #65\nFitting tree #66\nFitting tree #67\nFitting tree #68\nFitting tree #69\nFitting tree #70\nFitting tree #71\nFitting tree #72\nFitting tree #73\nFitting tree #74\nFitting tree #75\nFitting tree #76\nFitting tree #77\nFitting tree #78\nFitting tree #79\nFitting tree #80\nFitting tree #81\nFitting tree #82\nFitting tree #83\nFitting tree #84\nFitting tree #85\nFitting tree #86\nFitting tree #87\nFitting tree #88\nFitting tree #89\nFitting tree #90\nFitting tree #91\nFitting tree #92\nFitting tree #93\nFitting tree #94\nFitting tree #95\nFitting tree #96\nFitting tree #97\nFitting tree #98\nFitting tree #99\nFitting tree #100\nFinished Fitting\nFold #5\nFitting tree #1\nFitting tree #2\nFitting tree #3\nFitting tree #4\nFitting tree #5\nFitting tree #6\nFitting tree #7\nFitting tree #8\nFitting tree #9\nFitting tree #10\nFinished Fitting\nFitting tree #1\nFitting tree #2\nFitting tree #3\nFitting tree #4\nFitting tree #5\nFitting tree #6\nFitting tree #7\nFitting tree #8\nFitting tree #9\nFitting tree #10\nFitting tree #11\nFitting tree #12\nFitting tree #13\nFitting tree #14\nFitting tree #15\nFitting tree #16\nFitting tree #17\nFitting tree #18\nFitting tree #19\nFitting tree #20\nFitting tree #21\nFitting tree #22\nFitting tree #23\nFitting tree #24\nFitting tree #25\nFitting tree #26\nFitting tree #27\nFitting tree #28\nFitting tree #29\nFitting tree #30\nFitting tree #31\nFitting tree #32\nFitting tree #33\nFitting tree #34\nFitting tree #35\nFitting tree #36\nFitting tree #37\nFitting tree #38\nFitting tree #39\nFitting tree #40\nFitting tree #41\nFitting tree #42\nFitting tree #43\nFitting tree #44\nFitting tree #45\nFitting tree #46\nFitting tree #47\nFitting tree #48\nFitting tree #49\nFitting tree #50\nFitting tree #51\nFitting tree #52\nFitting tree #53\nFitting tree #54\nFitting tree #55\nFitting tree #56\nFitting tree #57\nFitting tree #58\nFitting tree #59\nFitting tree #60\nFitting tree #61\nFitting tree #62\nFitting tree #63\nFitting tree #64\nFitting tree #65\nFitting tree #66\nFitting tree #67\nFitting tree #68\nFitting tree #69\nFitting tree #70\nFitting tree #71\nFitting tree #72\nFitting tree #73\nFitting tree #74\nFitting tree #75\nFitting tree #76\nFitting tree #77\nFitting tree #78\nFitting tree #79\nFitting tree #80\nFitting tree #81\nFitting tree #82\nFitting tree #83\nFitting tree #84\nFitting tree #85\nFitting tree #86\nFitting tree #87\nFitting tree #88\nFitting tree #89\nFitting tree #90\nFitting tree #91\nFitting tree #92\nFitting tree #93\nFitting tree #94\nFitting tree #95\nFitting tree #96\nFitting tree #97\nFitting tree #98\nFitting tree #99\nFitting tree #100\nFinished Fitting\n[0.91460765 0.92599598]\n"
    }
   ],
   "source": [
    "comparison = compare([clf_10tree, clf_100tree])\n",
    "print(comparison)"
   ]
  },
  {
   "cell_type": "code",
   "execution_count": 28,
   "metadata": {
    "tags": []
   },
   "outputs": [
    {
     "output_type": "stream",
     "name": "stdout",
     "text": "N_estimators=10: 0.9146076458752515\nN_estimators=100: 0.9259959758551309\n"
    }
   ],
   "source": [
    "print('N_estimators=10:', comparison[0])\n",
    "print('N_estimators=100:', comparison[1])"
   ]
  },
  {
   "cell_type": "markdown",
   "metadata": {},
   "source": [
    "4. Number of attributes"
   ]
  },
  {
   "cell_type": "code",
   "execution_count": 19,
   "metadata": {},
   "outputs": [],
   "source": [
    "clf_na = RandomForest(criterion=gini, max_depth=3, num_trees=10,\n",
    "                      max_attributes=x_train.shape[1])\n",
    "clf_ra = RandomForest(criterion=gini, max_depth=3, num_trees=10,\n",
    "                      max_attributes=int(np.sqrt(x_train.shape[1])))\n",
    "clf_sa = RandomForest(criterion=gini, max_depth=3, num_trees=10,\n",
    "                      max_attributes=1)"
   ]
  },
  {
   "cell_type": "code",
   "execution_count": 50,
   "metadata": {
    "tags": []
   },
   "outputs": [
    {
     "output_type": "stream",
     "name": "stdout",
     "text": "Fold #1\nFitting tree #1\nFitting tree #2\nFitting tree #3\nFitting tree #4\nFitting tree #5\nFitting tree #6\nFitting tree #7\nFitting tree #8\nFitting tree #9\nFitting tree #10\nFinished Fitting\nFitting tree #1\nFitting tree #2\nFitting tree #3\nFitting tree #4\nFitting tree #5\nFitting tree #6\nFitting tree #7\nFitting tree #8\nFitting tree #9\nFitting tree #10\nFinished Fitting\nFitting tree #1\nFitting tree #2\nFitting tree #3\nFitting tree #4\nFitting tree #5\nFitting tree #6\nFitting tree #7\nFitting tree #8\nFitting tree #9\nFitting tree #10\nFinished Fitting\nFold #2\nFitting tree #1\nFitting tree #2\nFitting tree #3\nFitting tree #4\nFitting tree #5\nFitting tree #6\nFitting tree #7\nFitting tree #8\nFitting tree #9\nFitting tree #10\nFinished Fitting\nFitting tree #1\nFitting tree #2\nFitting tree #3\nFitting tree #4\nFitting tree #5\nFitting tree #6\nFitting tree #7\nFitting tree #8\nFitting tree #9\nFitting tree #10\nFinished Fitting\nFitting tree #1\nFitting tree #2\nFitting tree #3\nFitting tree #4\nFitting tree #5\nFitting tree #6\nFitting tree #7\nFitting tree #8\nFitting tree #9\nFitting tree #10\nFinished Fitting\nFold #3\nFitting tree #1\nFitting tree #2\nFitting tree #3\nFitting tree #4\nFitting tree #5\nFitting tree #6\nFitting tree #7\nFitting tree #8\nFitting tree #9\nFitting tree #10\nFinished Fitting\nFitting tree #1\nFitting tree #2\nFitting tree #3\nFitting tree #4\nFitting tree #5\nFitting tree #6\nFitting tree #7\nFitting tree #8\nFitting tree #9\nFitting tree #10\nFinished Fitting\nFitting tree #1\nFitting tree #2\nFitting tree #3\nFitting tree #4\nFitting tree #5\nFitting tree #6\nFitting tree #7\nFitting tree #8\nFitting tree #9\nFitting tree #10\nFinished Fitting\nFold #4\nFitting tree #1\nFitting tree #2\nFitting tree #3\nFitting tree #4\nFitting tree #5\nFitting tree #6\nFitting tree #7\nFitting tree #8\nFitting tree #9\nFitting tree #10\nFinished Fitting\nFitting tree #1\nFitting tree #2\nFitting tree #3\nFitting tree #4\nFitting tree #5\nFitting tree #6\nFitting tree #7\nFitting tree #8\nFitting tree #9\nFitting tree #10\nFinished Fitting\nFitting tree #1\nFitting tree #2\nFitting tree #3\nFitting tree #4\nFitting tree #5\nFitting tree #6\nFitting tree #7\nFitting tree #8\nFitting tree #9\nFitting tree #10\nFinished Fitting\nFold #5\nFitting tree #1\nFitting tree #2\nFitting tree #3\nFitting tree #4\nFitting tree #5\nFitting tree #6\nFitting tree #7\nFitting tree #8\nFitting tree #9\nFitting tree #10\nFinished Fitting\nFitting tree #1\nFitting tree #2\nFitting tree #3\nFitting tree #4\nFitting tree #5\nFitting tree #6\nFitting tree #7\nFitting tree #8\nFitting tree #9\nFitting tree #10\nFinished Fitting\nFitting tree #1\nFitting tree #2\nFitting tree #3\nFitting tree #4\nFitting tree #5\nFitting tree #6\nFitting tree #7\nFitting tree #8\nFitting tree #9\nFitting tree #10\nFinished Fitting\n[0.66854928 0.67297896 0.58870432]\n"
    }
   ],
   "source": [
    "comparison = compare([clf_na, clf_ra, clf_sa])\n",
    "print(comparison)"
   ]
  },
  {
   "cell_type": "code",
   "execution_count": 51,
   "metadata": {
    "tags": []
   },
   "outputs": [
    {
     "output_type": "stream",
     "name": "stdout",
     "text": "max_attributes=n_attributes: 0.6685492801771872\nmax_attributes=sqrt(n_attributes) 0.6729789590254706\nmax_attributes=1 0.588704318936877\n"
    }
   ],
   "source": [
    "print('max_attributes=n_attributes:', comparison[0])\n",
    "print('max_attributes=sqrt(n_attributes)', comparison[1])\n",
    "print('max_attributes=1', comparison[2])"
   ]
  },
  {
   "cell_type": "markdown",
   "metadata": {},
   "source": [
    "6. Out-of-bag error vs validation error"
   ]
  },
  {
   "cell_type": "code",
   "execution_count": 32,
   "metadata": {},
   "outputs": [],
   "source": [
    "clf_acc = RandomForest(criterion=gini, max_depth=3, num_trees=10,\n",
    "                       max_attributes=int(np.sqrt(x_train.shape[1])))"
   ]
  },
  {
   "cell_type": "code",
   "execution_count": 33,
   "metadata": {
    "tags": []
   },
   "outputs": [
    {
     "output_type": "stream",
     "name": "stdout",
     "text": "Fitting tree #1\nFitting tree #2\nFitting tree #3\nFitting tree #4\nFitting tree #5\nFitting tree #6\nFitting tree #7\nFitting tree #8\nFitting tree #9\nFitting tree #10\nFinished Fitting\n"
    }
   ],
   "source": [
    "clf_acc.fit(x_train, y_train)\n",
    "acc_oob = clf_acc.accuracy_out_of_bag()"
   ]
  },
  {
   "cell_type": "code",
   "execution_count": 34,
   "metadata": {
    "tags": []
   },
   "outputs": [
    {
     "output_type": "stream",
     "name": "stdout",
     "text": "[0.9389312977099237, 0.8770491803278688, 0.8837209302325582, 0.9682539682539683, 0.9166666666666666, 0.9105691056910569, 0.9769230769230769, 0.8898305084745762, 0.9224806201550387, 0.8650793650793651]\n"
    }
   ],
   "source": [
    "print(acc_oob)"
   ]
  },
  {
   "cell_type": "code",
   "execution_count": 35,
   "metadata": {
    "tags": []
   },
   "outputs": [
    {
     "output_type": "stream",
     "name": "stdout",
     "text": "Fitting tree #1\nFitting tree #2\nFitting tree #3\nFitting tree #4\nFitting tree #5\nFitting tree #6\nFitting tree #7\nFitting tree #8\nFitting tree #9\nFitting tree #10\nFinished Fitting\nFitting tree #1\nFitting tree #2\nFitting tree #3\nFitting tree #4\nFitting tree #5\nFitting tree #6\nFitting tree #7\nFitting tree #8\nFitting tree #9\nFitting tree #10\nFinished Fitting\nFitting tree #1\nFitting tree #2\nFitting tree #3\nFitting tree #4\nFitting tree #5\nFitting tree #6\nFitting tree #7\nFitting tree #8\nFitting tree #9\nFitting tree #10\nFinished Fitting\nFitting tree #1\nFitting tree #2\nFitting tree #3\nFitting tree #4\nFitting tree #5\nFitting tree #6\nFitting tree #7\nFitting tree #8\nFitting tree #9\nFitting tree #10\nFinished Fitting\nFitting tree #1\nFitting tree #2\nFitting tree #3\nFitting tree #4\nFitting tree #5\nFitting tree #6\nFitting tree #7\nFitting tree #8\nFitting tree #9\nFitting tree #10\nFinished Fitting\n"
    }
   ],
   "source": [
    "k = 5\n",
    "accs_validation = list()\n",
    "accs_oob = list()\n",
    "kfold_data = cross_validation(x_train, y_train, k=k)\n",
    "for i, data_idx in enumerate(kfold_data):\n",
    "    train_idx, test_idx = data_idx\n",
    "    _x_train, _y_train = x_train[train_idx], y_train[train_idx]\n",
    "    _x_test, _y_test = x_train[test_idx], y_train[test_idx]\n",
    "\n",
    "    clf_acc.fit(_x_train, _y_train)\n",
    "    y_pred = clf_acc.predict(_x_test)\n",
    "    accs_validation.append(accuracy_score(y_pred, _y_test))\n",
    "    accs_oob.append(np.mean(clf_acc.accuracy_out_of_bag()))"
   ]
  },
  {
   "cell_type": "code",
   "execution_count": 36,
   "metadata": {
    "tags": []
   },
   "outputs": [
    {
     "output_type": "stream",
     "name": "stdout",
     "text": "[0.9436619718309859, 0.9428571428571428, 0.9, 0.9, 0.8714285714285714]\n[0.9185534713392153, 0.9119628334733422, 0.8954910336653514, 0.9032995045727814, 0.9104183253216203]\n"
    }
   ],
   "source": [
    "print(accs_validation)\n",
    "print(accs_oob)"
   ]
  },
  {
   "cell_type": "code",
   "execution_count": 37,
   "metadata": {
    "tags": []
   },
   "outputs": [
    {
     "output_type": "stream",
     "name": "stdout",
     "text": "0.91158953722334\n0.9079450336744621\n"
    }
   ],
   "source": [
    "print(np.mean(accs_validation))\n",
    "print(np.mean(accs_oob))"
   ]
  },
  {
   "cell_type": "markdown",
   "metadata": {},
   "source": [
    "3. Attribute importance"
   ]
  },
  {
   "cell_type": "code",
   "execution_count": 18,
   "metadata": {},
   "outputs": [],
   "source": [
    "clf = DecisionTree(criterion=gini, max_depth=3)"
   ]
  },
  {
   "cell_type": "code",
   "execution_count": 19,
   "metadata": {
    "tags": []
   },
   "outputs": [
    {
     "output_type": "stream",
     "name": "stdout",
     "text": "[1.0, 0, 13.266524216524232, 16.08577559860742, 2.6602809706257915, 0, 8.668053973538967, 26.044912072885005, 0]\n"
    }
   ],
   "source": [
    "clf.fit(x_train, y_train)\n",
    "importance = clf.attribute_importance()\n",
    "print(importance)"
   ]
  },
  {
   "cell_type": "code",
   "execution_count": 21,
   "metadata": {
    "tags": []
   },
   "outputs": [
    {
     "output_type": "display_data",
     "data": {
      "text/plain": "<Figure size 432x288 with 1 Axes>",
      "image/svg+xml": "<?xml version=\"1.0\" encoding=\"utf-8\" standalone=\"no\"?>\r\n<!DOCTYPE svg PUBLIC \"-//W3C//DTD SVG 1.1//EN\"\r\n  \"http://www.w3.org/Graphics/SVG/1.1/DTD/svg11.dtd\">\r\n<!-- Created with matplotlib (https://matplotlib.org/) -->\r\n<svg height=\"248.518125pt\" version=\"1.1\" viewBox=\"0 0 371.176562 248.518125\" width=\"371.176562pt\" xmlns=\"http://www.w3.org/2000/svg\" xmlns:xlink=\"http://www.w3.org/1999/xlink\">\r\n <defs>\r\n  <style type=\"text/css\">\r\n*{stroke-linecap:butt;stroke-linejoin:round;}\r\n  </style>\r\n </defs>\r\n <g id=\"figure_1\">\r\n  <g id=\"patch_1\">\r\n   <path d=\"M 0 248.518125 \r\nL 371.176562 248.518125 \r\nL 371.176562 0 \r\nL 0 0 \r\nz\r\n\" style=\"fill:none;\"/>\r\n  </g>\r\n  <g id=\"axes_1\">\r\n   <g id=\"patch_2\">\r\n    <path d=\"M 29.176563 224.64 \r\nL 363.976562 224.64 \r\nL 363.976562 7.2 \r\nL 29.176563 7.2 \r\nz\r\n\" style=\"fill:#ffffff;\"/>\r\n   </g>\r\n   <g id=\"patch_3\">\r\n    <path clip-path=\"url(#pf4927b933c)\" d=\"M 29.176563 214.756364 \r\nL 41.419151 214.756364 \r\nL 41.419151 187.49116 \r\nL 29.176563 187.49116 \r\nz\r\n\" style=\"fill:#1f77b4;\"/>\r\n   </g>\r\n   <g id=\"patch_4\">\r\n    <path clip-path=\"url(#pf4927b933c)\" d=\"M 29.176563 180.674859 \r\nL 191.59316 180.674859 \r\nL 191.59316 153.409655 \r\nL 29.176563 153.409655 \r\nz\r\n\" style=\"fill:#1f77b4;\"/>\r\n   </g>\r\n   <g id=\"patch_5\">\r\n    <path clip-path=\"url(#pf4927b933c)\" d=\"M 29.176563 146.593354 \r\nL 226.108095 146.593354 \r\nL 226.108095 119.32815 \r\nL 29.176563 119.32815 \r\nz\r\n\" style=\"fill:#1f77b4;\"/>\r\n   </g>\r\n   <g id=\"patch_6\">\r\n    <path clip-path=\"url(#pf4927b933c)\" d=\"M 29.176563 112.51185 \r\nL 61.745288 112.51185 \r\nL 61.745288 85.246646 \r\nL 29.176563 85.246646 \r\nz\r\n\" style=\"fill:#1f77b4;\"/>\r\n   </g>\r\n   <g id=\"patch_7\">\r\n    <path clip-path=\"url(#pf4927b933c)\" d=\"M 29.176563 78.430345 \r\nL 135.295981 78.430345 \r\nL 135.295981 51.165141 \r\nL 29.176563 51.165141 \r\nz\r\n\" style=\"fill:#1f77b4;\"/>\r\n   </g>\r\n   <g id=\"patch_8\">\r\n    <path clip-path=\"url(#pf4927b933c)\" d=\"M 29.176563 44.34884 \r\nL 348.033705 44.34884 \r\nL 348.033705 17.083636 \r\nL 29.176563 17.083636 \r\nz\r\n\" style=\"fill:#1f77b4;\"/>\r\n   </g>\r\n   <g id=\"matplotlib.axis_1\">\r\n    <g id=\"xtick_1\">\r\n     <g id=\"line2d_1\">\r\n      <defs>\r\n       <path d=\"M 0 0 \r\nL 0 3.5 \r\n\" id=\"m7420e7d9f6\" style=\"stroke:#000000;stroke-width:0.8;\"/>\r\n      </defs>\r\n      <g>\r\n       <use style=\"stroke:#000000;stroke-width:0.8;\" x=\"29.176563\" xlink:href=\"#m7420e7d9f6\" y=\"224.64\"/>\r\n      </g>\r\n     </g>\r\n     <g id=\"text_1\">\r\n      <!-- 0 -->\r\n      <defs>\r\n       <path d=\"M 31.78125 66.40625 \r\nQ 24.171875 66.40625 20.328125 58.90625 \r\nQ 16.5 51.421875 16.5 36.375 \r\nQ 16.5 21.390625 20.328125 13.890625 \r\nQ 24.171875 6.390625 31.78125 6.390625 \r\nQ 39.453125 6.390625 43.28125 13.890625 \r\nQ 47.125 21.390625 47.125 36.375 \r\nQ 47.125 51.421875 43.28125 58.90625 \r\nQ 39.453125 66.40625 31.78125 66.40625 \r\nz\r\nM 31.78125 74.21875 \r\nQ 44.046875 74.21875 50.515625 64.515625 \r\nQ 56.984375 54.828125 56.984375 36.375 \r\nQ 56.984375 17.96875 50.515625 8.265625 \r\nQ 44.046875 -1.421875 31.78125 -1.421875 \r\nQ 19.53125 -1.421875 13.0625 8.265625 \r\nQ 6.59375 17.96875 6.59375 36.375 \r\nQ 6.59375 54.828125 13.0625 64.515625 \r\nQ 19.53125 74.21875 31.78125 74.21875 \r\nz\r\n\" id=\"DejaVuSans-48\"/>\r\n      </defs>\r\n      <g transform=\"translate(25.995313 239.238437)scale(0.1 -0.1)\">\r\n       <use xlink:href=\"#DejaVuSans-48\"/>\r\n      </g>\r\n     </g>\r\n    </g>\r\n    <g id=\"xtick_2\">\r\n     <g id=\"line2d_2\">\r\n      <g>\r\n       <use style=\"stroke:#000000;stroke-width:0.8;\" x=\"90.389505\" xlink:href=\"#m7420e7d9f6\" y=\"224.64\"/>\r\n      </g>\r\n     </g>\r\n     <g id=\"text_2\">\r\n      <!-- 5 -->\r\n      <defs>\r\n       <path d=\"M 10.796875 72.90625 \r\nL 49.515625 72.90625 \r\nL 49.515625 64.59375 \r\nL 19.828125 64.59375 \r\nL 19.828125 46.734375 \r\nQ 21.96875 47.46875 24.109375 47.828125 \r\nQ 26.265625 48.1875 28.421875 48.1875 \r\nQ 40.625 48.1875 47.75 41.5 \r\nQ 54.890625 34.8125 54.890625 23.390625 \r\nQ 54.890625 11.625 47.5625 5.09375 \r\nQ 40.234375 -1.421875 26.90625 -1.421875 \r\nQ 22.3125 -1.421875 17.546875 -0.640625 \r\nQ 12.796875 0.140625 7.71875 1.703125 \r\nL 7.71875 11.625 \r\nQ 12.109375 9.234375 16.796875 8.0625 \r\nQ 21.484375 6.890625 26.703125 6.890625 \r\nQ 35.15625 6.890625 40.078125 11.328125 \r\nQ 45.015625 15.765625 45.015625 23.390625 \r\nQ 45.015625 31 40.078125 35.4375 \r\nQ 35.15625 39.890625 26.703125 39.890625 \r\nQ 22.75 39.890625 18.8125 39.015625 \r\nQ 14.890625 38.140625 10.796875 36.28125 \r\nz\r\n\" id=\"DejaVuSans-53\"/>\r\n      </defs>\r\n      <g transform=\"translate(87.208255 239.238437)scale(0.1 -0.1)\">\r\n       <use xlink:href=\"#DejaVuSans-53\"/>\r\n      </g>\r\n     </g>\r\n    </g>\r\n    <g id=\"xtick_3\">\r\n     <g id=\"line2d_3\">\r\n      <g>\r\n       <use style=\"stroke:#000000;stroke-width:0.8;\" x=\"151.602448\" xlink:href=\"#m7420e7d9f6\" y=\"224.64\"/>\r\n      </g>\r\n     </g>\r\n     <g id=\"text_3\">\r\n      <!-- 10 -->\r\n      <defs>\r\n       <path d=\"M 12.40625 8.296875 \r\nL 28.515625 8.296875 \r\nL 28.515625 63.921875 \r\nL 10.984375 60.40625 \r\nL 10.984375 69.390625 \r\nL 28.421875 72.90625 \r\nL 38.28125 72.90625 \r\nL 38.28125 8.296875 \r\nL 54.390625 8.296875 \r\nL 54.390625 0 \r\nL 12.40625 0 \r\nz\r\n\" id=\"DejaVuSans-49\"/>\r\n      </defs>\r\n      <g transform=\"translate(145.239948 239.238437)scale(0.1 -0.1)\">\r\n       <use xlink:href=\"#DejaVuSans-49\"/>\r\n       <use x=\"63.623047\" xlink:href=\"#DejaVuSans-48\"/>\r\n      </g>\r\n     </g>\r\n    </g>\r\n    <g id=\"xtick_4\">\r\n     <g id=\"line2d_4\">\r\n      <g>\r\n       <use style=\"stroke:#000000;stroke-width:0.8;\" x=\"212.815391\" xlink:href=\"#m7420e7d9f6\" y=\"224.64\"/>\r\n      </g>\r\n     </g>\r\n     <g id=\"text_4\">\r\n      <!-- 15 -->\r\n      <g transform=\"translate(206.452891 239.238437)scale(0.1 -0.1)\">\r\n       <use xlink:href=\"#DejaVuSans-49\"/>\r\n       <use x=\"63.623047\" xlink:href=\"#DejaVuSans-53\"/>\r\n      </g>\r\n     </g>\r\n    </g>\r\n    <g id=\"xtick_5\">\r\n     <g id=\"line2d_5\">\r\n      <g>\r\n       <use style=\"stroke:#000000;stroke-width:0.8;\" x=\"274.028334\" xlink:href=\"#m7420e7d9f6\" y=\"224.64\"/>\r\n      </g>\r\n     </g>\r\n     <g id=\"text_5\">\r\n      <!-- 20 -->\r\n      <defs>\r\n       <path d=\"M 19.1875 8.296875 \r\nL 53.609375 8.296875 \r\nL 53.609375 0 \r\nL 7.328125 0 \r\nL 7.328125 8.296875 \r\nQ 12.9375 14.109375 22.625 23.890625 \r\nQ 32.328125 33.6875 34.8125 36.53125 \r\nQ 39.546875 41.84375 41.421875 45.53125 \r\nQ 43.3125 49.21875 43.3125 52.78125 \r\nQ 43.3125 58.59375 39.234375 62.25 \r\nQ 35.15625 65.921875 28.609375 65.921875 \r\nQ 23.96875 65.921875 18.8125 64.3125 \r\nQ 13.671875 62.703125 7.8125 59.421875 \r\nL 7.8125 69.390625 \r\nQ 13.765625 71.78125 18.9375 73 \r\nQ 24.125 74.21875 28.421875 74.21875 \r\nQ 39.75 74.21875 46.484375 68.546875 \r\nQ 53.21875 62.890625 53.21875 53.421875 \r\nQ 53.21875 48.921875 51.53125 44.890625 \r\nQ 49.859375 40.875 45.40625 35.40625 \r\nQ 44.1875 33.984375 37.640625 27.21875 \r\nQ 31.109375 20.453125 19.1875 8.296875 \r\nz\r\n\" id=\"DejaVuSans-50\"/>\r\n      </defs>\r\n      <g transform=\"translate(267.665834 239.238437)scale(0.1 -0.1)\">\r\n       <use xlink:href=\"#DejaVuSans-50\"/>\r\n       <use x=\"63.623047\" xlink:href=\"#DejaVuSans-48\"/>\r\n      </g>\r\n     </g>\r\n    </g>\r\n    <g id=\"xtick_6\">\r\n     <g id=\"line2d_6\">\r\n      <g>\r\n       <use style=\"stroke:#000000;stroke-width:0.8;\" x=\"335.241277\" xlink:href=\"#m7420e7d9f6\" y=\"224.64\"/>\r\n      </g>\r\n     </g>\r\n     <g id=\"text_6\">\r\n      <!-- 25 -->\r\n      <g transform=\"translate(328.878777 239.238437)scale(0.1 -0.1)\">\r\n       <use xlink:href=\"#DejaVuSans-50\"/>\r\n       <use x=\"63.623047\" xlink:href=\"#DejaVuSans-53\"/>\r\n      </g>\r\n     </g>\r\n    </g>\r\n   </g>\r\n   <g id=\"matplotlib.axis_2\">\r\n    <g id=\"ytick_1\">\r\n     <g id=\"line2d_7\">\r\n      <defs>\r\n       <path d=\"M 0 0 \r\nL -3.5 0 \r\n\" id=\"m0f3a9a2123\" style=\"stroke:#000000;stroke-width:0.8;\"/>\r\n      </defs>\r\n      <g>\r\n       <use style=\"stroke:#000000;stroke-width:0.8;\" x=\"29.176563\" xlink:href=\"#m0f3a9a2123\" y=\"201.123762\"/>\r\n      </g>\r\n     </g>\r\n     <g id=\"text_7\">\r\n      <!-- RI -->\r\n      <defs>\r\n       <path d=\"M 44.390625 34.1875 \r\nQ 47.5625 33.109375 50.5625 29.59375 \r\nQ 53.5625 26.078125 56.59375 19.921875 \r\nL 66.609375 0 \r\nL 56 0 \r\nL 46.6875 18.703125 \r\nQ 43.0625 26.03125 39.671875 28.421875 \r\nQ 36.28125 30.8125 30.421875 30.8125 \r\nL 19.671875 30.8125 \r\nL 19.671875 0 \r\nL 9.8125 0 \r\nL 9.8125 72.90625 \r\nL 32.078125 72.90625 \r\nQ 44.578125 72.90625 50.734375 67.671875 \r\nQ 56.890625 62.453125 56.890625 51.90625 \r\nQ 56.890625 45.015625 53.6875 40.46875 \r\nQ 50.484375 35.9375 44.390625 34.1875 \r\nz\r\nM 19.671875 64.796875 \r\nL 19.671875 38.921875 \r\nL 32.078125 38.921875 \r\nQ 39.203125 38.921875 42.84375 42.21875 \r\nQ 46.484375 45.515625 46.484375 51.90625 \r\nQ 46.484375 58.296875 42.84375 61.546875 \r\nQ 39.203125 64.796875 32.078125 64.796875 \r\nz\r\n\" id=\"DejaVuSans-82\"/>\r\n       <path d=\"M 9.8125 72.90625 \r\nL 19.671875 72.90625 \r\nL 19.671875 0 \r\nL 9.8125 0 \r\nz\r\n\" id=\"DejaVuSans-73\"/>\r\n      </defs>\r\n      <g transform=\"translate(12.278125 204.922981)scale(0.1 -0.1)\">\r\n       <use xlink:href=\"#DejaVuSans-82\"/>\r\n       <use x=\"69.482422\" xlink:href=\"#DejaVuSans-73\"/>\r\n      </g>\r\n     </g>\r\n    </g>\r\n    <g id=\"ytick_2\">\r\n     <g id=\"line2d_8\">\r\n      <g>\r\n       <use style=\"stroke:#000000;stroke-width:0.8;\" x=\"29.176563\" xlink:href=\"#m0f3a9a2123\" y=\"167.042257\"/>\r\n      </g>\r\n     </g>\r\n     <g id=\"text_8\">\r\n      <!-- Mg -->\r\n      <defs>\r\n       <path d=\"M 9.8125 72.90625 \r\nL 24.515625 72.90625 \r\nL 43.109375 23.296875 \r\nL 61.8125 72.90625 \r\nL 76.515625 72.90625 \r\nL 76.515625 0 \r\nL 66.890625 0 \r\nL 66.890625 64.015625 \r\nL 48.09375 14.015625 \r\nL 38.1875 14.015625 \r\nL 19.390625 64.015625 \r\nL 19.390625 0 \r\nL 9.8125 0 \r\nz\r\n\" id=\"DejaVuSans-77\"/>\r\n       <path d=\"M 45.40625 27.984375 \r\nQ 45.40625 37.75 41.375 43.109375 \r\nQ 37.359375 48.484375 30.078125 48.484375 \r\nQ 22.859375 48.484375 18.828125 43.109375 \r\nQ 14.796875 37.75 14.796875 27.984375 \r\nQ 14.796875 18.265625 18.828125 12.890625 \r\nQ 22.859375 7.515625 30.078125 7.515625 \r\nQ 37.359375 7.515625 41.375 12.890625 \r\nQ 45.40625 18.265625 45.40625 27.984375 \r\nz\r\nM 54.390625 6.78125 \r\nQ 54.390625 -7.171875 48.1875 -13.984375 \r\nQ 42 -20.796875 29.203125 -20.796875 \r\nQ 24.46875 -20.796875 20.265625 -20.09375 \r\nQ 16.0625 -19.390625 12.109375 -17.921875 \r\nL 12.109375 -9.1875 \r\nQ 16.0625 -11.328125 19.921875 -12.34375 \r\nQ 23.78125 -13.375 27.78125 -13.375 \r\nQ 36.625 -13.375 41.015625 -8.765625 \r\nQ 45.40625 -4.15625 45.40625 5.171875 \r\nL 45.40625 9.625 \r\nQ 42.625 4.78125 38.28125 2.390625 \r\nQ 33.9375 0 27.875 0 \r\nQ 17.828125 0 11.671875 7.65625 \r\nQ 5.515625 15.328125 5.515625 27.984375 \r\nQ 5.515625 40.671875 11.671875 48.328125 \r\nQ 17.828125 56 27.875 56 \r\nQ 33.9375 56 38.28125 53.609375 \r\nQ 42.625 51.21875 45.40625 46.390625 \r\nL 45.40625 54.6875 \r\nL 54.390625 54.6875 \r\nz\r\n\" id=\"DejaVuSans-103\"/>\r\n      </defs>\r\n      <g transform=\"translate(7.2 170.841476)scale(0.1 -0.1)\">\r\n       <use xlink:href=\"#DejaVuSans-77\"/>\r\n       <use x=\"86.279297\" xlink:href=\"#DejaVuSans-103\"/>\r\n      </g>\r\n     </g>\r\n    </g>\r\n    <g id=\"ytick_3\">\r\n     <g id=\"line2d_9\">\r\n      <g>\r\n       <use style=\"stroke:#000000;stroke-width:0.8;\" x=\"29.176563\" xlink:href=\"#m0f3a9a2123\" y=\"132.960752\"/>\r\n      </g>\r\n     </g>\r\n     <g id=\"text_9\">\r\n      <!-- Al -->\r\n      <defs>\r\n       <path d=\"M 34.1875 63.1875 \r\nL 20.796875 26.90625 \r\nL 47.609375 26.90625 \r\nz\r\nM 28.609375 72.90625 \r\nL 39.796875 72.90625 \r\nL 67.578125 0 \r\nL 57.328125 0 \r\nL 50.6875 18.703125 \r\nL 17.828125 18.703125 \r\nL 11.1875 0 \r\nL 0.78125 0 \r\nz\r\n\" id=\"DejaVuSans-65\"/>\r\n       <path d=\"M 9.421875 75.984375 \r\nL 18.40625 75.984375 \r\nL 18.40625 0 \r\nL 9.421875 0 \r\nz\r\n\" id=\"DejaVuSans-108\"/>\r\n      </defs>\r\n      <g transform=\"translate(12.557813 136.759971)scale(0.1 -0.1)\">\r\n       <use xlink:href=\"#DejaVuSans-65\"/>\r\n       <use x=\"68.408203\" xlink:href=\"#DejaVuSans-108\"/>\r\n      </g>\r\n     </g>\r\n    </g>\r\n    <g id=\"ytick_4\">\r\n     <g id=\"line2d_10\">\r\n      <g>\r\n       <use style=\"stroke:#000000;stroke-width:0.8;\" x=\"29.176563\" xlink:href=\"#m0f3a9a2123\" y=\"98.879248\"/>\r\n      </g>\r\n     </g>\r\n     <g id=\"text_10\">\r\n      <!-- Si -->\r\n      <defs>\r\n       <path d=\"M 53.515625 70.515625 \r\nL 53.515625 60.890625 \r\nQ 47.90625 63.578125 42.921875 64.890625 \r\nQ 37.9375 66.21875 33.296875 66.21875 \r\nQ 25.25 66.21875 20.875 63.09375 \r\nQ 16.5 59.96875 16.5 54.203125 \r\nQ 16.5 49.359375 19.40625 46.890625 \r\nQ 22.3125 44.4375 30.421875 42.921875 \r\nL 36.375 41.703125 \r\nQ 47.40625 39.59375 52.65625 34.296875 \r\nQ 57.90625 29 57.90625 20.125 \r\nQ 57.90625 9.515625 50.796875 4.046875 \r\nQ 43.703125 -1.421875 29.984375 -1.421875 \r\nQ 24.8125 -1.421875 18.96875 -0.25 \r\nQ 13.140625 0.921875 6.890625 3.21875 \r\nL 6.890625 13.375 \r\nQ 12.890625 10.015625 18.65625 8.296875 \r\nQ 24.421875 6.59375 29.984375 6.59375 \r\nQ 38.421875 6.59375 43.015625 9.90625 \r\nQ 47.609375 13.234375 47.609375 19.390625 \r\nQ 47.609375 24.75 44.3125 27.78125 \r\nQ 41.015625 30.8125 33.5 32.328125 \r\nL 27.484375 33.5 \r\nQ 16.453125 35.6875 11.515625 40.375 \r\nQ 6.59375 45.0625 6.59375 53.421875 \r\nQ 6.59375 63.09375 13.40625 68.65625 \r\nQ 20.21875 74.21875 32.171875 74.21875 \r\nQ 37.3125 74.21875 42.625 73.28125 \r\nQ 47.953125 72.359375 53.515625 70.515625 \r\nz\r\n\" id=\"DejaVuSans-83\"/>\r\n       <path d=\"M 9.421875 54.6875 \r\nL 18.40625 54.6875 \r\nL 18.40625 0 \r\nL 9.421875 0 \r\nz\r\nM 9.421875 75.984375 \r\nL 18.40625 75.984375 \r\nL 18.40625 64.59375 \r\nL 9.421875 64.59375 \r\nz\r\n\" id=\"DejaVuSans-105\"/>\r\n      </defs>\r\n      <g transform=\"translate(13.05 102.678466)scale(0.1 -0.1)\">\r\n       <use xlink:href=\"#DejaVuSans-83\"/>\r\n       <use x=\"63.476562\" xlink:href=\"#DejaVuSans-105\"/>\r\n      </g>\r\n     </g>\r\n    </g>\r\n    <g id=\"ytick_5\">\r\n     <g id=\"line2d_11\">\r\n      <g>\r\n       <use style=\"stroke:#000000;stroke-width:0.8;\" x=\"29.176563\" xlink:href=\"#m0f3a9a2123\" y=\"64.797743\"/>\r\n      </g>\r\n     </g>\r\n     <g id=\"text_11\">\r\n      <!-- Ca -->\r\n      <defs>\r\n       <path d=\"M 64.40625 67.28125 \r\nL 64.40625 56.890625 \r\nQ 59.421875 61.53125 53.78125 63.8125 \r\nQ 48.140625 66.109375 41.796875 66.109375 \r\nQ 29.296875 66.109375 22.65625 58.46875 \r\nQ 16.015625 50.828125 16.015625 36.375 \r\nQ 16.015625 21.96875 22.65625 14.328125 \r\nQ 29.296875 6.6875 41.796875 6.6875 \r\nQ 48.140625 6.6875 53.78125 8.984375 \r\nQ 59.421875 11.28125 64.40625 15.921875 \r\nL 64.40625 5.609375 \r\nQ 59.234375 2.09375 53.4375 0.328125 \r\nQ 47.65625 -1.421875 41.21875 -1.421875 \r\nQ 24.65625 -1.421875 15.125 8.703125 \r\nQ 5.609375 18.84375 5.609375 36.375 \r\nQ 5.609375 53.953125 15.125 64.078125 \r\nQ 24.65625 74.21875 41.21875 74.21875 \r\nQ 47.75 74.21875 53.53125 72.484375 \r\nQ 59.328125 70.75 64.40625 67.28125 \r\nz\r\n\" id=\"DejaVuSans-67\"/>\r\n       <path d=\"M 34.28125 27.484375 \r\nQ 23.390625 27.484375 19.1875 25 \r\nQ 14.984375 22.515625 14.984375 16.5 \r\nQ 14.984375 11.71875 18.140625 8.90625 \r\nQ 21.296875 6.109375 26.703125 6.109375 \r\nQ 34.1875 6.109375 38.703125 11.40625 \r\nQ 43.21875 16.703125 43.21875 25.484375 \r\nL 43.21875 27.484375 \r\nz\r\nM 52.203125 31.203125 \r\nL 52.203125 0 \r\nL 43.21875 0 \r\nL 43.21875 8.296875 \r\nQ 40.140625 3.328125 35.546875 0.953125 \r\nQ 30.953125 -1.421875 24.3125 -1.421875 \r\nQ 15.921875 -1.421875 10.953125 3.296875 \r\nQ 6 8.015625 6 15.921875 \r\nQ 6 25.140625 12.171875 29.828125 \r\nQ 18.359375 34.515625 30.609375 34.515625 \r\nL 43.21875 34.515625 \r\nL 43.21875 35.40625 \r\nQ 43.21875 41.609375 39.140625 45 \r\nQ 35.0625 48.390625 27.6875 48.390625 \r\nQ 23 48.390625 18.546875 47.265625 \r\nQ 14.109375 46.140625 10.015625 43.890625 \r\nL 10.015625 52.203125 \r\nQ 14.9375 54.109375 19.578125 55.046875 \r\nQ 24.21875 56 28.609375 56 \r\nQ 40.484375 56 46.34375 49.84375 \r\nQ 52.203125 43.703125 52.203125 31.203125 \r\nz\r\n\" id=\"DejaVuSans-97\"/>\r\n      </defs>\r\n      <g transform=\"translate(9.065625 68.596962)scale(0.1 -0.1)\">\r\n       <use xlink:href=\"#DejaVuSans-67\"/>\r\n       <use x=\"69.824219\" xlink:href=\"#DejaVuSans-97\"/>\r\n      </g>\r\n     </g>\r\n    </g>\r\n    <g id=\"ytick_6\">\r\n     <g id=\"line2d_12\">\r\n      <g>\r\n       <use style=\"stroke:#000000;stroke-width:0.8;\" x=\"29.176563\" xlink:href=\"#m0f3a9a2123\" y=\"30.716238\"/>\r\n      </g>\r\n     </g>\r\n     <g id=\"text_12\">\r\n      <!-- Ba -->\r\n      <defs>\r\n       <path d=\"M 19.671875 34.8125 \r\nL 19.671875 8.109375 \r\nL 35.5 8.109375 \r\nQ 43.453125 8.109375 47.28125 11.40625 \r\nQ 51.125 14.703125 51.125 21.484375 \r\nQ 51.125 28.328125 47.28125 31.5625 \r\nQ 43.453125 34.8125 35.5 34.8125 \r\nz\r\nM 19.671875 64.796875 \r\nL 19.671875 42.828125 \r\nL 34.28125 42.828125 \r\nQ 41.5 42.828125 45.03125 45.53125 \r\nQ 48.578125 48.25 48.578125 53.8125 \r\nQ 48.578125 59.328125 45.03125 62.0625 \r\nQ 41.5 64.796875 34.28125 64.796875 \r\nz\r\nM 9.8125 72.90625 \r\nL 35.015625 72.90625 \r\nQ 46.296875 72.90625 52.390625 68.21875 \r\nQ 58.5 63.53125 58.5 54.890625 \r\nQ 58.5 48.1875 55.375 44.234375 \r\nQ 52.25 40.28125 46.1875 39.3125 \r\nQ 53.46875 37.75 57.5 32.78125 \r\nQ 61.53125 27.828125 61.53125 20.40625 \r\nQ 61.53125 10.640625 54.890625 5.3125 \r\nQ 48.25 0 35.984375 0 \r\nL 9.8125 0 \r\nz\r\n\" id=\"DejaVuSans-66\"/>\r\n      </defs>\r\n      <g transform=\"translate(9.1875 34.515457)scale(0.1 -0.1)\">\r\n       <use xlink:href=\"#DejaVuSans-66\"/>\r\n       <use x=\"68.603516\" xlink:href=\"#DejaVuSans-97\"/>\r\n      </g>\r\n     </g>\r\n    </g>\r\n   </g>\r\n   <g id=\"patch_9\">\r\n    <path d=\"M 29.176563 224.64 \r\nL 29.176563 7.2 \r\n\" style=\"fill:none;stroke:#000000;stroke-linecap:square;stroke-linejoin:miter;stroke-width:0.8;\"/>\r\n   </g>\r\n   <g id=\"patch_10\">\r\n    <path d=\"M 363.976562 224.64 \r\nL 363.976562 7.2 \r\n\" style=\"fill:none;stroke:#000000;stroke-linecap:square;stroke-linejoin:miter;stroke-width:0.8;\"/>\r\n   </g>\r\n   <g id=\"patch_11\">\r\n    <path d=\"M 29.176563 224.64 \r\nL 363.976562 224.64 \r\n\" style=\"fill:none;stroke:#000000;stroke-linecap:square;stroke-linejoin:miter;stroke-width:0.8;\"/>\r\n   </g>\r\n   <g id=\"patch_12\">\r\n    <path d=\"M 29.176563 7.2 \r\nL 363.976562 7.2 \r\n\" style=\"fill:none;stroke:#000000;stroke-linecap:square;stroke-linejoin:miter;stroke-width:0.8;\"/>\r\n   </g>\r\n  </g>\r\n </g>\r\n <defs>\r\n  <clipPath id=\"pf4927b933c\">\r\n   <rect height=\"217.44\" width=\"334.8\" x=\"29.176563\" y=\"7.2\"/>\r\n  </clipPath>\r\n </defs>\r\n</svg>\r\n",
      "image/png": "[encoded data removed]"
     },
     "metadata": {
      "needs_background": "light"
     }
    }
   ],
   "source": [
    "import matplotlib.pyplot as plt\n",
    "\n",
    "importance = np.asarray(importance)\n",
    "y_pos = np.nonzero(importance)[0]\n",
    "y_value = importance[y_pos]\n",
    "fig, ax = plt.subplots()\n",
    "ax.barh(np.arange(y_pos.shape[0]), y_value)\n",
    "ax.set_yticks(np.arange(y_pos.shape[0]))\n",
    "yticklabels = np.asarray(['RI', 'Na', 'Mg', 'Al', 'Si', 'K', 'Ca', 'Ba', 'Fe']) # glass\n",
    "#yticklabels = y_pos # ionosphere\n",
    "ax.set_yticklabels(yticklabels[y_pos])\n",
    "plt.show()"
   ]
  },
  {
   "cell_type": "markdown",
   "metadata": {},
   "source": [
    "## Others"
   ]
  },
  {
   "cell_type": "code",
   "execution_count": 41,
   "metadata": {
    "tags": []
   },
   "outputs": [
    {
     "output_type": "stream",
     "name": "stdout",
     "text": "[1, 0, 0, 1, 2, 1, 0, 2]\n"
    }
   ],
   "source": [
    "a = np.array(\n",
    "    [\n",
    "        [0, 0, 0, 1, 2, 2, 0, 2],\n",
    "        [1, 0, 0, 2, 2, 1, 2, 0],\n",
    "        [1, 0, 0, 1, 1, 1, 1, 2]\n",
    "    ]\n",
    ")\n",
    "b = list()\n",
    "for i in range(a.shape[1]):\n",
    "    u, c = np.unique(a[:,i], return_counts=True)\n",
    "    b.append(u[np.argmax(c)])\n",
    "print(b)"
   ]
  },
  {
   "cell_type": "code",
   "execution_count": null,
   "metadata": {},
   "outputs": [],
   "source": []
  }
 ],
 "metadata": {
  "language_info": {
   "codemirror_mode": {
    "name": "ipython",
    "version": 3
   },
   "file_extension": ".py",
   "mimetype": "text/x-python",
   "name": "python",
   "nbconvert_exporter": "python",
   "pygments_lexer": "ipython3",
   "version": "3.6.8-final"
  },
  "orig_nbformat": 2,
  "kernelspec": {
   "name": "python36864bit3a7d34f705ae4c60997f29f2c2e79403",
   "display_name": "Python 3.6.8 64-bit"
  }
 },
 "nbformat": 4,
 "nbformat_minor": 2
}